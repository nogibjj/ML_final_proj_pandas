{
 "cells": [
  {
   "cell_type": "markdown",
   "id": "c6ffbd85",
   "metadata": {
    "_cell_guid": "b1076dfc-b9ad-4769-8c92-a6c4dae69d19",
    "_uuid": "8f2839f25d086af736a60e9eeb907d3b93b6e0e5",
    "papermill": {
     "duration": 0.007009,
     "end_time": "2024-02-07T21:27:57.505355",
     "exception": false,
     "start_time": "2024-02-07T21:27:57.498346",
     "status": "completed"
    },
    "tags": []
   },
   "source": [
    "# Example Notebook\n",
    "\n",
    "Welcome to the example notebook for the Home Credit Kaggle competition. The goal of this competition is to determine how likely a customer is going to default on an issued loan. The main difference between the [first](https://www.kaggle.com/c/home-credit-default-risk) and this competition is that now your submission will be scored with a custom metric that will take into account how well the model performs in future. A decline in performance will be penalized. The goal is to create a model that is stable and performs well in the future.\n",
    "\n",
    "In this notebook you will see how to:\n",
    "* Load the data\n",
    "* Join tables with Polars - a DataFrame library implemented in Rust language, designed to be blazingy fast and memory efficient.  \n",
    "* Create simple aggregation features\n",
    "* Train a LightGBM model\n",
    "* Create a submission table\n",
    "\n",
    "## Load the data"
   ]
  },
  {
   "cell_type": "code",
   "execution_count": 17,
   "id": "00187238",
   "metadata": {
    "execution": {
     "iopub.execute_input": "2024-02-07T21:27:57.520412Z",
     "iopub.status.busy": "2024-02-07T21:27:57.520013Z",
     "iopub.status.idle": "2024-02-07T21:28:01.736666Z",
     "shell.execute_reply": "2024-02-07T21:28:01.735326Z"
    },
    "papermill": {
     "duration": 4.227484,
     "end_time": "2024-02-07T21:28:01.739621",
     "exception": false,
     "start_time": "2024-02-07T21:27:57.512137",
     "status": "completed"
    },
    "tags": []
   },
   "outputs": [],
   "source": [
    "import polars as pl\n",
    "import numpy as np\n",
    "import pandas as pd\n",
    "\n",
    "# import lightgbm as lgb\n",
    "from sklearn.model_selection import train_test_split\n",
    "from sklearn.metrics import roc_auc_score\n",
    "\n",
    "dataPath = \"/kaggle/input/home-credit-credit-risk-model-stability/\""
   ]
  },
  {
   "cell_type": "code",
   "execution_count": 18,
   "id": "14b1f90b",
   "metadata": {
    "execution": {
     "iopub.execute_input": "2024-02-07T21:28:01.755445Z",
     "iopub.status.busy": "2024-02-07T21:28:01.755022Z",
     "iopub.status.idle": "2024-02-07T21:28:01.764738Z",
     "shell.execute_reply": "2024-02-07T21:28:01.763428Z"
    },
    "papermill": {
     "duration": 0.020544,
     "end_time": "2024-02-07T21:28:01.767089",
     "exception": false,
     "start_time": "2024-02-07T21:28:01.746545",
     "status": "completed"
    },
    "tags": []
   },
   "outputs": [],
   "source": [
    "def set_table_dtypes(df: pl.DataFrame) -> pl.DataFrame:\n",
    "    # implement here all desired dtypes for tables\n",
    "    # the following is just an example\n",
    "    for col in df.columns:\n",
    "        # last letter of column name will help you determine the type\n",
    "        if col[-1] in (\"P\", \"A\"):\n",
    "            df = df.with_columns(pl.col(col).cast(pl.Float64).alias(col))\n",
    "\n",
    "    return df\n",
    "\n",
    "\n",
    "def convert_strings(df: pd.DataFrame) -> pd.DataFrame:\n",
    "    for col in df.columns:\n",
    "        if df[col].dtype.name in [\"object\", \"string\"]:\n",
    "            df[col] = df[col].astype(\"string\").astype(\"category\")\n",
    "            current_categories = df[col].cat.categories\n",
    "            new_categories = current_categories.to_list() + [\"Unknown\"]\n",
    "            new_dtype = pd.CategoricalDtype(categories=new_categories, ordered=True)\n",
    "            df[col] = df[col].astype(new_dtype)\n",
    "    return df"
   ]
  },
  {
   "cell_type": "code",
   "execution_count": 20,
   "id": "016b91f9",
   "metadata": {
    "execution": {
     "iopub.execute_input": "2024-02-07T21:28:01.782683Z",
     "iopub.status.busy": "2024-02-07T21:28:01.782161Z",
     "iopub.status.idle": "2024-02-07T21:28:20.978046Z",
     "shell.execute_reply": "2024-02-07T21:28:20.977092Z"
    },
    "papermill": {
     "duration": 19.207089,
     "end_time": "2024-02-07T21:28:20.980847",
     "exception": false,
     "start_time": "2024-02-07T21:28:01.773758",
     "status": "completed"
    },
    "tags": []
   },
   "outputs": [],
   "source": [
    "train_basetable = pl.read_csv(\"train_base.csv\")\n",
    "train_static = pl.concat(\n",
    "    [\n",
    "        pl.read_csv(\"train_static_0_0.csv\").pipe(set_table_dtypes),\n",
    "        pl.read_csv(\"train_static_0_1.csv\").pipe(set_table_dtypes),\n",
    "    ],\n",
    "    how=\"vertical_relaxed\",\n",
    ")\n",
    "train_static_cb = pl.read_csv(\"train_static_cb_0.csv\").pipe(set_table_dtypes)\n",
    "train_person_1 = pl.read_csv(\"train_person_1.csv\").pipe(set_table_dtypes)\n",
    "train_credit_bureau_b_2 = pl.read_csv(\"train_credit_bureau_b_2.csv\").pipe(\n",
    "    set_table_dtypes\n",
    ")"
   ]
  },
  {
   "cell_type": "code",
   "execution_count": 23,
   "id": "bf8d8336",
   "metadata": {
    "execution": {
     "iopub.execute_input": "2024-02-07T21:28:20.996615Z",
     "iopub.status.busy": "2024-02-07T21:28:20.995823Z",
     "iopub.status.idle": "2024-02-07T21:28:21.064631Z",
     "shell.execute_reply": "2024-02-07T21:28:21.063597Z"
    },
    "papermill": {
     "duration": 0.079736,
     "end_time": "2024-02-07T21:28:21.067361",
     "exception": false,
     "start_time": "2024-02-07T21:28:20.987625",
     "status": "completed"
    },
    "tags": []
   },
   "outputs": [],
   "source": [
    "test_basetable = pl.read_csv(\"test_base.csv\")\n",
    "test_static = pl.concat(\n",
    "    [\n",
    "        pl.read_csv(\"test_static_0_0.csv\").pipe(set_table_dtypes),\n",
    "        pl.read_csv(\"test_static_0_1.csv\").pipe(set_table_dtypes),\n",
    "        pl.read_csv(\"test_static_0_2.csv\").pipe(set_table_dtypes),\n",
    "    ],\n",
    "    how=\"vertical_relaxed\",\n",
    ")\n",
    "test_static_cb = pl.read_csv(\"test_static_cb_0.csv\").pipe(set_table_dtypes)\n",
    "test_person_1 = pl.read_csv(\"test_person_1.csv\").pipe(set_table_dtypes)\n",
    "test_credit_bureau_b_2 = pl.read_csv(\"test_credit_bureau_b_2.csv\").pipe(\n",
    "    set_table_dtypes\n",
    ")"
   ]
  },
  {
   "cell_type": "code",
   "execution_count": null,
   "id": "c16aa4e8",
   "metadata": {},
   "outputs": [],
   "source": [
    "#dictionary for meaningful column names\n",
    "\n",
    "column_names = {\n",
    "    \"mainoccupationinc_384A\": \"main_income_source\",\n",
    "    \"incometype_1044T\": \"income_type\",\n",
    "    \"NAME_CONTRACT_TYPE\": \"Contract Type\","
   ]
  },
  {
   "cell_type": "markdown",
   "id": "a93fe797",
   "metadata": {
    "papermill": {
     "duration": 0.006268,
     "end_time": "2024-02-07T21:28:21.080353",
     "exception": false,
     "start_time": "2024-02-07T21:28:21.074085",
     "status": "completed"
    },
    "tags": []
   },
   "source": [
    "## Feature engineering\n",
    "\n",
    "In this part, we can see a simple example of joining tables via `case_id`. Here the loading and joining is done with polars library. Polars library is blazingly fast and has much smaller memory footprint than pandas. "
   ]
  },
  {
   "cell_type": "code",
   "execution_count": 24,
   "id": "eed7be3e",
   "metadata": {
    "execution": {
     "iopub.execute_input": "2024-02-07T21:28:21.095200Z",
     "iopub.status.busy": "2024-02-07T21:28:21.094816Z",
     "iopub.status.idle": "2024-02-07T21:28:22.748078Z",
     "shell.execute_reply": "2024-02-07T21:28:22.747011Z"
    },
    "papermill": {
     "duration": 1.664029,
     "end_time": "2024-02-07T21:28:22.750906",
     "exception": false,
     "start_time": "2024-02-07T21:28:21.086877",
     "status": "completed"
    },
    "tags": []
   },
   "outputs": [
    {
     "name": "stdout",
     "output_type": "stream",
     "text": [
      "['amtinstpaidbefduel24m_4187115A', 'annuity_780A', 'annuitynextmonth_57A', 'avginstallast24m_3658937A', 'avglnamtstart24m_4525187A', 'avgoutstandbalancel6m_4187114A', 'avgpmtlast12m_4525200A', 'credamount_770A', 'currdebt_22A', 'currdebtcredtyperange_828A', 'disbursedcredamount_1113A', 'downpmt_116A', 'inittransactionamount_650A', 'lastapprcommoditycat_1041M', 'lastapprcommoditytypec_5251766M', 'lastapprcredamount_781A', 'lastcancelreason_561M', 'lastotherinc_902A', 'lastotherlnsexpense_631A', 'lastrejectcommoditycat_161M', 'lastrejectcommodtypec_5251769M', 'lastrejectcredamount_222A', 'lastrejectreason_759M', 'lastrejectreasonclient_4145040M', 'maininc_215A', 'maxannuity_159A', 'maxannuity_4075009A', 'maxdebt4_972A', 'maxinstallast24m_3658928A', 'maxlnamtstart6m_4525199A', 'maxoutstandbalancel12m_4187113A', 'maxpmtlast3m_4525190A', 'previouscontdistrict_112M', 'price_1097A', 'sumoutstandtotal_3546847A', 'sumoutstandtotalest_4493215A', 'totaldebt_9A', 'totalsettled_863A', 'totinstallast1m_4525188A']\n",
      "['description_5085714M', 'education_1103M', 'education_88M', 'maritalst_385M', 'maritalst_893M', 'pmtaverage_3A', 'pmtaverage_4527227A', 'pmtaverage_4955615A', 'pmtssum_45A']\n"
     ]
    }
   ],
   "source": [
    "# We need to use aggregation functions in tables with depth > 1, so tables that contain num_group1 column or\n",
    "# also num_group2 column.\n",
    "train_person_1_feats_1 = train_person_1.group_by(\"case_id\").agg(\n",
    "    pl.col(\"mainoccupationinc_384A\").max().alias(\"mainoccupationinc_384A_max\"),\n",
    "    (pl.col(\"incometype_1044T\") == \"SELFEMPLOYED\")\n",
    "    .max()\n",
    "    .alias(\"mainoccupationinc_384A_any_selfemployed\"),\n",
    ")\n",
    "\n",
    "# Here num_group1=0 has special meaning, it is the person who applied for the loan.\n",
    "train_person_1_feats_2 = (\n",
    "    train_person_1.select([\"case_id\", \"num_group1\", \"housetype_905L\"])\n",
    "    .filter(pl.col(\"num_group1\") == 0)\n",
    "    .drop(\"num_group1\")\n",
    "    .rename({\"housetype_905L\": \"person_housetype\"})\n",
    ")\n",
    "\n",
    "# Here we have num_goup1 and num_group2, so we need to aggregate again.\n",
    "train_credit_bureau_b_2_feats = train_credit_bureau_b_2.group_by(\"case_id\").agg(\n",
    "    pl.col(\"pmts_pmtsoverdue_635A\").max().alias(\"pmts_pmtsoverdue_635A_max\"),\n",
    "    (pl.col(\"pmts_dpdvalue_108P\") > 31).max().alias(\"pmts_dpdvalue_108P_over31\"),\n",
    ")\n",
    "\n",
    "# We will process in this examples only A-type and M-type columns, so we need to select them.\n",
    "selected_static_cols = []\n",
    "for col in train_static.columns:\n",
    "    if col[-1] in (\"A\", \"M\"):\n",
    "        selected_static_cols.append(col)\n",
    "print(selected_static_cols)\n",
    "\n",
    "selected_static_cb_cols = []\n",
    "for col in train_static_cb.columns:\n",
    "    if col[-1] in (\"A\", \"M\"):\n",
    "        selected_static_cb_cols.append(col)\n",
    "print(selected_static_cb_cols)\n",
    "\n",
    "# Join all tables together.\n",
    "data = (\n",
    "    train_basetable.join(\n",
    "        train_static.select([\"case_id\"] + selected_static_cols),\n",
    "        how=\"left\",\n",
    "        on=\"case_id\",\n",
    "    )\n",
    "    .join(\n",
    "        train_static_cb.select([\"case_id\"] + selected_static_cb_cols),\n",
    "        how=\"left\",\n",
    "        on=\"case_id\",\n",
    "    )\n",
    "    .join(train_person_1_feats_1, how=\"left\", on=\"case_id\")\n",
    "    .join(train_person_1_feats_2, how=\"left\", on=\"case_id\")\n",
    "    .join(train_credit_bureau_b_2_feats, how=\"left\", on=\"case_id\")\n",
    ")"
   ]
  },
  {
   "cell_type": "code",
   "execution_count": 49,
   "id": "825bfd49",
   "metadata": {},
   "outputs": [
    {
     "data": {
      "text/html": [
       "<div><style>\n",
       ".dataframe > thead > tr > th,\n",
       ".dataframe > tbody > tr > td {\n",
       "  text-align: right;\n",
       "  white-space: pre-wrap;\n",
       "}\n",
       "</style>\n",
       "<small>shape: (1, 58)</small><table border=\"1\" class=\"dataframe\"><thead><tr><th>case_id</th><th>date_decision</th><th>MONTH</th><th>WEEK_NUM</th><th>target</th><th>amtinstpaidbefduel24m_4187115A</th><th>annuity_780A</th><th>annuitynextmonth_57A</th><th>avginstallast24m_3658937A</th><th>avglnamtstart24m_4525187A</th><th>avgoutstandbalancel6m_4187114A</th><th>avgpmtlast12m_4525200A</th><th>credamount_770A</th><th>currdebt_22A</th><th>currdebtcredtyperange_828A</th><th>disbursedcredamount_1113A</th><th>downpmt_116A</th><th>inittransactionamount_650A</th><th>lastapprcommoditycat_1041M</th><th>lastapprcommoditytypec_5251766M</th><th>lastapprcredamount_781A</th><th>lastcancelreason_561M</th><th>lastotherinc_902A</th><th>lastotherlnsexpense_631A</th><th>lastrejectcommoditycat_161M</th><th>lastrejectcommodtypec_5251769M</th><th>lastrejectcredamount_222A</th><th>lastrejectreason_759M</th><th>lastrejectreasonclient_4145040M</th><th>maininc_215A</th><th>maxannuity_159A</th><th>maxannuity_4075009A</th><th>maxdebt4_972A</th><th>maxinstallast24m_3658928A</th><th>maxlnamtstart6m_4525199A</th><th>maxoutstandbalancel12m_4187113A</th><th>maxpmtlast3m_4525190A</th><th>previouscontdistrict_112M</th><th>price_1097A</th><th>sumoutstandtotal_3546847A</th><th>sumoutstandtotalest_4493215A</th><th>totaldebt_9A</th><th>totalsettled_863A</th><th>totinstallast1m_4525188A</th><th>description_5085714M</th><th>education_1103M</th><th>education_88M</th><th>maritalst_385M</th><th>maritalst_893M</th><th>pmtaverage_3A</th><th>pmtaverage_4527227A</th><th>pmtaverage_4955615A</th><th>pmtssum_45A</th><th>mainoccupationinc_384A_max</th><th>mainoccupationinc_384A_any_selfemployed</th><th>person_housetype</th><th>pmts_pmtsoverdue_635A_max</th><th>pmts_dpdvalue_108P_over31</th></tr><tr><td>i64</td><td>str</td><td>i64</td><td>i64</td><td>i64</td><td>f64</td><td>f64</td><td>f64</td><td>f64</td><td>f64</td><td>f64</td><td>f64</td><td>f64</td><td>f64</td><td>f64</td><td>f64</td><td>f64</td><td>f64</td><td>str</td><td>str</td><td>f64</td><td>str</td><td>f64</td><td>f64</td><td>str</td><td>str</td><td>f64</td><td>str</td><td>str</td><td>f64</td><td>f64</td><td>f64</td><td>f64</td><td>f64</td><td>f64</td><td>f64</td><td>f64</td><td>str</td><td>f64</td><td>f64</td><td>f64</td><td>f64</td><td>f64</td><td>f64</td><td>str</td><td>str</td><td>str</td><td>str</td><td>str</td><td>f64</td><td>f64</td><td>f64</td><td>f64</td><td>f64</td><td>bool</td><td>str</td><td>f64</td><td>bool</td></tr></thead><tbody><tr><td>405</td><td>&quot;2019-01-08&quot;</td><td>201901</td><td>1</td><td>0</td><td>null</td><td>10045.2</td><td>0.0</td><td>null</td><td>null</td><td>null</td><td>null</td><td>150000.0</td><td>0.0</td><td>0.0</td><td>150000.0</td><td>0.0</td><td>null</td><td>&quot;a55475b1&quot;</td><td>&quot;a55475b1&quot;</td><td>null</td><td>&quot;a55475b1&quot;</td><td>null</td><td>null</td><td>&quot;a55475b1&quot;</td><td>&quot;a55475b1&quot;</td><td>null</td><td>&quot;a55475b1&quot;</td><td>&quot;a55475b1&quot;</td><td>null</td><td>0.0</td><td>null</td><td>0.0</td><td>null</td><td>null</td><td>null</td><td>null</td><td>&quot;a55475b1&quot;</td><td>null</td><td>null</td><td>null</td><td>0.0</td><td>0.0</td><td>null</td><td>&quot;a55475b1&quot;</td><td>&quot;a55475b1&quot;</td><td>&quot;a55475b1&quot;</td><td>&quot;a55475b1&quot;</td><td>&quot;a55475b1&quot;</td><td>null</td><td>null</td><td>null</td><td>10498.24</td><td>73048.0</td><td>false</td><td>null</td><td>null</td><td>null</td></tr></tbody></table></div>"
      ],
      "text/plain": [
       "shape: (1, 58)\n",
       "┌─────────┬────────────┬────────┬──────────┬───┬────────────┬────────────┬────────────┬────────────┐\n",
       "│ case_id ┆ date_decis ┆ MONTH  ┆ WEEK_NUM ┆ … ┆ mainoccupa ┆ person_hou ┆ pmts_pmtso ┆ pmts_dpdva │\n",
       "│ ---     ┆ ion        ┆ ---    ┆ ---      ┆   ┆ tioninc_38 ┆ setype     ┆ verdue_635 ┆ lue_108P_o │\n",
       "│ i64     ┆ ---        ┆ i64    ┆ i64      ┆   ┆ 4A_any_sel ┆ ---        ┆ A_max      ┆ ver31      │\n",
       "│         ┆ str        ┆        ┆          ┆   ┆ fe…        ┆ str        ┆ ---        ┆ ---        │\n",
       "│         ┆            ┆        ┆          ┆   ┆ ---        ┆            ┆ f64        ┆ bool       │\n",
       "│         ┆            ┆        ┆          ┆   ┆ bool       ┆            ┆            ┆            │\n",
       "╞═════════╪════════════╪════════╪══════════╪═══╪════════════╪════════════╪════════════╪════════════╡\n",
       "│ 405     ┆ 2019-01-08 ┆ 201901 ┆ 1        ┆ … ┆ false      ┆ null       ┆ null       ┆ null       │\n",
       "└─────────┴────────────┴────────┴──────────┴───┴────────────┴────────────┴────────────┴────────────┘"
      ]
     },
     "execution_count": 49,
     "metadata": {},
     "output_type": "execute_result"
    }
   ],
   "source": [
    "# subset for where week is 0\n",
    "\n",
    "data_0 = data.filter(pl.col(\"case_id\") == 405)\n",
    "\n",
    "data_0"
   ]
  },
  {
   "cell_type": "code",
   "execution_count": 25,
   "id": "3cc4a29b",
   "metadata": {
    "execution": {
     "iopub.execute_input": "2024-02-07T21:28:22.766849Z",
     "iopub.status.busy": "2024-02-07T21:28:22.766164Z",
     "iopub.status.idle": "2024-02-07T21:28:22.780619Z",
     "shell.execute_reply": "2024-02-07T21:28:22.779457Z"
    },
    "papermill": {
     "duration": 0.025248,
     "end_time": "2024-02-07T21:28:22.783159",
     "exception": false,
     "start_time": "2024-02-07T21:28:22.757911",
     "status": "completed"
    },
    "tags": []
   },
   "outputs": [],
   "source": [
    "test_person_1_feats_1 = test_person_1.group_by(\"case_id\").agg(\n",
    "    pl.col(\"mainoccupationinc_384A\").max().alias(\"mainoccupationinc_384A_max\"),\n",
    "    (pl.col(\"incometype_1044T\") == \"SELFEMPLOYED\")\n",
    "    .max()\n",
    "    .alias(\"mainoccupationinc_384A_any_selfemployed\"),\n",
    ")\n",
    "\n",
    "test_person_1_feats_2 = (\n",
    "    test_person_1.select([\"case_id\", \"num_group1\", \"housetype_905L\"])\n",
    "    .filter(pl.col(\"num_group1\") == 0)\n",
    "    .drop(\"num_group1\")\n",
    "    .rename({\"housetype_905L\": \"person_housetype\"})\n",
    ")\n",
    "\n",
    "test_credit_bureau_b_2_feats = test_credit_bureau_b_2.group_by(\"case_id\").agg(\n",
    "    pl.col(\"pmts_pmtsoverdue_635A\").max().alias(\"pmts_pmtsoverdue_635A_max\"),\n",
    "    (pl.col(\"pmts_dpdvalue_108P\") > 31).max().alias(\"pmts_dpdvalue_108P_over31\"),\n",
    ")\n",
    "\n",
    "data_submission = (\n",
    "    test_basetable.join(\n",
    "        test_static.select([\"case_id\"] + selected_static_cols), how=\"left\", on=\"case_id\"\n",
    "    )\n",
    "    .join(\n",
    "        test_static_cb.select([\"case_id\"] + selected_static_cb_cols),\n",
    "        how=\"left\",\n",
    "        on=\"case_id\",\n",
    "    )\n",
    "    .join(test_person_1_feats_1, how=\"left\", on=\"case_id\")\n",
    "    .join(test_person_1_feats_2, how=\"left\", on=\"case_id\")\n",
    "    .join(test_credit_bureau_b_2_feats, how=\"left\", on=\"case_id\")\n",
    ")"
   ]
  },
  {
   "cell_type": "code",
   "execution_count": 37,
   "id": "4afa38bd",
   "metadata": {},
   "outputs": [
    {
     "data": {
      "text/html": [
       "<div><style>\n",
       ".dataframe > thead > tr > th,\n",
       ".dataframe > tbody > tr > td {\n",
       "  text-align: right;\n",
       "  white-space: pre-wrap;\n",
       "}\n",
       "</style>\n",
       "<small>shape: (10, 57)</small><table border=\"1\" class=\"dataframe\"><thead><tr><th>case_id</th><th>date_decision</th><th>MONTH</th><th>WEEK_NUM</th><th>amtinstpaidbefduel24m_4187115A</th><th>annuity_780A</th><th>annuitynextmonth_57A</th><th>avginstallast24m_3658937A</th><th>avglnamtstart24m_4525187A</th><th>avgoutstandbalancel6m_4187114A</th><th>avgpmtlast12m_4525200A</th><th>credamount_770A</th><th>currdebt_22A</th><th>currdebtcredtyperange_828A</th><th>disbursedcredamount_1113A</th><th>downpmt_116A</th><th>inittransactionamount_650A</th><th>lastapprcommoditycat_1041M</th><th>lastapprcommoditytypec_5251766M</th><th>lastapprcredamount_781A</th><th>lastcancelreason_561M</th><th>lastotherinc_902A</th><th>lastotherlnsexpense_631A</th><th>lastrejectcommoditycat_161M</th><th>lastrejectcommodtypec_5251769M</th><th>lastrejectcredamount_222A</th><th>lastrejectreason_759M</th><th>lastrejectreasonclient_4145040M</th><th>maininc_215A</th><th>maxannuity_159A</th><th>maxannuity_4075009A</th><th>maxdebt4_972A</th><th>maxinstallast24m_3658928A</th><th>maxlnamtstart6m_4525199A</th><th>maxoutstandbalancel12m_4187113A</th><th>maxpmtlast3m_4525190A</th><th>previouscontdistrict_112M</th><th>price_1097A</th><th>sumoutstandtotal_3546847A</th><th>sumoutstandtotalest_4493215A</th><th>totaldebt_9A</th><th>totalsettled_863A</th><th>totinstallast1m_4525188A</th><th>description_5085714M</th><th>education_1103M</th><th>education_88M</th><th>maritalst_385M</th><th>maritalst_893M</th><th>pmtaverage_3A</th><th>pmtaverage_4527227A</th><th>pmtaverage_4955615A</th><th>pmtssum_45A</th><th>mainoccupationinc_384A_max</th><th>mainoccupationinc_384A_any_selfemployed</th><th>person_housetype</th><th>pmts_pmtsoverdue_635A_max</th><th>pmts_dpdvalue_108P_over31</th></tr><tr><td>i64</td><td>str</td><td>i64</td><td>i64</td><td>f64</td><td>f64</td><td>f64</td><td>f64</td><td>f64</td><td>f64</td><td>f64</td><td>f64</td><td>f64</td><td>f64</td><td>f64</td><td>f64</td><td>f64</td><td>str</td><td>str</td><td>f64</td><td>str</td><td>f64</td><td>f64</td><td>str</td><td>str</td><td>f64</td><td>str</td><td>str</td><td>f64</td><td>f64</td><td>f64</td><td>f64</td><td>f64</td><td>f64</td><td>f64</td><td>f64</td><td>str</td><td>f64</td><td>f64</td><td>f64</td><td>f64</td><td>f64</td><td>f64</td><td>str</td><td>str</td><td>str</td><td>str</td><td>str</td><td>f64</td><td>f64</td><td>f64</td><td>f64</td><td>f64</td><td>bool</td><td>str</td><td>f64</td><td>bool</td></tr></thead><tbody><tr><td>57543</td><td>&quot;2021-05-14&quot;</td><td>202201</td><td>100</td><td>191767.36</td><td>3674.6</td><td>1218.2001</td><td>16049.4</td><td>17054.4</td><td>14554.4</td><td>24482.0</td><td>20000.0</td><td>12154.4</td><td>0.0</td><td>20000.0</td><td>0.0</td><td>null</td><td>&quot;a55475b1&quot;</td><td>&quot;a55475b1&quot;</td><td>14000.0</td><td>&quot;a55475b1&quot;</td><td>null</td><td>null</td><td>&quot;P109_133_183&quot;</td><td>&quot;P49_111_165&quot;</td><td>24000.0</td><td>&quot;a55475b1&quot;</td><td>&quot;a55475b1&quot;</td><td>34000.0</td><td>280983.56</td><td>null</td><td>231440.03</td><td>131700.8</td><td>16672.6</td><td>157731.78</td><td>16641.4</td><td>&quot;a55475b1&quot;</td><td>0.0</td><td>12154.4</td><td>12154.4</td><td>12154.4</td><td>456031.1</td><td>17859.6</td><td>&quot;2fc785b2&quot;</td><td>&quot;6b2ae0fa&quot;</td><td>&quot;a55475b1&quot;</td><td>&quot;38c061ee&quot;</td><td>&quot;a55475b1&quot;</td><td>null</td><td>null</td><td>null</td><td>null</td><td>34000.0</td><td>false</td><td>null</td><td>null</td><td>null</td></tr><tr><td>57549</td><td>&quot;2022-01-17&quot;</td><td>202201</td><td>100</td><td>129704.4</td><td>5742.6</td><td>3546.6</td><td>32426.201</td><td>118964.805</td><td>13681.714</td><td>32426.201</td><td>75000.0</td><td>10638.2</td><td>10638.2</td><td>75000.0</td><td>0.0</td><td>null</td><td>&quot;a55475b1&quot;</td><td>&quot;a55475b1&quot;</td><td>94000.0</td><td>&quot;a55475b1&quot;</td><td>null</td><td>null</td><td>&quot;a55475b1&quot;</td><td>&quot;a55475b1&quot;</td><td>160000.0</td><td>&quot;a55475b1&quot;</td><td>&quot;P30_86_84&quot;</td><td>44000.0</td><td>337659.8</td><td>null</td><td>34066.0</td><td>122511.4</td><td>31820.6</td><td>21278.0</td><td>122511.4</td><td>&quot;a55475b1&quot;</td><td>null</td><td>10638.2</td><td>10638.2</td><td>10638.2</td><td>373720.84</td><td>126058.0</td><td>&quot;2fc785b2&quot;</td><td>&quot;39a0853f&quot;</td><td>&quot;a55475b1&quot;</td><td>&quot;a7fcb6e5&quot;</td><td>&quot;a55475b1&quot;</td><td>null</td><td>null</td><td>26815.6</td><td>null</td><td>49800.0</td><td>false</td><td>null</td><td>null</td><td>null</td></tr><tr><td>57551</td><td>&quot;2020-11-27&quot;</td><td>202201</td><td>100</td><td>71036.4</td><td>2844.6</td><td>0.0</td><td>8357.2</td><td>null</td><td>0.0</td><td>9551.0</td><td>27095.201</td><td>0.0</td><td>0.0</td><td>27095.201</td><td>0.0</td><td>null</td><td>&quot;a55475b1&quot;</td><td>&quot;a55475b1&quot;</td><td>200000.0</td><td>&quot;P85_114_140&quot;</td><td>null</td><td>null</td><td>&quot;a55475b1&quot;</td><td>&quot;a55475b1&quot;</td><td>null</td><td>&quot;a55475b1&quot;</td><td>&quot;a55475b1&quot;</td><td>70000.0</td><td>83400.0</td><td>null</td><td>54000.0</td><td>41783.402</td><td>54000.0</td><td>62619.0</td><td>null</td><td>&quot;P11_36_178&quot;</td><td>27095.201</td><td>0.0</td><td>0.0</td><td>0.0</td><td>75219.0</td><td>null</td><td>&quot;2fc785b2&quot;</td><td>&quot;6b2ae0fa&quot;</td><td>&quot;a55475b1&quot;</td><td>&quot;3439d993&quot;</td><td>&quot;a55475b1&quot;</td><td>null</td><td>null</td><td>null</td><td>null</td><td>59600.0</td><td>false</td><td>null</td><td>null</td><td>null</td></tr><tr><td>57552</td><td>&quot;2020-11-27&quot;</td><td>202201</td><td>100</td><td>183992.0</td><td>6298.8003</td><td>12155.4</td><td>7440.4</td><td>null</td><td>199322.4</td><td>9148.4</td><td>100000.0</td><td>191269.61</td><td>191269.61</td><td>100000.0</td><td>0.0</td><td>null</td><td>&quot;a55475b1&quot;</td><td>&quot;a55475b1&quot;</td><td>0.0</td><td>&quot;P94_109_143&quot;</td><td>null</td><td>null</td><td>&quot;a55475b1&quot;</td><td>&quot;a55475b1&quot;</td><td>150000.0</td><td>&quot;a55475b1&quot;</td><td>&quot;P94_109_143&quot;</td><td>null</td><td>110500.0</td><td>null</td><td>188126.14</td><td>12155.4</td><td>104473.6</td><td>288642.6</td><td>12155.4</td><td>&quot;P21_87_50&quot;</td><td>null</td><td>191269.61</td><td>191269.61</td><td>191269.61</td><td>284213.0</td><td>18889.0</td><td>&quot;2fc785b2&quot;</td><td>&quot;a55475b1&quot;</td><td>&quot;a55475b1&quot;</td><td>&quot;a55475b1&quot;</td><td>&quot;a55475b1&quot;</td><td>null</td><td>null</td><td>23402.8</td><td>null</td><td>112000.0</td><td>false</td><td>&quot;OWNED&quot;</td><td>null</td><td>null</td></tr><tr><td>57569</td><td>&quot;2021-12-20&quot;</td><td>202201</td><td>100</td><td>0.0</td><td>4682.6</td><td>0.0</td><td>null</td><td>null</td><td>null</td><td>10796.4</td><td>60000.0</td><td>0.0</td><td>0.0</td><td>60000.0</td><td>0.0</td><td>null</td><td>&quot;a55475b1&quot;</td><td>&quot;a55475b1&quot;</td><td>20000.0</td><td>&quot;P94_109_143&quot;</td><td>null</td><td>null</td><td>&quot;a55475b1&quot;</td><td>&quot;a55475b1&quot;</td><td>40000.0</td><td>&quot;a55475b1&quot;</td><td>&quot;P94_109_143&quot;</td><td>6000.0</td><td>37704.0</td><td>null</td><td>64555.668</td><td>null</td><td>null</td><td>0.0</td><td>null</td><td>&quot;a55475b1&quot;</td><td>null</td><td>0.0</td><td>0.0</td><td>0.0</td><td>95348.42</td><td>null</td><td>&quot;2fc785b2&quot;</td><td>&quot;717ddd49&quot;</td><td>&quot;a55475b1&quot;</td><td>&quot;3439d993&quot;</td><td>&quot;a55475b1&quot;</td><td>null</td><td>null</td><td>17333.6</td><td>null</td><td>58000.0</td><td>false</td><td>&quot;OWNED&quot;</td><td>null</td><td>null</td></tr><tr><td>57630</td><td>&quot;2021-03-16&quot;</td><td>202201</td><td>100</td><td>0.0</td><td>8905.0</td><td>0.0</td><td>null</td><td>null</td><td>null</td><td>null</td><td>96174.0</td><td>0.0</td><td>0.0</td><td>96174.0</td><td>0.0</td><td>null</td><td>&quot;P148_110_5&quot;</td><td>&quot;P161_88_182&quot;</td><td>8876.0</td><td>&quot;P198_89_166&quot;</td><td>null</td><td>null</td><td>&quot;a55475b1&quot;</td><td>&quot;a55475b1&quot;</td><td>null</td><td>&quot;a55475b1&quot;</td><td>&quot;a55475b1&quot;</td><td>12000.0</td><td>1382.8</td><td>null</td><td>0.0</td><td>null</td><td>null</td><td>null</td><td>null</td><td>&quot;a55475b1&quot;</td><td>96174.0</td><td>0.0</td><td>0.0</td><td>0.0</td><td>9677.601</td><td>null</td><td>&quot;2fc785b2&quot;</td><td>&quot;6b2ae0fa&quot;</td><td>&quot;a55475b1&quot;</td><td>&quot;3439d993&quot;</td><td>&quot;a55475b1&quot;</td><td>null</td><td>null</td><td>null</td><td>null</td><td>60000.0</td><td>false</td><td>&quot;OWNED&quot;</td><td>null</td><td>null</td></tr><tr><td>57631</td><td>&quot;2022-06-04&quot;</td><td>202201</td><td>100</td><td>null</td><td>2540.6</td><td>0.0</td><td>null</td><td>null</td><td>null</td><td>null</td><td>24920.0</td><td>0.0</td><td>0.0</td><td>24920.0</td><td>0.0</td><td>null</td><td>&quot;a55475b1&quot;</td><td>&quot;a55475b1&quot;</td><td>null</td><td>&quot;P94_109_143&quot;</td><td>null</td><td>null</td><td>&quot;P100_96_175&quot;</td><td>&quot;P165_57_169&quot;</td><td>46279.8</td><td>&quot;P45_84_106&quot;</td><td>&quot;P94_109_143&quot;</td><td>null</td><td>0.0</td><td>null</td><td>0.0</td><td>null</td><td>null</td><td>null</td><td>null</td><td>&quot;a55475b1&quot;</td><td>24920.0</td><td>null</td><td>null</td><td>0.0</td><td>0.0</td><td>null</td><td>&quot;2fc785b2&quot;</td><td>&quot;a55475b1&quot;</td><td>&quot;a55475b1&quot;</td><td>&quot;a55475b1&quot;</td><td>&quot;a55475b1&quot;</td><td>null</td><td>null</td><td>null</td><td>null</td><td>null</td><td>null</td><td>null</td><td>null</td><td>null</td></tr><tr><td>57632</td><td>&quot;2022-02-05&quot;</td><td>202201</td><td>100</td><td>63647.402</td><td>4732.0</td><td>0.0</td><td>3536.0</td><td>null</td><td>10581.714</td><td>3536.0</td><td>25998.0</td><td>0.0</td><td>0.0</td><td>25998.0</td><td>0.0</td><td>null</td><td>&quot;P53_45_92&quot;</td><td>&quot;P200_75_140&quot;</td><td>50116.0</td><td>&quot;a55475b1&quot;</td><td>null</td><td>null</td><td>&quot;a55475b1&quot;</td><td>&quot;a55475b1&quot;</td><td>null</td><td>&quot;a55475b1&quot;</td><td>&quot;a55475b1&quot;</td><td>56000.0</td><td>7000.0</td><td>null</td><td>63647.402</td><td>3536.0</td><td>63647.402</td><td>42412.0</td><td>3536.0</td><td>&quot;P159_143_123&quot;</td><td>25998.0</td><td>0.0</td><td>0.0</td><td>0.0</td><td>63652.0</td><td>7071.4</td><td>&quot;2fc785b2&quot;</td><td>&quot;a55475b1&quot;</td><td>&quot;a55475b1&quot;</td><td>&quot;a55475b1&quot;</td><td>&quot;a55475b1&quot;</td><td>null</td><td>null</td><td>15841.2</td><td>null</td><td>null</td><td>null</td><td>null</td><td>null</td><td>null</td></tr><tr><td>57633</td><td>&quot;2022-01-25&quot;</td><td>202201</td><td>100</td><td>null</td><td>8273.0</td><td>0.0</td><td>null</td><td>null</td><td>null</td><td>null</td><td>200000.0</td><td>0.0</td><td>0.0</td><td>200000.0</td><td>0.0</td><td>null</td><td>&quot;a55475b1&quot;</td><td>&quot;a55475b1&quot;</td><td>null</td><td>&quot;P85_114_140&quot;</td><td>null</td><td>null</td><td>&quot;P159_130_59&quot;</td><td>&quot;P75_90_70&quot;</td><td>64996.0</td><td>&quot;P45_84_106&quot;</td><td>&quot;P94_109_143&quot;</td><td>null</td><td>0.0</td><td>null</td><td>0.0</td><td>null</td><td>null</td><td>null</td><td>null</td><td>&quot;a55475b1&quot;</td><td>0.0</td><td>null</td><td>null</td><td>0.0</td><td>0.0</td><td>null</td><td>&quot;2fc785b2&quot;</td><td>&quot;a55475b1&quot;</td><td>&quot;a55475b1&quot;</td><td>&quot;3439d993&quot;</td><td>&quot;a55475b1&quot;</td><td>null</td><td>null</td><td>null</td><td>null</td><td>null</td><td>null</td><td>null</td><td>null</td><td>null</td></tr><tr><td>57634</td><td>&quot;2021-01-27&quot;</td><td>202201</td><td>100</td><td>39948.8</td><td>1165.8</td><td>0.0</td><td>3994.8</td><td>null</td><td>1675.4</td><td>3358.4001</td><td>12108.2</td><td>0.0</td><td>0.0</td><td>12108.2</td><td>0.0</td><td>null</td><td>&quot;P159_130_59&quot;</td><td>&quot;P174_113_42&quot;</td><td>16494.201</td><td>&quot;a55475b1&quot;</td><td>null</td><td>null</td><td>&quot;a55475b1&quot;</td><td>&quot;a55475b1&quot;</td><td>null</td><td>&quot;a55475b1&quot;</td><td>&quot;a55475b1&quot;</td><td>50000.0</td><td>5000.0</td><td>null</td><td>19798.0</td><td>4949.6</td><td>20887.201</td><td>20150.8</td><td>null</td><td>&quot;a55475b1&quot;</td><td>13998.0</td><td>0.0</td><td>0.0</td><td>0.0</td><td>39950.8</td><td>null</td><td>&quot;2fc785b2&quot;</td><td>&quot;a55475b1&quot;</td><td>&quot;a55475b1&quot;</td><td>&quot;a55475b1&quot;</td><td>&quot;a55475b1&quot;</td><td>null</td><td>null</td><td>null</td><td>null</td><td>null</td><td>null</td><td>null</td><td>null</td><td>null</td></tr></tbody></table></div>"
      ],
      "text/plain": [
       "shape: (10, 57)\n",
       "┌─────────┬────────────┬────────┬──────────┬───┬────────────┬────────────┬────────────┬────────────┐\n",
       "│ case_id ┆ date_decis ┆ MONTH  ┆ WEEK_NUM ┆ … ┆ mainoccupa ┆ person_hou ┆ pmts_pmtso ┆ pmts_dpdva │\n",
       "│ ---     ┆ ion        ┆ ---    ┆ ---      ┆   ┆ tioninc_38 ┆ setype     ┆ verdue_635 ┆ lue_108P_o │\n",
       "│ i64     ┆ ---        ┆ i64    ┆ i64      ┆   ┆ 4A_any_sel ┆ ---        ┆ A_max      ┆ ver31      │\n",
       "│         ┆ str        ┆        ┆          ┆   ┆ fe…        ┆ str        ┆ ---        ┆ ---        │\n",
       "│         ┆            ┆        ┆          ┆   ┆ ---        ┆            ┆ f64        ┆ bool       │\n",
       "│         ┆            ┆        ┆          ┆   ┆ bool       ┆            ┆            ┆            │\n",
       "╞═════════╪════════════╪════════╪══════════╪═══╪════════════╪════════════╪════════════╪════════════╡\n",
       "│ 57543   ┆ 2021-05-14 ┆ 202201 ┆ 100      ┆ … ┆ false      ┆ null       ┆ null       ┆ null       │\n",
       "│ 57549   ┆ 2022-01-17 ┆ 202201 ┆ 100      ┆ … ┆ false      ┆ null       ┆ null       ┆ null       │\n",
       "│ 57551   ┆ 2020-11-27 ┆ 202201 ┆ 100      ┆ … ┆ false      ┆ null       ┆ null       ┆ null       │\n",
       "│ 57552   ┆ 2020-11-27 ┆ 202201 ┆ 100      ┆ … ┆ false      ┆ OWNED      ┆ null       ┆ null       │\n",
       "│ …       ┆ …          ┆ …      ┆ …        ┆ … ┆ …          ┆ …          ┆ …          ┆ …          │\n",
       "│ 57631   ┆ 2022-06-04 ┆ 202201 ┆ 100      ┆ … ┆ null       ┆ null       ┆ null       ┆ null       │\n",
       "│ 57632   ┆ 2022-02-05 ┆ 202201 ┆ 100      ┆ … ┆ null       ┆ null       ┆ null       ┆ null       │\n",
       "│ 57633   ┆ 2022-01-25 ┆ 202201 ┆ 100      ┆ … ┆ null       ┆ null       ┆ null       ┆ null       │\n",
       "│ 57634   ┆ 2021-01-27 ┆ 202201 ┆ 100      ┆ … ┆ null       ┆ null       ┆ null       ┆ null       │\n",
       "└─────────┴────────────┴────────┴──────────┴───┴────────────┴────────────┴────────────┴────────────┘"
      ]
     },
     "execution_count": 37,
     "metadata": {},
     "output_type": "execute_result"
    }
   ],
   "source": [
    "data_submission"
   ]
  },
  {
   "cell_type": "code",
   "execution_count": 26,
   "id": "7195e82a",
   "metadata": {
    "execution": {
     "iopub.execute_input": "2024-02-07T21:28:22.798812Z",
     "iopub.status.busy": "2024-02-07T21:28:22.798415Z",
     "iopub.status.idle": "2024-02-07T21:28:32.218372Z",
     "shell.execute_reply": "2024-02-07T21:28:32.217254Z"
    },
    "papermill": {
     "duration": 9.431294,
     "end_time": "2024-02-07T21:28:32.221469",
     "exception": false,
     "start_time": "2024-02-07T21:28:22.790175",
     "status": "completed"
    },
    "tags": []
   },
   "outputs": [
    {
     "name": "stdout",
     "output_type": "stream",
     "text": [
      "['amtinstpaidbefduel24m_4187115A', 'annuity_780A', 'annuitynextmonth_57A', 'avginstallast24m_3658937A', 'avglnamtstart24m_4525187A', 'avgoutstandbalancel6m_4187114A', 'avgpmtlast12m_4525200A', 'credamount_770A', 'currdebt_22A', 'currdebtcredtyperange_828A', 'disbursedcredamount_1113A', 'downpmt_116A', 'inittransactionamount_650A', 'lastapprcommoditycat_1041M', 'lastapprcommoditytypec_5251766M', 'lastapprcredamount_781A', 'lastcancelreason_561M', 'lastotherinc_902A', 'lastotherlnsexpense_631A', 'lastrejectcommoditycat_161M', 'lastrejectcommodtypec_5251769M', 'lastrejectcredamount_222A', 'lastrejectreason_759M', 'lastrejectreasonclient_4145040M', 'maininc_215A', 'maxannuity_159A', 'maxannuity_4075009A', 'maxdebt4_972A', 'maxinstallast24m_3658928A', 'maxlnamtstart6m_4525199A', 'maxoutstandbalancel12m_4187113A', 'maxpmtlast3m_4525190A', 'previouscontdistrict_112M', 'price_1097A', 'sumoutstandtotal_3546847A', 'sumoutstandtotalest_4493215A', 'totaldebt_9A', 'totalsettled_863A', 'totinstallast1m_4525188A', 'description_5085714M', 'education_1103M', 'education_88M', 'maritalst_385M', 'maritalst_893M', 'pmtaverage_3A', 'pmtaverage_4527227A', 'pmtaverage_4955615A', 'pmtssum_45A']\n"
     ]
    }
   ],
   "source": [
    "case_ids = data[\"case_id\"].unique().shuffle(seed=1)\n",
    "case_ids_train, case_ids_test = train_test_split(\n",
    "    case_ids, train_size=0.6, random_state=1\n",
    ")\n",
    "case_ids_valid, case_ids_test = train_test_split(\n",
    "    case_ids_test, train_size=0.5, random_state=1\n",
    ")\n",
    "\n",
    "cols_pred = []\n",
    "for col in data.columns:\n",
    "    if col[-1].isupper() and col[:-1].islower():\n",
    "        cols_pred.append(col)\n",
    "\n",
    "print(cols_pred)\n",
    "\n",
    "\n",
    "def from_polars_to_pandas(case_ids: pl.DataFrame) -> pl.DataFrame:\n",
    "    return (\n",
    "        data.filter(pl.col(\"case_id\").is_in(case_ids))[\n",
    "            [\"case_id\", \"WEEK_NUM\", \"target\"]\n",
    "        ].to_pandas(),\n",
    "        data.filter(pl.col(\"case_id\").is_in(case_ids))[cols_pred].to_pandas(),\n",
    "        data.filter(pl.col(\"case_id\").is_in(case_ids))[\"target\"].to_pandas(),\n",
    "    )\n",
    "\n",
    "\n",
    "base_train, X_train, y_train = from_polars_to_pandas(case_ids_train)\n",
    "base_valid, X_valid, y_valid = from_polars_to_pandas(case_ids_valid)\n",
    "base_test, X_test, y_test = from_polars_to_pandas(case_ids_test)\n",
    "\n",
    "for df in [X_train, X_valid, X_test]:\n",
    "    df = convert_strings(df)"
   ]
  },
  {
   "cell_type": "code",
   "execution_count": 33,
   "id": "3ab7e51f",
   "metadata": {},
   "outputs": [
    {
     "data": {
      "text/html": [
       "<div>\n",
       "<style scoped>\n",
       "    .dataframe tbody tr th:only-of-type {\n",
       "        vertical-align: middle;\n",
       "    }\n",
       "\n",
       "    .dataframe tbody tr th {\n",
       "        vertical-align: top;\n",
       "    }\n",
       "\n",
       "    .dataframe thead th {\n",
       "        text-align: right;\n",
       "    }\n",
       "</style>\n",
       "<table border=\"1\" class=\"dataframe\">\n",
       "  <thead>\n",
       "    <tr style=\"text-align: right;\">\n",
       "      <th></th>\n",
       "      <th>amtinstpaidbefduel24m_4187115A</th>\n",
       "      <th>annuity_780A</th>\n",
       "      <th>annuitynextmonth_57A</th>\n",
       "      <th>avginstallast24m_3658937A</th>\n",
       "      <th>avglnamtstart24m_4525187A</th>\n",
       "      <th>avgoutstandbalancel6m_4187114A</th>\n",
       "      <th>avgpmtlast12m_4525200A</th>\n",
       "      <th>credamount_770A</th>\n",
       "      <th>currdebt_22A</th>\n",
       "      <th>currdebtcredtyperange_828A</th>\n",
       "      <th>...</th>\n",
       "      <th>totinstallast1m_4525188A</th>\n",
       "      <th>description_5085714M</th>\n",
       "      <th>education_1103M</th>\n",
       "      <th>education_88M</th>\n",
       "      <th>maritalst_385M</th>\n",
       "      <th>maritalst_893M</th>\n",
       "      <th>pmtaverage_3A</th>\n",
       "      <th>pmtaverage_4527227A</th>\n",
       "      <th>pmtaverage_4955615A</th>\n",
       "      <th>pmtssum_45A</th>\n",
       "    </tr>\n",
       "  </thead>\n",
       "  <tbody>\n",
       "    <tr>\n",
       "      <th>0</th>\n",
       "      <td>NaN</td>\n",
       "      <td>1917.6000</td>\n",
       "      <td>0.0</td>\n",
       "      <td>NaN</td>\n",
       "      <td>NaN</td>\n",
       "      <td>NaN</td>\n",
       "      <td>NaN</td>\n",
       "      <td>30000.0</td>\n",
       "      <td>0.0</td>\n",
       "      <td>0.0</td>\n",
       "      <td>...</td>\n",
       "      <td>NaN</td>\n",
       "      <td>NaN</td>\n",
       "      <td>NaN</td>\n",
       "      <td>NaN</td>\n",
       "      <td>NaN</td>\n",
       "      <td>NaN</td>\n",
       "      <td>NaN</td>\n",
       "      <td>NaN</td>\n",
       "      <td>NaN</td>\n",
       "      <td>NaN</td>\n",
       "    </tr>\n",
       "    <tr>\n",
       "      <th>1</th>\n",
       "      <td>NaN</td>\n",
       "      <td>4937.0000</td>\n",
       "      <td>0.0</td>\n",
       "      <td>NaN</td>\n",
       "      <td>NaN</td>\n",
       "      <td>NaN</td>\n",
       "      <td>NaN</td>\n",
       "      <td>78000.0</td>\n",
       "      <td>0.0</td>\n",
       "      <td>0.0</td>\n",
       "      <td>...</td>\n",
       "      <td>NaN</td>\n",
       "      <td>NaN</td>\n",
       "      <td>NaN</td>\n",
       "      <td>NaN</td>\n",
       "      <td>NaN</td>\n",
       "      <td>NaN</td>\n",
       "      <td>NaN</td>\n",
       "      <td>NaN</td>\n",
       "      <td>NaN</td>\n",
       "      <td>NaN</td>\n",
       "    </tr>\n",
       "    <tr>\n",
       "      <th>2</th>\n",
       "      <td>NaN</td>\n",
       "      <td>3600.0000</td>\n",
       "      <td>0.0</td>\n",
       "      <td>NaN</td>\n",
       "      <td>NaN</td>\n",
       "      <td>NaN</td>\n",
       "      <td>NaN</td>\n",
       "      <td>60000.0</td>\n",
       "      <td>0.0</td>\n",
       "      <td>0.0</td>\n",
       "      <td>...</td>\n",
       "      <td>NaN</td>\n",
       "      <td>NaN</td>\n",
       "      <td>NaN</td>\n",
       "      <td>NaN</td>\n",
       "      <td>NaN</td>\n",
       "      <td>NaN</td>\n",
       "      <td>NaN</td>\n",
       "      <td>NaN</td>\n",
       "      <td>NaN</td>\n",
       "      <td>NaN</td>\n",
       "    </tr>\n",
       "    <tr>\n",
       "      <th>3</th>\n",
       "      <td>NaN</td>\n",
       "      <td>3110.8000</td>\n",
       "      <td>0.0</td>\n",
       "      <td>NaN</td>\n",
       "      <td>NaN</td>\n",
       "      <td>NaN</td>\n",
       "      <td>NaN</td>\n",
       "      <td>20000.0</td>\n",
       "      <td>0.0</td>\n",
       "      <td>0.0</td>\n",
       "      <td>...</td>\n",
       "      <td>NaN</td>\n",
       "      <td>NaN</td>\n",
       "      <td>NaN</td>\n",
       "      <td>NaN</td>\n",
       "      <td>NaN</td>\n",
       "      <td>NaN</td>\n",
       "      <td>NaN</td>\n",
       "      <td>NaN</td>\n",
       "      <td>NaN</td>\n",
       "      <td>NaN</td>\n",
       "    </tr>\n",
       "    <tr>\n",
       "      <th>4</th>\n",
       "      <td>NaN</td>\n",
       "      <td>1218.0000</td>\n",
       "      <td>0.0</td>\n",
       "      <td>NaN</td>\n",
       "      <td>NaN</td>\n",
       "      <td>NaN</td>\n",
       "      <td>NaN</td>\n",
       "      <td>20300.0</td>\n",
       "      <td>0.0</td>\n",
       "      <td>0.0</td>\n",
       "      <td>...</td>\n",
       "      <td>NaN</td>\n",
       "      <td>NaN</td>\n",
       "      <td>NaN</td>\n",
       "      <td>NaN</td>\n",
       "      <td>NaN</td>\n",
       "      <td>NaN</td>\n",
       "      <td>NaN</td>\n",
       "      <td>NaN</td>\n",
       "      <td>NaN</td>\n",
       "      <td>NaN</td>\n",
       "    </tr>\n",
       "    <tr>\n",
       "      <th>...</th>\n",
       "      <td>...</td>\n",
       "      <td>...</td>\n",
       "      <td>...</td>\n",
       "      <td>...</td>\n",
       "      <td>...</td>\n",
       "      <td>...</td>\n",
       "      <td>...</td>\n",
       "      <td>...</td>\n",
       "      <td>...</td>\n",
       "      <td>...</td>\n",
       "      <td>...</td>\n",
       "      <td>...</td>\n",
       "      <td>...</td>\n",
       "      <td>...</td>\n",
       "      <td>...</td>\n",
       "      <td>...</td>\n",
       "      <td>...</td>\n",
       "      <td>...</td>\n",
       "      <td>...</td>\n",
       "      <td>...</td>\n",
       "      <td>...</td>\n",
       "    </tr>\n",
       "    <tr>\n",
       "      <th>915990</th>\n",
       "      <td>104557.25</td>\n",
       "      <td>8218.0000</td>\n",
       "      <td>5293.2</td>\n",
       "      <td>8027.2000</td>\n",
       "      <td>NaN</td>\n",
       "      <td>23399.828</td>\n",
       "      <td>5293.2</td>\n",
       "      <td>132000.0</td>\n",
       "      <td>10548.4</td>\n",
       "      <td>10548.4</td>\n",
       "      <td>...</td>\n",
       "      <td>10586.400</td>\n",
       "      <td>2fc785b2</td>\n",
       "      <td>a55475b1</td>\n",
       "      <td>a55475b1</td>\n",
       "      <td>a55475b1</td>\n",
       "      <td>a55475b1</td>\n",
       "      <td>NaN</td>\n",
       "      <td>NaN</td>\n",
       "      <td>NaN</td>\n",
       "      <td>NaN</td>\n",
       "    </tr>\n",
       "    <tr>\n",
       "      <th>915991</th>\n",
       "      <td>176561.36</td>\n",
       "      <td>3675.4001</td>\n",
       "      <td>0.0</td>\n",
       "      <td>7356.8003</td>\n",
       "      <td>NaN</td>\n",
       "      <td>16392.496</td>\n",
       "      <td>6750.2</td>\n",
       "      <td>30000.0</td>\n",
       "      <td>0.0</td>\n",
       "      <td>0.0</td>\n",
       "      <td>...</td>\n",
       "      <td>14346.319</td>\n",
       "      <td>2fc785b2</td>\n",
       "      <td>a55475b1</td>\n",
       "      <td>a55475b1</td>\n",
       "      <td>a55475b1</td>\n",
       "      <td>a55475b1</td>\n",
       "      <td>NaN</td>\n",
       "      <td>NaN</td>\n",
       "      <td>12155.0</td>\n",
       "      <td>NaN</td>\n",
       "    </tr>\n",
       "    <tr>\n",
       "      <th>915992</th>\n",
       "      <td>14232.40</td>\n",
       "      <td>7788.8003</td>\n",
       "      <td>0.0</td>\n",
       "      <td>2662.4001</td>\n",
       "      <td>NaN</td>\n",
       "      <td>NaN</td>\n",
       "      <td>1500.6</td>\n",
       "      <td>60000.0</td>\n",
       "      <td>0.0</td>\n",
       "      <td>0.0</td>\n",
       "      <td>...</td>\n",
       "      <td>NaN</td>\n",
       "      <td>2fc785b2</td>\n",
       "      <td>a55475b1</td>\n",
       "      <td>a55475b1</td>\n",
       "      <td>a55475b1</td>\n",
       "      <td>a55475b1</td>\n",
       "      <td>NaN</td>\n",
       "      <td>NaN</td>\n",
       "      <td>NaN</td>\n",
       "      <td>NaN</td>\n",
       "    </tr>\n",
       "    <tr>\n",
       "      <th>915993</th>\n",
       "      <td>197371.58</td>\n",
       "      <td>1195.4000</td>\n",
       "      <td>2827.2</td>\n",
       "      <td>8212.6010</td>\n",
       "      <td>NaN</td>\n",
       "      <td>47943.062</td>\n",
       "      <td>9921.2</td>\n",
       "      <td>6000.0</td>\n",
       "      <td>46806.6</td>\n",
       "      <td>46806.6</td>\n",
       "      <td>...</td>\n",
       "      <td>5654.400</td>\n",
       "      <td>2fc785b2</td>\n",
       "      <td>6b2ae0fa</td>\n",
       "      <td>a55475b1</td>\n",
       "      <td>3439d993</td>\n",
       "      <td>a55475b1</td>\n",
       "      <td>NaN</td>\n",
       "      <td>NaN</td>\n",
       "      <td>15792.4</td>\n",
       "      <td>NaN</td>\n",
       "    </tr>\n",
       "    <tr>\n",
       "      <th>915994</th>\n",
       "      <td>82949.60</td>\n",
       "      <td>4533.8003</td>\n",
       "      <td>2986.8</td>\n",
       "      <td>6405.4000</td>\n",
       "      <td>15998.0</td>\n",
       "      <td>15651.796</td>\n",
       "      <td>6352.0</td>\n",
       "      <td>39414.0</td>\n",
       "      <td>5919.2</td>\n",
       "      <td>0.0</td>\n",
       "      <td>...</td>\n",
       "      <td>2986.800</td>\n",
       "      <td>2fc785b2</td>\n",
       "      <td>a55475b1</td>\n",
       "      <td>a55475b1</td>\n",
       "      <td>b6cabe76</td>\n",
       "      <td>a55475b1</td>\n",
       "      <td>NaN</td>\n",
       "      <td>NaN</td>\n",
       "      <td>21530.4</td>\n",
       "      <td>NaN</td>\n",
       "    </tr>\n",
       "  </tbody>\n",
       "</table>\n",
       "<p>915995 rows × 48 columns</p>\n",
       "</div>"
      ],
      "text/plain": [
       "        amtinstpaidbefduel24m_4187115A  annuity_780A  annuitynextmonth_57A  \\\n",
       "0                                  NaN     1917.6000                   0.0   \n",
       "1                                  NaN     4937.0000                   0.0   \n",
       "2                                  NaN     3600.0000                   0.0   \n",
       "3                                  NaN     3110.8000                   0.0   \n",
       "4                                  NaN     1218.0000                   0.0   \n",
       "...                                ...           ...                   ...   \n",
       "915990                       104557.25     8218.0000                5293.2   \n",
       "915991                       176561.36     3675.4001                   0.0   \n",
       "915992                        14232.40     7788.8003                   0.0   \n",
       "915993                       197371.58     1195.4000                2827.2   \n",
       "915994                        82949.60     4533.8003                2986.8   \n",
       "\n",
       "        avginstallast24m_3658937A  avglnamtstart24m_4525187A  \\\n",
       "0                             NaN                        NaN   \n",
       "1                             NaN                        NaN   \n",
       "2                             NaN                        NaN   \n",
       "3                             NaN                        NaN   \n",
       "4                             NaN                        NaN   \n",
       "...                           ...                        ...   \n",
       "915990                  8027.2000                        NaN   \n",
       "915991                  7356.8003                        NaN   \n",
       "915992                  2662.4001                        NaN   \n",
       "915993                  8212.6010                        NaN   \n",
       "915994                  6405.4000                    15998.0   \n",
       "\n",
       "        avgoutstandbalancel6m_4187114A  avgpmtlast12m_4525200A  \\\n",
       "0                                  NaN                     NaN   \n",
       "1                                  NaN                     NaN   \n",
       "2                                  NaN                     NaN   \n",
       "3                                  NaN                     NaN   \n",
       "4                                  NaN                     NaN   \n",
       "...                                ...                     ...   \n",
       "915990                       23399.828                  5293.2   \n",
       "915991                       16392.496                  6750.2   \n",
       "915992                             NaN                  1500.6   \n",
       "915993                       47943.062                  9921.2   \n",
       "915994                       15651.796                  6352.0   \n",
       "\n",
       "        credamount_770A  currdebt_22A  currdebtcredtyperange_828A  ...  \\\n",
       "0               30000.0           0.0                         0.0  ...   \n",
       "1               78000.0           0.0                         0.0  ...   \n",
       "2               60000.0           0.0                         0.0  ...   \n",
       "3               20000.0           0.0                         0.0  ...   \n",
       "4               20300.0           0.0                         0.0  ...   \n",
       "...                 ...           ...                         ...  ...   \n",
       "915990         132000.0       10548.4                     10548.4  ...   \n",
       "915991          30000.0           0.0                         0.0  ...   \n",
       "915992          60000.0           0.0                         0.0  ...   \n",
       "915993           6000.0       46806.6                     46806.6  ...   \n",
       "915994          39414.0        5919.2                         0.0  ...   \n",
       "\n",
       "        totinstallast1m_4525188A  description_5085714M  education_1103M  \\\n",
       "0                            NaN                   NaN              NaN   \n",
       "1                            NaN                   NaN              NaN   \n",
       "2                            NaN                   NaN              NaN   \n",
       "3                            NaN                   NaN              NaN   \n",
       "4                            NaN                   NaN              NaN   \n",
       "...                          ...                   ...              ...   \n",
       "915990                 10586.400              2fc785b2         a55475b1   \n",
       "915991                 14346.319              2fc785b2         a55475b1   \n",
       "915992                       NaN              2fc785b2         a55475b1   \n",
       "915993                  5654.400              2fc785b2         6b2ae0fa   \n",
       "915994                  2986.800              2fc785b2         a55475b1   \n",
       "\n",
       "       education_88M maritalst_385M  maritalst_893M pmtaverage_3A  \\\n",
       "0                NaN            NaN             NaN           NaN   \n",
       "1                NaN            NaN             NaN           NaN   \n",
       "2                NaN            NaN             NaN           NaN   \n",
       "3                NaN            NaN             NaN           NaN   \n",
       "4                NaN            NaN             NaN           NaN   \n",
       "...              ...            ...             ...           ...   \n",
       "915990      a55475b1       a55475b1        a55475b1           NaN   \n",
       "915991      a55475b1       a55475b1        a55475b1           NaN   \n",
       "915992      a55475b1       a55475b1        a55475b1           NaN   \n",
       "915993      a55475b1       3439d993        a55475b1           NaN   \n",
       "915994      a55475b1       b6cabe76        a55475b1           NaN   \n",
       "\n",
       "        pmtaverage_4527227A  pmtaverage_4955615A pmtssum_45A  \n",
       "0                       NaN                  NaN         NaN  \n",
       "1                       NaN                  NaN         NaN  \n",
       "2                       NaN                  NaN         NaN  \n",
       "3                       NaN                  NaN         NaN  \n",
       "4                       NaN                  NaN         NaN  \n",
       "...                     ...                  ...         ...  \n",
       "915990                  NaN                  NaN         NaN  \n",
       "915991                  NaN              12155.0         NaN  \n",
       "915992                  NaN                  NaN         NaN  \n",
       "915993                  NaN              15792.4         NaN  \n",
       "915994                  NaN              21530.4         NaN  \n",
       "\n",
       "[915995 rows x 48 columns]"
      ]
     },
     "execution_count": 33,
     "metadata": {},
     "output_type": "execute_result"
    }
   ],
   "source": [
    "X_train"
   ]
  },
  {
   "cell_type": "code",
   "execution_count": null,
   "id": "2d0207b7",
   "metadata": {},
   "outputs": [],
   "source": []
  },
  {
   "cell_type": "code",
   "execution_count": 27,
   "id": "6a275858",
   "metadata": {
    "execution": {
     "iopub.execute_input": "2024-02-07T21:28:32.238895Z",
     "iopub.status.busy": "2024-02-07T21:28:32.238439Z",
     "iopub.status.idle": "2024-02-07T21:28:32.246480Z",
     "shell.execute_reply": "2024-02-07T21:28:32.244638Z"
    },
    "papermill": {
     "duration": 0.019901,
     "end_time": "2024-02-07T21:28:32.249064",
     "exception": false,
     "start_time": "2024-02-07T21:28:32.229163",
     "status": "completed"
    },
    "tags": []
   },
   "outputs": [
    {
     "name": "stdout",
     "output_type": "stream",
     "text": [
      "Train: (915995, 48)\n",
      "Valid: (305332, 48)\n",
      "Test: (305332, 48)\n"
     ]
    }
   ],
   "source": [
    "print(f\"Train: {X_train.shape}\")\n",
    "print(f\"Valid: {X_valid.shape}\")\n",
    "print(f\"Test: {X_test.shape}\")"
   ]
  },
  {
   "cell_type": "markdown",
   "id": "661f3324",
   "metadata": {
    "papermill": {
     "duration": 0.006806,
     "end_time": "2024-02-07T21:28:32.263196",
     "exception": false,
     "start_time": "2024-02-07T21:28:32.256390",
     "status": "completed"
    },
    "tags": []
   },
   "source": [
    "## Training LightGBM\n",
    "\n",
    "Minimal example of LightGBM training is shown below."
   ]
  },
  {
   "cell_type": "code",
   "execution_count": 9,
   "id": "fb1d2bc7",
   "metadata": {
    "execution": {
     "iopub.execute_input": "2024-02-07T21:28:32.278983Z",
     "iopub.status.busy": "2024-02-07T21:28:32.278570Z",
     "iopub.status.idle": "2024-02-07T21:29:52.839799Z",
     "shell.execute_reply": "2024-02-07T21:29:52.838506Z"
    },
    "papermill": {
     "duration": 80.572251,
     "end_time": "2024-02-07T21:29:52.842351",
     "exception": false,
     "start_time": "2024-02-07T21:28:32.270100",
     "status": "completed"
    },
    "tags": []
   },
   "outputs": [
    {
     "name": "stderr",
     "output_type": "stream",
     "text": [
      "/opt/conda/lib/python3.10/site-packages/lightgbm/engine.py:177: UserWarning: Found `n_estimators` in params. Will use it instead of argument\n",
      "  _log_warning(f\"Found `{alias}` in params. Will use it instead of argument\")\n"
     ]
    },
    {
     "name": "stdout",
     "output_type": "stream",
     "text": [
      "Training until validation scores don't improve for 10 rounds\n",
      "[50]\tvalid_0's auc: 0.705963\n",
      "[100]\tvalid_0's auc: 0.724362\n",
      "[150]\tvalid_0's auc: 0.731423\n",
      "[200]\tvalid_0's auc: 0.735874\n",
      "[250]\tvalid_0's auc: 0.739009\n",
      "[300]\tvalid_0's auc: 0.740965\n",
      "[350]\tvalid_0's auc: 0.742924\n",
      "[400]\tvalid_0's auc: 0.744582\n",
      "[450]\tvalid_0's auc: 0.745977\n",
      "[500]\tvalid_0's auc: 0.747033\n",
      "[550]\tvalid_0's auc: 0.747877\n",
      "[600]\tvalid_0's auc: 0.749039\n",
      "[650]\tvalid_0's auc: 0.750087\n",
      "[700]\tvalid_0's auc: 0.750863\n",
      "Early stopping, best iteration is:\n",
      "[739]\tvalid_0's auc: 0.751216\n"
     ]
    }
   ],
   "source": [
    "lgb_train = lgb.Dataset(X_train, label=y_train)\n",
    "lgb_valid = lgb.Dataset(X_valid, label=y_valid, reference=lgb_train)\n",
    "\n",
    "params = {\n",
    "    \"boosting_type\": \"gbdt\",\n",
    "    \"objective\": \"binary\",\n",
    "    \"metric\": \"auc\",\n",
    "    \"max_depth\": 3,\n",
    "    \"num_leaves\": 31,\n",
    "    \"learning_rate\": 0.05,\n",
    "    \"feature_fraction\": 0.9,\n",
    "    \"bagging_fraction\": 0.8,\n",
    "    \"bagging_freq\": 5,\n",
    "    \"n_estimators\": 1000,\n",
    "    \"verbose\": -1,\n",
    "}\n",
    "\n",
    "gbm = lgb.train(\n",
    "    params,\n",
    "    lgb_train,\n",
    "    valid_sets=lgb_valid,\n",
    "    callbacks=[lgb.log_evaluation(50), lgb.early_stopping(10)],\n",
    ")"
   ]
  },
  {
   "cell_type": "markdown",
   "id": "159e73d6",
   "metadata": {
    "papermill": {
     "duration": 0.008222,
     "end_time": "2024-02-07T21:29:52.859056",
     "exception": false,
     "start_time": "2024-02-07T21:29:52.850834",
     "status": "completed"
    },
    "tags": []
   },
   "source": [
    "Evaluation with AUC and then comparison with the stability metric is shown below."
   ]
  },
  {
   "cell_type": "code",
   "execution_count": 10,
   "id": "3e5c4fdb",
   "metadata": {
    "execution": {
     "iopub.execute_input": "2024-02-07T21:29:52.878460Z",
     "iopub.status.busy": "2024-02-07T21:29:52.877756Z",
     "iopub.status.idle": "2024-02-07T21:30:15.482110Z",
     "shell.execute_reply": "2024-02-07T21:30:15.480907Z"
    },
    "papermill": {
     "duration": 22.617002,
     "end_time": "2024-02-07T21:30:15.484653",
     "exception": false,
     "start_time": "2024-02-07T21:29:52.867651",
     "status": "completed"
    },
    "tags": []
   },
   "outputs": [
    {
     "name": "stdout",
     "output_type": "stream",
     "text": [
      "The AUC score on the train set is: 0.764122917660593\n",
      "The AUC score on the valid set is: 0.7512157223309048\n",
      "The AUC score on the test set is: 0.7483072129459662\n"
     ]
    }
   ],
   "source": [
    "for base, X in [(base_train, X_train), (base_valid, X_valid), (base_test, X_test)]:\n",
    "    y_pred = gbm.predict(X, num_iteration=gbm.best_iteration)\n",
    "    base[\"score\"] = y_pred\n",
    "\n",
    "print(\n",
    "    f'The AUC score on the train set is: {roc_auc_score(base_train[\"target\"], base_train[\"score\"])}'\n",
    ")\n",
    "print(\n",
    "    f'The AUC score on the valid set is: {roc_auc_score(base_valid[\"target\"], base_valid[\"score\"])}'\n",
    ")\n",
    "print(\n",
    "    f'The AUC score on the test set is: {roc_auc_score(base_test[\"target\"], base_test[\"score\"])}'\n",
    ")"
   ]
  },
  {
   "cell_type": "code",
   "execution_count": 11,
   "id": "2e10914f",
   "metadata": {
    "execution": {
     "iopub.execute_input": "2024-02-07T21:30:15.504198Z",
     "iopub.status.busy": "2024-02-07T21:30:15.503723Z",
     "iopub.status.idle": "2024-02-07T21:30:16.621500Z",
     "shell.execute_reply": "2024-02-07T21:30:16.620020Z"
    },
    "papermill": {
     "duration": 1.131134,
     "end_time": "2024-02-07T21:30:16.624526",
     "exception": false,
     "start_time": "2024-02-07T21:30:15.493392",
     "status": "completed"
    },
    "tags": []
   },
   "outputs": [
    {
     "name": "stdout",
     "output_type": "stream",
     "text": [
      "The stability score on the train set is: 0.4976648127691175\n",
      "The stability score on the valid set is: 0.4726726686264489\n",
      "The stability score on the test set is: 0.4583643686935092\n"
     ]
    }
   ],
   "source": [
    "def gini_stability(base, w_fallingrate=88.0, w_resstd=-0.5):\n",
    "    gini_in_time = (\n",
    "        base.loc[:, [\"WEEK_NUM\", \"target\", \"score\"]]\n",
    "        .sort_values(\"WEEK_NUM\")\n",
    "        .groupby(\"WEEK_NUM\")[[\"target\", \"score\"]]\n",
    "        .apply(lambda x: 2 * roc_auc_score(x[\"target\"], x[\"score\"]) - 1)\n",
    "        .tolist()\n",
    "    )\n",
    "\n",
    "    x = np.arange(len(gini_in_time))\n",
    "    y = gini_in_time\n",
    "    a, b = np.polyfit(x, y, 1)\n",
    "    y_hat = a * x + b\n",
    "    residuals = y - y_hat\n",
    "    res_std = np.std(residuals)\n",
    "    avg_gini = np.mean(gini_in_time)\n",
    "    return avg_gini + w_fallingrate * min(0, a) + w_resstd * res_std\n",
    "\n",
    "\n",
    "stability_score_train = gini_stability(base_train)\n",
    "stability_score_valid = gini_stability(base_valid)\n",
    "stability_score_test = gini_stability(base_test)\n",
    "\n",
    "print(f\"The stability score on the train set is: {stability_score_train}\")\n",
    "print(f\"The stability score on the valid set is: {stability_score_valid}\")\n",
    "print(f\"The stability score on the test set is: {stability_score_test}\")"
   ]
  },
  {
   "cell_type": "markdown",
   "id": "e4e23f05",
   "metadata": {
    "papermill": {
     "duration": 0.008408,
     "end_time": "2024-02-07T21:30:16.642325",
     "exception": false,
     "start_time": "2024-02-07T21:30:16.633917",
     "status": "completed"
    },
    "tags": []
   },
   "source": [
    "## Submission\n",
    "\n",
    "Scoring the submission dataset is below, we need to take care of new categories. Then we save the score as a last step. "
   ]
  },
  {
   "cell_type": "code",
   "execution_count": 12,
   "id": "a30dccc6",
   "metadata": {
    "execution": {
     "iopub.execute_input": "2024-02-07T21:30:16.662444Z",
     "iopub.status.busy": "2024-02-07T21:30:16.661989Z",
     "iopub.status.idle": "2024-02-07T21:30:16.775835Z",
     "shell.execute_reply": "2024-02-07T21:30:16.774344Z"
    },
    "papermill": {
     "duration": 0.127205,
     "end_time": "2024-02-07T21:30:16.778624",
     "exception": false,
     "start_time": "2024-02-07T21:30:16.651419",
     "status": "completed"
    },
    "tags": []
   },
   "outputs": [],
   "source": [
    "X_submission = data_submission[cols_pred].to_pandas()\n",
    "X_submission = convert_strings(X_submission)\n",
    "categorical_cols = X_train.select_dtypes(include=[\"category\"]).columns\n",
    "\n",
    "for col in categorical_cols:\n",
    "    train_categories = set(X_train[col].cat.categories)\n",
    "    submission_categories = set(X_submission[col].cat.categories)\n",
    "    new_categories = submission_categories - train_categories\n",
    "    X_submission.loc[X_submission[col].isin(new_categories), col] = \"Unknown\"\n",
    "    new_dtype = pd.CategoricalDtype(categories=train_categories, ordered=True)\n",
    "    X_train[col] = X_train[col].astype(new_dtype)\n",
    "    X_submission[col] = X_submission[col].astype(new_dtype)\n",
    "\n",
    "y_submission_pred = gbm.predict(X_submission, num_iteration=gbm.best_iteration)"
   ]
  },
  {
   "cell_type": "code",
   "execution_count": 13,
   "id": "d8664c2f",
   "metadata": {
    "execution": {
     "iopub.execute_input": "2024-02-07T21:30:16.798722Z",
     "iopub.status.busy": "2024-02-07T21:30:16.798207Z",
     "iopub.status.idle": "2024-02-07T21:30:16.811051Z",
     "shell.execute_reply": "2024-02-07T21:30:16.809721Z"
    },
    "papermill": {
     "duration": 0.026081,
     "end_time": "2024-02-07T21:30:16.813857",
     "exception": false,
     "start_time": "2024-02-07T21:30:16.787776",
     "status": "completed"
    },
    "tags": []
   },
   "outputs": [],
   "source": [
    "submission = pd.DataFrame(\n",
    "    {\"case_id\": data_submission[\"case_id\"].to_numpy(), \"score\": y_submission_pred}\n",
    ").set_index(\"case_id\")\n",
    "submission.to_csv(\"./submission.csv\")"
   ]
  },
  {
   "cell_type": "code",
   "execution_count": 40,
   "id": "76866091",
   "metadata": {},
   "outputs": [
    {
     "data": {
      "text/html": [
       "<div><style>\n",
       ".dataframe > thead > tr > th,\n",
       ".dataframe > tbody > tr > td {\n",
       "  text-align: right;\n",
       "  white-space: pre-wrap;\n",
       "}\n",
       "</style>\n",
       "<small>shape: (10, 57)</small><table border=\"1\" class=\"dataframe\"><thead><tr><th>case_id</th><th>date_decision</th><th>MONTH</th><th>WEEK_NUM</th><th>amtinstpaidbefduel24m_4187115A</th><th>annuity_780A</th><th>annuitynextmonth_57A</th><th>avginstallast24m_3658937A</th><th>avglnamtstart24m_4525187A</th><th>avgoutstandbalancel6m_4187114A</th><th>avgpmtlast12m_4525200A</th><th>credamount_770A</th><th>currdebt_22A</th><th>currdebtcredtyperange_828A</th><th>disbursedcredamount_1113A</th><th>downpmt_116A</th><th>inittransactionamount_650A</th><th>lastapprcommoditycat_1041M</th><th>lastapprcommoditytypec_5251766M</th><th>lastapprcredamount_781A</th><th>lastcancelreason_561M</th><th>lastotherinc_902A</th><th>lastotherlnsexpense_631A</th><th>lastrejectcommoditycat_161M</th><th>lastrejectcommodtypec_5251769M</th><th>lastrejectcredamount_222A</th><th>lastrejectreason_759M</th><th>lastrejectreasonclient_4145040M</th><th>maininc_215A</th><th>maxannuity_159A</th><th>maxannuity_4075009A</th><th>maxdebt4_972A</th><th>maxinstallast24m_3658928A</th><th>maxlnamtstart6m_4525199A</th><th>maxoutstandbalancel12m_4187113A</th><th>maxpmtlast3m_4525190A</th><th>previouscontdistrict_112M</th><th>price_1097A</th><th>sumoutstandtotal_3546847A</th><th>sumoutstandtotalest_4493215A</th><th>totaldebt_9A</th><th>totalsettled_863A</th><th>totinstallast1m_4525188A</th><th>description_5085714M</th><th>education_1103M</th><th>education_88M</th><th>maritalst_385M</th><th>maritalst_893M</th><th>pmtaverage_3A</th><th>pmtaverage_4527227A</th><th>pmtaverage_4955615A</th><th>pmtssum_45A</th><th>mainoccupationinc_384A_max</th><th>mainoccupationinc_384A_any_selfemployed</th><th>person_housetype</th><th>pmts_pmtsoverdue_635A_max</th><th>pmts_dpdvalue_108P_over31</th></tr><tr><td>i64</td><td>str</td><td>i64</td><td>i64</td><td>f64</td><td>f64</td><td>f64</td><td>f64</td><td>f64</td><td>f64</td><td>f64</td><td>f64</td><td>f64</td><td>f64</td><td>f64</td><td>f64</td><td>f64</td><td>str</td><td>str</td><td>f64</td><td>str</td><td>f64</td><td>f64</td><td>str</td><td>str</td><td>f64</td><td>str</td><td>str</td><td>f64</td><td>f64</td><td>f64</td><td>f64</td><td>f64</td><td>f64</td><td>f64</td><td>f64</td><td>str</td><td>f64</td><td>f64</td><td>f64</td><td>f64</td><td>f64</td><td>f64</td><td>str</td><td>str</td><td>str</td><td>str</td><td>str</td><td>f64</td><td>f64</td><td>f64</td><td>f64</td><td>f64</td><td>bool</td><td>str</td><td>f64</td><td>bool</td></tr></thead><tbody><tr><td>57543</td><td>&quot;2021-05-14&quot;</td><td>202201</td><td>100</td><td>191767.36</td><td>3674.6</td><td>1218.2001</td><td>16049.4</td><td>17054.4</td><td>14554.4</td><td>24482.0</td><td>20000.0</td><td>12154.4</td><td>0.0</td><td>20000.0</td><td>0.0</td><td>null</td><td>&quot;a55475b1&quot;</td><td>&quot;a55475b1&quot;</td><td>14000.0</td><td>&quot;a55475b1&quot;</td><td>null</td><td>null</td><td>&quot;P109_133_183&quot;</td><td>&quot;P49_111_165&quot;</td><td>24000.0</td><td>&quot;a55475b1&quot;</td><td>&quot;a55475b1&quot;</td><td>34000.0</td><td>280983.56</td><td>null</td><td>231440.03</td><td>131700.8</td><td>16672.6</td><td>157731.78</td><td>16641.4</td><td>&quot;a55475b1&quot;</td><td>0.0</td><td>12154.4</td><td>12154.4</td><td>12154.4</td><td>456031.1</td><td>17859.6</td><td>&quot;2fc785b2&quot;</td><td>&quot;6b2ae0fa&quot;</td><td>&quot;a55475b1&quot;</td><td>&quot;38c061ee&quot;</td><td>&quot;a55475b1&quot;</td><td>null</td><td>null</td><td>null</td><td>null</td><td>34000.0</td><td>false</td><td>null</td><td>null</td><td>null</td></tr><tr><td>57549</td><td>&quot;2022-01-17&quot;</td><td>202201</td><td>100</td><td>129704.4</td><td>5742.6</td><td>3546.6</td><td>32426.201</td><td>118964.805</td><td>13681.714</td><td>32426.201</td><td>75000.0</td><td>10638.2</td><td>10638.2</td><td>75000.0</td><td>0.0</td><td>null</td><td>&quot;a55475b1&quot;</td><td>&quot;a55475b1&quot;</td><td>94000.0</td><td>&quot;a55475b1&quot;</td><td>null</td><td>null</td><td>&quot;a55475b1&quot;</td><td>&quot;a55475b1&quot;</td><td>160000.0</td><td>&quot;a55475b1&quot;</td><td>&quot;P30_86_84&quot;</td><td>44000.0</td><td>337659.8</td><td>null</td><td>34066.0</td><td>122511.4</td><td>31820.6</td><td>21278.0</td><td>122511.4</td><td>&quot;a55475b1&quot;</td><td>null</td><td>10638.2</td><td>10638.2</td><td>10638.2</td><td>373720.84</td><td>126058.0</td><td>&quot;2fc785b2&quot;</td><td>&quot;39a0853f&quot;</td><td>&quot;a55475b1&quot;</td><td>&quot;a7fcb6e5&quot;</td><td>&quot;a55475b1&quot;</td><td>null</td><td>null</td><td>26815.6</td><td>null</td><td>49800.0</td><td>false</td><td>null</td><td>null</td><td>null</td></tr><tr><td>57551</td><td>&quot;2020-11-27&quot;</td><td>202201</td><td>100</td><td>71036.4</td><td>2844.6</td><td>0.0</td><td>8357.2</td><td>null</td><td>0.0</td><td>9551.0</td><td>27095.201</td><td>0.0</td><td>0.0</td><td>27095.201</td><td>0.0</td><td>null</td><td>&quot;a55475b1&quot;</td><td>&quot;a55475b1&quot;</td><td>200000.0</td><td>&quot;P85_114_140&quot;</td><td>null</td><td>null</td><td>&quot;a55475b1&quot;</td><td>&quot;a55475b1&quot;</td><td>null</td><td>&quot;a55475b1&quot;</td><td>&quot;a55475b1&quot;</td><td>70000.0</td><td>83400.0</td><td>null</td><td>54000.0</td><td>41783.402</td><td>54000.0</td><td>62619.0</td><td>null</td><td>&quot;P11_36_178&quot;</td><td>27095.201</td><td>0.0</td><td>0.0</td><td>0.0</td><td>75219.0</td><td>null</td><td>&quot;2fc785b2&quot;</td><td>&quot;6b2ae0fa&quot;</td><td>&quot;a55475b1&quot;</td><td>&quot;3439d993&quot;</td><td>&quot;a55475b1&quot;</td><td>null</td><td>null</td><td>null</td><td>null</td><td>59600.0</td><td>false</td><td>null</td><td>null</td><td>null</td></tr><tr><td>57552</td><td>&quot;2020-11-27&quot;</td><td>202201</td><td>100</td><td>183992.0</td><td>6298.8003</td><td>12155.4</td><td>7440.4</td><td>null</td><td>199322.4</td><td>9148.4</td><td>100000.0</td><td>191269.61</td><td>191269.61</td><td>100000.0</td><td>0.0</td><td>null</td><td>&quot;a55475b1&quot;</td><td>&quot;a55475b1&quot;</td><td>0.0</td><td>&quot;P94_109_143&quot;</td><td>null</td><td>null</td><td>&quot;a55475b1&quot;</td><td>&quot;a55475b1&quot;</td><td>150000.0</td><td>&quot;a55475b1&quot;</td><td>&quot;P94_109_143&quot;</td><td>null</td><td>110500.0</td><td>null</td><td>188126.14</td><td>12155.4</td><td>104473.6</td><td>288642.6</td><td>12155.4</td><td>&quot;P21_87_50&quot;</td><td>null</td><td>191269.61</td><td>191269.61</td><td>191269.61</td><td>284213.0</td><td>18889.0</td><td>&quot;2fc785b2&quot;</td><td>&quot;a55475b1&quot;</td><td>&quot;a55475b1&quot;</td><td>&quot;a55475b1&quot;</td><td>&quot;a55475b1&quot;</td><td>null</td><td>null</td><td>23402.8</td><td>null</td><td>112000.0</td><td>false</td><td>&quot;OWNED&quot;</td><td>null</td><td>null</td></tr><tr><td>57569</td><td>&quot;2021-12-20&quot;</td><td>202201</td><td>100</td><td>0.0</td><td>4682.6</td><td>0.0</td><td>null</td><td>null</td><td>null</td><td>10796.4</td><td>60000.0</td><td>0.0</td><td>0.0</td><td>60000.0</td><td>0.0</td><td>null</td><td>&quot;a55475b1&quot;</td><td>&quot;a55475b1&quot;</td><td>20000.0</td><td>&quot;P94_109_143&quot;</td><td>null</td><td>null</td><td>&quot;a55475b1&quot;</td><td>&quot;a55475b1&quot;</td><td>40000.0</td><td>&quot;a55475b1&quot;</td><td>&quot;P94_109_143&quot;</td><td>6000.0</td><td>37704.0</td><td>null</td><td>64555.668</td><td>null</td><td>null</td><td>0.0</td><td>null</td><td>&quot;a55475b1&quot;</td><td>null</td><td>0.0</td><td>0.0</td><td>0.0</td><td>95348.42</td><td>null</td><td>&quot;2fc785b2&quot;</td><td>&quot;717ddd49&quot;</td><td>&quot;a55475b1&quot;</td><td>&quot;3439d993&quot;</td><td>&quot;a55475b1&quot;</td><td>null</td><td>null</td><td>17333.6</td><td>null</td><td>58000.0</td><td>false</td><td>&quot;OWNED&quot;</td><td>null</td><td>null</td></tr><tr><td>57630</td><td>&quot;2021-03-16&quot;</td><td>202201</td><td>100</td><td>0.0</td><td>8905.0</td><td>0.0</td><td>null</td><td>null</td><td>null</td><td>null</td><td>96174.0</td><td>0.0</td><td>0.0</td><td>96174.0</td><td>0.0</td><td>null</td><td>&quot;P148_110_5&quot;</td><td>&quot;P161_88_182&quot;</td><td>8876.0</td><td>&quot;P198_89_166&quot;</td><td>null</td><td>null</td><td>&quot;a55475b1&quot;</td><td>&quot;a55475b1&quot;</td><td>null</td><td>&quot;a55475b1&quot;</td><td>&quot;a55475b1&quot;</td><td>12000.0</td><td>1382.8</td><td>null</td><td>0.0</td><td>null</td><td>null</td><td>null</td><td>null</td><td>&quot;a55475b1&quot;</td><td>96174.0</td><td>0.0</td><td>0.0</td><td>0.0</td><td>9677.601</td><td>null</td><td>&quot;2fc785b2&quot;</td><td>&quot;6b2ae0fa&quot;</td><td>&quot;a55475b1&quot;</td><td>&quot;3439d993&quot;</td><td>&quot;a55475b1&quot;</td><td>null</td><td>null</td><td>null</td><td>null</td><td>60000.0</td><td>false</td><td>&quot;OWNED&quot;</td><td>null</td><td>null</td></tr><tr><td>57631</td><td>&quot;2022-06-04&quot;</td><td>202201</td><td>100</td><td>null</td><td>2540.6</td><td>0.0</td><td>null</td><td>null</td><td>null</td><td>null</td><td>24920.0</td><td>0.0</td><td>0.0</td><td>24920.0</td><td>0.0</td><td>null</td><td>&quot;a55475b1&quot;</td><td>&quot;a55475b1&quot;</td><td>null</td><td>&quot;P94_109_143&quot;</td><td>null</td><td>null</td><td>&quot;P100_96_175&quot;</td><td>&quot;P165_57_169&quot;</td><td>46279.8</td><td>&quot;P45_84_106&quot;</td><td>&quot;P94_109_143&quot;</td><td>null</td><td>0.0</td><td>null</td><td>0.0</td><td>null</td><td>null</td><td>null</td><td>null</td><td>&quot;a55475b1&quot;</td><td>24920.0</td><td>null</td><td>null</td><td>0.0</td><td>0.0</td><td>null</td><td>&quot;2fc785b2&quot;</td><td>&quot;a55475b1&quot;</td><td>&quot;a55475b1&quot;</td><td>&quot;a55475b1&quot;</td><td>&quot;a55475b1&quot;</td><td>null</td><td>null</td><td>null</td><td>null</td><td>null</td><td>null</td><td>null</td><td>null</td><td>null</td></tr><tr><td>57632</td><td>&quot;2022-02-05&quot;</td><td>202201</td><td>100</td><td>63647.402</td><td>4732.0</td><td>0.0</td><td>3536.0</td><td>null</td><td>10581.714</td><td>3536.0</td><td>25998.0</td><td>0.0</td><td>0.0</td><td>25998.0</td><td>0.0</td><td>null</td><td>&quot;P53_45_92&quot;</td><td>&quot;P200_75_140&quot;</td><td>50116.0</td><td>&quot;a55475b1&quot;</td><td>null</td><td>null</td><td>&quot;a55475b1&quot;</td><td>&quot;a55475b1&quot;</td><td>null</td><td>&quot;a55475b1&quot;</td><td>&quot;a55475b1&quot;</td><td>56000.0</td><td>7000.0</td><td>null</td><td>63647.402</td><td>3536.0</td><td>63647.402</td><td>42412.0</td><td>3536.0</td><td>&quot;P159_143_123&quot;</td><td>25998.0</td><td>0.0</td><td>0.0</td><td>0.0</td><td>63652.0</td><td>7071.4</td><td>&quot;2fc785b2&quot;</td><td>&quot;a55475b1&quot;</td><td>&quot;a55475b1&quot;</td><td>&quot;a55475b1&quot;</td><td>&quot;a55475b1&quot;</td><td>null</td><td>null</td><td>15841.2</td><td>null</td><td>null</td><td>null</td><td>null</td><td>null</td><td>null</td></tr><tr><td>57633</td><td>&quot;2022-01-25&quot;</td><td>202201</td><td>100</td><td>null</td><td>8273.0</td><td>0.0</td><td>null</td><td>null</td><td>null</td><td>null</td><td>200000.0</td><td>0.0</td><td>0.0</td><td>200000.0</td><td>0.0</td><td>null</td><td>&quot;a55475b1&quot;</td><td>&quot;a55475b1&quot;</td><td>null</td><td>&quot;P85_114_140&quot;</td><td>null</td><td>null</td><td>&quot;P159_130_59&quot;</td><td>&quot;P75_90_70&quot;</td><td>64996.0</td><td>&quot;P45_84_106&quot;</td><td>&quot;P94_109_143&quot;</td><td>null</td><td>0.0</td><td>null</td><td>0.0</td><td>null</td><td>null</td><td>null</td><td>null</td><td>&quot;a55475b1&quot;</td><td>0.0</td><td>null</td><td>null</td><td>0.0</td><td>0.0</td><td>null</td><td>&quot;2fc785b2&quot;</td><td>&quot;a55475b1&quot;</td><td>&quot;a55475b1&quot;</td><td>&quot;3439d993&quot;</td><td>&quot;a55475b1&quot;</td><td>null</td><td>null</td><td>null</td><td>null</td><td>null</td><td>null</td><td>null</td><td>null</td><td>null</td></tr><tr><td>57634</td><td>&quot;2021-01-27&quot;</td><td>202201</td><td>100</td><td>39948.8</td><td>1165.8</td><td>0.0</td><td>3994.8</td><td>null</td><td>1675.4</td><td>3358.4001</td><td>12108.2</td><td>0.0</td><td>0.0</td><td>12108.2</td><td>0.0</td><td>null</td><td>&quot;P159_130_59&quot;</td><td>&quot;P174_113_42&quot;</td><td>16494.201</td><td>&quot;a55475b1&quot;</td><td>null</td><td>null</td><td>&quot;a55475b1&quot;</td><td>&quot;a55475b1&quot;</td><td>null</td><td>&quot;a55475b1&quot;</td><td>&quot;a55475b1&quot;</td><td>50000.0</td><td>5000.0</td><td>null</td><td>19798.0</td><td>4949.6</td><td>20887.201</td><td>20150.8</td><td>null</td><td>&quot;a55475b1&quot;</td><td>13998.0</td><td>0.0</td><td>0.0</td><td>0.0</td><td>39950.8</td><td>null</td><td>&quot;2fc785b2&quot;</td><td>&quot;a55475b1&quot;</td><td>&quot;a55475b1&quot;</td><td>&quot;a55475b1&quot;</td><td>&quot;a55475b1&quot;</td><td>null</td><td>null</td><td>null</td><td>null</td><td>null</td><td>null</td><td>null</td><td>null</td><td>null</td></tr></tbody></table></div>"
      ],
      "text/plain": [
       "shape: (10, 57)\n",
       "┌─────────┬────────────┬────────┬──────────┬───┬────────────┬────────────┬────────────┬────────────┐\n",
       "│ case_id ┆ date_decis ┆ MONTH  ┆ WEEK_NUM ┆ … ┆ mainoccupa ┆ person_hou ┆ pmts_pmtso ┆ pmts_dpdva │\n",
       "│ ---     ┆ ion        ┆ ---    ┆ ---      ┆   ┆ tioninc_38 ┆ setype     ┆ verdue_635 ┆ lue_108P_o │\n",
       "│ i64     ┆ ---        ┆ i64    ┆ i64      ┆   ┆ 4A_any_sel ┆ ---        ┆ A_max      ┆ ver31      │\n",
       "│         ┆ str        ┆        ┆          ┆   ┆ fe…        ┆ str        ┆ ---        ┆ ---        │\n",
       "│         ┆            ┆        ┆          ┆   ┆ ---        ┆            ┆ f64        ┆ bool       │\n",
       "│         ┆            ┆        ┆          ┆   ┆ bool       ┆            ┆            ┆            │\n",
       "╞═════════╪════════════╪════════╪══════════╪═══╪════════════╪════════════╪════════════╪════════════╡\n",
       "│ 57543   ┆ 2021-05-14 ┆ 202201 ┆ 100      ┆ … ┆ false      ┆ null       ┆ null       ┆ null       │\n",
       "│ 57549   ┆ 2022-01-17 ┆ 202201 ┆ 100      ┆ … ┆ false      ┆ null       ┆ null       ┆ null       │\n",
       "│ 57551   ┆ 2020-11-27 ┆ 202201 ┆ 100      ┆ … ┆ false      ┆ null       ┆ null       ┆ null       │\n",
       "│ 57552   ┆ 2020-11-27 ┆ 202201 ┆ 100      ┆ … ┆ false      ┆ OWNED      ┆ null       ┆ null       │\n",
       "│ …       ┆ …          ┆ …      ┆ …        ┆ … ┆ …          ┆ …          ┆ …          ┆ …          │\n",
       "│ 57631   ┆ 2022-06-04 ┆ 202201 ┆ 100      ┆ … ┆ null       ┆ null       ┆ null       ┆ null       │\n",
       "│ 57632   ┆ 2022-02-05 ┆ 202201 ┆ 100      ┆ … ┆ null       ┆ null       ┆ null       ┆ null       │\n",
       "│ 57633   ┆ 2022-01-25 ┆ 202201 ┆ 100      ┆ … ┆ null       ┆ null       ┆ null       ┆ null       │\n",
       "│ 57634   ┆ 2021-01-27 ┆ 202201 ┆ 100      ┆ … ┆ null       ┆ null       ┆ null       ┆ null       │\n",
       "└─────────┴────────────┴────────┴──────────┴───┴────────────┴────────────┴────────────┴────────────┘"
      ]
     },
     "execution_count": 40,
     "metadata": {},
     "output_type": "execute_result"
    }
   ],
   "source": [
    "data_submission"
   ]
  }
 ],
 "metadata": {
  "kaggle": {
   "accelerator": "none",
   "dataSources": [
    {
     "databundleVersionId": 7493015,
     "sourceId": 50160,
     "sourceType": "competition"
    }
   ],
   "dockerImageVersionId": 30635,
   "isGpuEnabled": false,
   "isInternetEnabled": false,
   "language": "python",
   "sourceType": "notebook"
  },
  "kernelspec": {
   "display_name": "Python 3",
   "language": "python",
   "name": "python3"
  },
  "language_info": {
   "codemirror_mode": {
    "name": "ipython",
    "version": 3
   },
   "file_extension": ".py",
   "mimetype": "text/x-python",
   "name": "python",
   "nbconvert_exporter": "python",
   "pygments_lexer": "ipython3",
   "version": "3.11.5"
  },
  "papermill": {
   "default_parameters": {},
   "duration": 145.018038,
   "end_time": "2024-02-07T21:30:18.166484",
   "environment_variables": {},
   "exception": null,
   "input_path": "__notebook__.ipynb",
   "output_path": "__notebook__.ipynb",
   "parameters": {},
   "start_time": "2024-02-07T21:27:53.148446",
   "version": "2.4.0"
  }
 },
 "nbformat": 4,
 "nbformat_minor": 5
}

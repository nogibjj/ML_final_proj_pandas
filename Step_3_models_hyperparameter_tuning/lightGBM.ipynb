{
 "cells": [
  {
   "cell_type": "code",
   "execution_count": 2,
   "metadata": {},
   "outputs": [],
   "source": [
    "import numpy as np\n",
    "import pandas as pd\n",
    "import polars as pl\n",
    "import matplotlib.pyplot as plt\n",
    "import seaborn as sns\n",
    "import warnings, os, gc, joblib\n",
    "from pprint import pprint\n",
    "import lightgbm as lgb\n",
    "from sklearn import metrics\n",
    "from functools import reduce\n",
    "from sklearn.metrics import (\n",
    "    accuracy_score,\n",
    "    roc_auc_score,\n",
    "    confusion_matrix,\n",
    "    ConfusionMatrixDisplay,\n",
    "    classification_report,\n",
    ")\n",
    "from sklearn.base import BaseEstimator, RegressorMixin\n",
    "from sklearn.preprocessing import MinMaxScaler\n",
    "from sklearn.model_selection import (\n",
    "    train_test_split,\n",
    "    cross_val_score,\n",
    "    GridSearchCV,\n",
    "    StratifiedGroupKFold,\n",
    ")\n",
    "from contextlib import suppress"
   ]
  },
  {
   "cell_type": "code",
   "execution_count": 4,
   "metadata": {},
   "outputs": [],
   "source": [
    "pathway = \"\"\n",
    "\n",
    "\n",
    "def set_table_dtypes(df: pl.DataFrame) -> pl.DataFrame:\n",
    "    for col in df.columns:\n",
    "        # Cast Transform DPD (Days past due, P) and Transform Amount (A) as Float64\n",
    "        if col[-1] in (\"P\", \"A\"):\n",
    "            df = df.with_columns(pl.col(col).cast(pl.Float64).alias(col))\n",
    "        # Cast Transform date (D) as Date, causes issues with other columns ending in D\n",
    "        # if col[-1] in (\"D\"):\n",
    "        # df = df.with_columns(pl.col(col).cast(pl.Date).alias(col))\n",
    "        # Cast aggregated columns as Float64, tried combining sum and max, but did not work correctly\n",
    "        if col[-4:-1] in (\"_sum\"):\n",
    "            df = df.with_columns(pl.col(col).cast(pl.Float64).alias(col))\n",
    "        if col[-4:-1] in (\"_max\"):\n",
    "            df = df.with_columns(pl.col(col).cast(pl.Float64).alias(col))\n",
    "    return df\n",
    "\n",
    "\n",
    "def convert_strings(df: pl.DataFrame) -> pl.DataFrame:\n",
    "    for col in df.columns:\n",
    "        if df[col].dtype == pl.Utf8:\n",
    "            df = df.with_columns(pl.col(col).cast(pl.Categorical))\n",
    "    return df\n",
    "\n",
    "\n",
    "# Changed this function to work for Pandas\n",
    "def missing_values(df, threshold=0.0):\n",
    "    missing_cols = []\n",
    "    for col in df.columns:\n",
    "        decimal = (pd.isnull(df[col]).sum()) / (len(df[col]))\n",
    "        if decimal > threshold:\n",
    "            print(f\"{col}: {decimal}\")\n",
    "            missing_cols.append(col)\n",
    "    return missing_cols\n",
    "\n",
    "\n",
    "# Impute numeric columns with the median and cat with mode\n",
    "def imputer(df: pd.DataFrame) -> pd.DataFrame:\n",
    "    for col in df.columns:\n",
    "        if df[col].dtype == \"float64\":\n",
    "            df[col] = df[col].fillna(df[col].median())\n",
    "        if df[col].dtype.name in [\"category\", \"object\"] and df[col].isnull().any():\n",
    "            mode_without_nan = df[col].dropna().mode().values[0]\n",
    "            df[col] = df[col].fillna(mode_without_nan)\n",
    "    return df"
   ]
  },
  {
   "cell_type": "code",
   "execution_count": 5,
   "metadata": {},
   "outputs": [
    {
     "data": {
      "text/html": [
       "<div><style>\n",
       ".dataframe > thead > tr,\n",
       ".dataframe > tbody > tr {\n",
       "  text-align: right;\n",
       "  white-space: pre-wrap;\n",
       "}\n",
       "</style>\n",
       "<small>shape: (5, 228)</small><table border=\"1\" class=\"dataframe\"><thead><tr><th>maxoutstandbalancel12m_4187113A</th><th>maxdebt4_972A</th><th>lastapplicationdate_877D_diff</th><th>disbursementtype_67L</th><th>numinstregularpaid_973L</th><th>currdebtcredtyperange_828A</th><th>case_id</th><th>pmts_overdue_1140A_sum_right</th><th>opencred_647L</th><th>numinstpaidearly3dest_4493216L</th><th>numberofoutstandinstls_520L_sum</th><th>credtype_587L</th><th>numinstpaid_4499208L</th><th>credtype_322L</th><th>empls_economicalst_849M</th><th>safeguarantyflag_411L</th><th>byoccupationinc_3656910L_max</th><th>credacc_credlmt_575A_max</th><th>dtlastpmtallstes_4499206D_diff</th><th>numpmtchanneldd_318L</th><th>conts_type_509L</th><th>clientscnt_360L</th><th>tenor_203L_sum</th><th>dpdmax_139P_max</th><th>numinstpaidearly_338L</th><th>pmts_dpd_303P_sum</th><th>applicationscnt_629L</th><th>maxinstallast24m_3658928A</th><th>monthsannuity_845L</th><th>lastapprcredamount_781A</th><th>maxlnamtstart6m_4525199A</th><th>numactivecredschannel_414L</th><th>downpmt_116A</th><th>applicationscnt_867L</th><th>posfpd30lastmonth_3976960P</th><th>mobilephncnt_593L</th><th>mindbdtollast24m_4525191P</th><th>&hellip;</th><th>pctinstlsallpaidlate4d_3546849L</th><th>isbidproduct_390L</th><th>addres_zip_823M</th><th>totinstallast1m_4525188A</th><th>cntincpaycont9m_3716944L</th><th>numinstregularpaidest_4493210L</th><th>sex_738L</th><th>numberofoverdueinstlmax_1151L_sum</th><th>avginstallast24m_3658937A</th><th>dateofbirth_337D_diff</th><th>isbidproduct_1095L</th><th>maxdpdlast24m_143P</th><th>maritalst_385M</th><th>clientscnt_1130L</th><th>equalitydataagreement_891L</th><th>datelastinstal40dpd_247D</th><th>numinstlswithdpd10_728L</th><th>avgdbddpdlast3m_4187120P</th><th>overdueamountmax2_398A_max</th><th>sellerplacecnt_915L</th><th>familystate_447L</th><th>clientscnt3m_3712950L</th><th>posfstqpd30lastmonth_3976962P</th><th>status_219L</th><th>days360_512L</th><th>maxdpdinstlnum_3546846P</th><th>pmts_dpd_1073P_sum</th><th>birth_259D_diff</th><th>clientscnt_304L</th><th>lastactivateddate_801D_diff</th><th>isdebitcard_729L</th><th>dpdmax_757P_max</th><th>maxdpdlast12m_727P</th><th>type_25L</th><th>overdueamountmax_35A_max</th><th>numinstmatpaidtearly2d_4499204L</th><th>target</th></tr><tr><td>f64</td><td>f64</td><td>f64</td><td>cat</td><td>f64</td><td>f64</td><td>i64</td><td>f64</td><td>i64</td><td>f64</td><td>f64</td><td>cat</td><td>f64</td><td>cat</td><td>cat</td><td>i64</td><td>f64</td><td>f64</td><td>f64</td><td>f64</td><td>cat</td><td>f64</td><td>f64</td><td>f64</td><td>f64</td><td>f64</td><td>f64</td><td>f64</td><td>f64</td><td>f64</td><td>f64</td><td>f64</td><td>f64</td><td>f64</td><td>f64</td><td>f64</td><td>f64</td><td>&hellip;</td><td>f64</td><td>i64</td><td>cat</td><td>f64</td><td>f64</td><td>f64</td><td>cat</td><td>f64</td><td>f64</td><td>f64</td><td>i64</td><td>f64</td><td>cat</td><td>f64</td><td>i64</td><td>cat</td><td>f64</td><td>f64</td><td>f64</td><td>f64</td><td>cat</td><td>f64</td><td>f64</td><td>cat</td><td>f64</td><td>f64</td><td>f64</td><td>f64</td><td>f64</td><td>f64</td><td>i64</td><td>f64</td><td>f64</td><td>cat</td><td>f64</td><td>f64</td><td>i64</td></tr></thead><tbody><tr><td>42520.402</td><td>0.0</td><td>217.0</td><td>&quot;GBA&quot;</td><td>18.0</td><td>0.0</td><td>0</td><td>0.0</td><td>0</td><td>12.0</td><td>0.0</td><td>&quot;COL&quot;</td><td>22.0</td><td>&quot;CAL&quot;</td><td>&quot;a55475b1&quot;</td><td>1</td><td>15000.0</td><td>0.0</td><td>-13.0</td><td>0.0</td><td>&quot;PRIMARY_MOBILE…</td><td>0.0</td><td>48.0</td><td>0.0</td><td>9.0</td><td>0.0</td><td>0.0</td><td>6648.6</td><td>18.0</td><td>24774.0</td><td>32934.6</td><td>0.0</td><td>0.0</td><td>0.0</td><td>0.0</td><td>1.0</td><td>-17.0</td><td>&hellip;</td><td>0.01695</td><td>0</td><td>&quot;a55475b1&quot;</td><td>6221.2</td><td>5.0</td><td>22.0</td><td>&quot;F&quot;</td><td>1.0</td><td>4068.6</td><td>12099.0</td><td>0</td><td>0.0</td><td>&quot;a55475b1&quot;</td><td>0.0</td><td>1</td><td>&quot;2020-06-15&quot;</td><td>0.0</td><td>-4.0</td><td>3292.6</td><td>0.0</td><td>&quot;MARRIED&quot;</td><td>0.0</td><td>0.0</td><td>&quot;D&quot;</td><td>3.0</td><td>7.0</td><td>0.0</td><td>11874.0</td><td>0.0</td><td>306.0</td><td>0</td><td>10.0</td><td>0.0</td><td>&quot;PRIMARY_MOBILE…</td><td>3016.39415</td><td>13.0</td><td>0</td></tr><tr><td>42520.402</td><td>0.0</td><td>217.0</td><td>&quot;GBA&quot;</td><td>18.0</td><td>0.0</td><td>1</td><td>0.0</td><td>0</td><td>12.0</td><td>0.0</td><td>&quot;COL&quot;</td><td>22.0</td><td>&quot;CAL&quot;</td><td>&quot;a55475b1&quot;</td><td>1</td><td>15000.0</td><td>0.0</td><td>-13.0</td><td>0.0</td><td>&quot;PRIMARY_MOBILE…</td><td>0.0</td><td>48.0</td><td>0.0</td><td>9.0</td><td>0.0</td><td>0.0</td><td>6648.6</td><td>18.0</td><td>24774.0</td><td>32934.6</td><td>0.0</td><td>0.0</td><td>0.0</td><td>0.0</td><td>1.0</td><td>-17.0</td><td>&hellip;</td><td>0.01695</td><td>0</td><td>&quot;a55475b1&quot;</td><td>6221.2</td><td>5.0</td><td>22.0</td><td>&quot;M&quot;</td><td>1.0</td><td>4068.6</td><td>12099.0</td><td>0</td><td>0.0</td><td>&quot;a55475b1&quot;</td><td>0.0</td><td>1</td><td>&quot;2020-06-15&quot;</td><td>0.0</td><td>-4.0</td><td>3292.6</td><td>0.0</td><td>&quot;DIVORCED&quot;</td><td>0.0</td><td>0.0</td><td>&quot;D&quot;</td><td>3.0</td><td>7.0</td><td>0.0</td><td>22435.0</td><td>0.0</td><td>306.0</td><td>0</td><td>10.0</td><td>0.0</td><td>&quot;PRIMARY_MOBILE…</td><td>3016.39415</td><td>13.0</td><td>0</td></tr><tr><td>42520.402</td><td>0.0</td><td>2102.0</td><td>&quot;GBA&quot;</td><td>18.0</td><td>0.0</td><td>2</td><td>0.0</td><td>0</td><td>12.0</td><td>0.0</td><td>&quot;CAL&quot;</td><td>22.0</td><td>&quot;CAL&quot;</td><td>&quot;a55475b1&quot;</td><td>1</td><td>15000.0</td><td>0.0</td><td>-13.0</td><td>0.0</td><td>&quot;PRIMARY_MOBILE…</td><td>0.0</td><td>36.0</td><td>0.0</td><td>9.0</td><td>0.0</td><td>0.0</td><td>6648.6</td><td>18.0</td><td>24774.0</td><td>32934.6</td><td>0.0</td><td>0.0</td><td>0.0</td><td>0.0</td><td>2.0</td><td>-17.0</td><td>&hellip;</td><td>0.01695</td><td>0</td><td>&quot;a55475b1&quot;</td><td>6221.2</td><td>5.0</td><td>22.0</td><td>&quot;F&quot;</td><td>1.0</td><td>4068.6</td><td>12099.0</td><td>0</td><td>0.0</td><td>&quot;a55475b1&quot;</td><td>0.0</td><td>1</td><td>&quot;2020-06-15&quot;</td><td>0.0</td><td>-4.0</td><td>3292.6</td><td>0.0</td><td>&quot;MARRIED&quot;</td><td>0.0</td><td>0.0</td><td>&quot;D&quot;</td><td>3.0</td><td>7.0</td><td>0.0</td><td>16105.0</td><td>0.0</td><td>306.0</td><td>0</td><td>10.0</td><td>0.0</td><td>&quot;PRIMARY_MOBILE…</td><td>3016.39415</td><td>13.0</td><td>0</td></tr><tr><td>42520.402</td><td>0.0</td><td>-4.0</td><td>&quot;GBA&quot;</td><td>18.0</td><td>0.0</td><td>3</td><td>0.0</td><td>0</td><td>12.0</td><td>0.0</td><td>&quot;CAL&quot;</td><td>22.0</td><td>&quot;CAL&quot;</td><td>&quot;a55475b1&quot;</td><td>1</td><td>15000.0</td><td>0.0</td><td>-13.0</td><td>0.0</td><td>&quot;PHONE&quot;</td><td>0.0</td><td>12.0</td><td>0.0</td><td>9.0</td><td>0.0</td><td>0.0</td><td>6648.6</td><td>18.0</td><td>24774.0</td><td>32934.6</td><td>0.0</td><td>0.0</td><td>1.0</td><td>0.0</td><td>1.0</td><td>-17.0</td><td>&hellip;</td><td>0.01695</td><td>0</td><td>&quot;a55475b1&quot;</td><td>6221.2</td><td>5.0</td><td>22.0</td><td>&quot;F&quot;</td><td>1.0</td><td>4068.6</td><td>12099.0</td><td>0</td><td>0.0</td><td>&quot;a55475b1&quot;</td><td>1.0</td><td>1</td><td>&quot;2020-06-15&quot;</td><td>0.0</td><td>-4.0</td><td>3292.6</td><td>1.0</td><td>&quot;MARRIED&quot;</td><td>0.0</td><td>0.0</td><td>&quot;D&quot;</td><td>3.0</td><td>7.0</td><td>0.0</td><td>9286.0</td><td>0.0</td><td>306.0</td><td>0</td><td>10.0</td><td>0.0</td><td>&quot;PRIMARY_MOBILE…</td><td>3016.39415</td><td>13.0</td><td>0</td></tr><tr><td>42520.402</td><td>0.0</td><td>-4.0</td><td>&quot;GBA&quot;</td><td>18.0</td><td>0.0</td><td>4</td><td>0.0</td><td>0</td><td>12.0</td><td>0.0</td><td>&quot;CAL&quot;</td><td>22.0</td><td>&quot;CAL&quot;</td><td>&quot;a55475b1&quot;</td><td>1</td><td>15000.0</td><td>0.0</td><td>-13.0</td><td>0.0</td><td>&quot;PRIMARY_MOBILE…</td><td>0.0</td><td>24.0</td><td>0.0</td><td>9.0</td><td>0.0</td><td>0.0</td><td>6648.6</td><td>18.0</td><td>24774.0</td><td>32934.6</td><td>0.0</td><td>0.0</td><td>1.0</td><td>0.0</td><td>1.0</td><td>-17.0</td><td>&hellip;</td><td>0.01695</td><td>0</td><td>&quot;a55475b1&quot;</td><td>6221.2</td><td>5.0</td><td>22.0</td><td>&quot;F&quot;</td><td>1.0</td><td>4068.6</td><td>12099.0</td><td>0</td><td>0.0</td><td>&quot;a55475b1&quot;</td><td>0.0</td><td>1</td><td>&quot;2020-06-15&quot;</td><td>0.0</td><td>-4.0</td><td>3292.6</td><td>0.0</td><td>&quot;MARRIED&quot;</td><td>0.0</td><td>0.0</td><td>&quot;T&quot;</td><td>3.0</td><td>7.0</td><td>0.0</td><td>9134.0</td><td>0.0</td><td>306.0</td><td>0</td><td>10.0</td><td>0.0</td><td>&quot;PRIMARY_MOBILE…</td><td>3016.39415</td><td>13.0</td><td>1</td></tr></tbody></table></div>"
      ],
      "text/plain": [
       "shape: (5, 228)\n",
       "┌────────────┬────────────┬───────────┬───────────┬───┬───────────┬───────────┬───────────┬────────┐\n",
       "│ maxoutstan ┆ maxdebt4_9 ┆ lastappli ┆ disbursem ┆ … ┆ type_25L  ┆ overdueam ┆ numinstma ┆ target │\n",
       "│ dbalancel1 ┆ 72A        ┆ cationdat ┆ enttype_6 ┆   ┆ ---       ┆ ountmax_3 ┆ tpaidtear ┆ ---    │\n",
       "│ 2m_4187113 ┆ ---        ┆ e_877D_di ┆ 7L        ┆   ┆ cat       ┆ 5A_max    ┆ ly2d_4499 ┆ i64    │\n",
       "│ A          ┆ f64        ┆ ff        ┆ ---       ┆   ┆           ┆ ---       ┆ 204L      ┆        │\n",
       "│ ---        ┆            ┆ ---       ┆ cat       ┆   ┆           ┆ f64       ┆ ---       ┆        │\n",
       "│ f64        ┆            ┆ f64       ┆           ┆   ┆           ┆           ┆ f64       ┆        │\n",
       "╞════════════╪════════════╪═══════════╪═══════════╪═══╪═══════════╪═══════════╪═══════════╪════════╡\n",
       "│ 42520.402  ┆ 0.0        ┆ 217.0     ┆ GBA       ┆ … ┆ PRIMARY_M ┆ 3016.3941 ┆ 13.0      ┆ 0      │\n",
       "│            ┆            ┆           ┆           ┆   ┆ OBILE     ┆ 5         ┆           ┆        │\n",
       "│ 42520.402  ┆ 0.0        ┆ 217.0     ┆ GBA       ┆ … ┆ PRIMARY_M ┆ 3016.3941 ┆ 13.0      ┆ 0      │\n",
       "│            ┆            ┆           ┆           ┆   ┆ OBILE     ┆ 5         ┆           ┆        │\n",
       "│ 42520.402  ┆ 0.0        ┆ 2102.0    ┆ GBA       ┆ … ┆ PRIMARY_M ┆ 3016.3941 ┆ 13.0      ┆ 0      │\n",
       "│            ┆            ┆           ┆           ┆   ┆ OBILE     ┆ 5         ┆           ┆        │\n",
       "│ 42520.402  ┆ 0.0        ┆ -4.0      ┆ GBA       ┆ … ┆ PRIMARY_M ┆ 3016.3941 ┆ 13.0      ┆ 0      │\n",
       "│            ┆            ┆           ┆           ┆   ┆ OBILE     ┆ 5         ┆           ┆        │\n",
       "│ 42520.402  ┆ 0.0        ┆ -4.0      ┆ GBA       ┆ … ┆ PRIMARY_M ┆ 3016.3941 ┆ 13.0      ┆ 1      │\n",
       "│            ┆            ┆           ┆           ┆   ┆ OBILE     ┆ 5         ┆           ┆        │\n",
       "└────────────┴────────────┴───────────┴───────────┴───┴───────────┴───────────┴───────────┴────────┘"
      ]
     },
     "execution_count": 5,
     "metadata": {},
     "output_type": "execute_result"
    }
   ],
   "source": [
    "train = (\n",
    "    pl.read_csv(\"train_final_final.csv\").pipe(set_table_dtypes).pipe(convert_strings)\n",
    ")\n",
    "train.head()"
   ]
  },
  {
   "cell_type": "code",
   "execution_count": 7,
   "metadata": {},
   "outputs": [
    {
     "data": {
      "text/html": [
       "<div><style>\n",
       ".dataframe > thead > tr,\n",
       ".dataframe > tbody > tr {\n",
       "  text-align: right;\n",
       "  white-space: pre-wrap;\n",
       "}\n",
       "</style>\n",
       "<small>shape: (5, 227)</small><table border=\"1\" class=\"dataframe\"><thead><tr><th>maxoutstandbalancel12m_4187113A</th><th>maxdebt4_972A</th><th>lastapplicationdate_877D_diff</th><th>disbursementtype_67L</th><th>numinstregularpaid_973L</th><th>currdebtcredtyperange_828A</th><th>case_id</th><th>pmts_overdue_1140A_sum_right</th><th>opencred_647L</th><th>numinstpaidearly3dest_4493216L</th><th>numberofoutstandinstls_520L_sum</th><th>credtype_587L</th><th>numinstpaid_4499208L</th><th>credtype_322L</th><th>empls_economicalst_849M</th><th>safeguarantyflag_411L</th><th>byoccupationinc_3656910L_max</th><th>credacc_credlmt_575A_max</th><th>dtlastpmtallstes_4499206D_diff</th><th>numpmtchanneldd_318L</th><th>conts_type_509L</th><th>clientscnt_360L</th><th>tenor_203L_sum</th><th>dpdmax_139P_max</th><th>numinstpaidearly_338L</th><th>pmts_dpd_303P_sum</th><th>applicationscnt_629L</th><th>maxinstallast24m_3658928A</th><th>monthsannuity_845L</th><th>lastapprcredamount_781A</th><th>maxlnamtstart6m_4525199A</th><th>numactivecredschannel_414L</th><th>downpmt_116A</th><th>applicationscnt_867L</th><th>posfpd30lastmonth_3976960P</th><th>mobilephncnt_593L</th><th>mindbdtollast24m_4525191P</th><th>&hellip;</th><th>maxdpdtolerance_577P_max</th><th>pctinstlsallpaidlate4d_3546849L</th><th>isbidproduct_390L</th><th>addres_zip_823M</th><th>totinstallast1m_4525188A</th><th>cntincpaycont9m_3716944L</th><th>numinstregularpaidest_4493210L</th><th>sex_738L</th><th>numberofoverdueinstlmax_1151L_sum</th><th>avginstallast24m_3658937A</th><th>dateofbirth_337D_diff</th><th>isbidproduct_1095L</th><th>maxdpdlast24m_143P</th><th>maritalst_385M</th><th>clientscnt_1130L</th><th>equalitydataagreement_891L</th><th>datelastinstal40dpd_247D</th><th>numinstlswithdpd10_728L</th><th>avgdbddpdlast3m_4187120P</th><th>overdueamountmax2_398A_max</th><th>sellerplacecnt_915L</th><th>familystate_447L</th><th>clientscnt3m_3712950L</th><th>posfstqpd30lastmonth_3976962P</th><th>status_219L</th><th>days360_512L</th><th>maxdpdinstlnum_3546846P</th><th>pmts_dpd_1073P_sum</th><th>birth_259D_diff</th><th>clientscnt_304L</th><th>lastactivateddate_801D_diff</th><th>isdebitcard_729L</th><th>dpdmax_757P_max</th><th>maxdpdlast12m_727P</th><th>type_25L</th><th>overdueamountmax_35A_max</th><th>numinstmatpaidtearly2d_4499204L</th></tr><tr><td>f64</td><td>f64</td><td>f64</td><td>cat</td><td>f64</td><td>f64</td><td>i64</td><td>f64</td><td>i64</td><td>f64</td><td>f64</td><td>cat</td><td>f64</td><td>cat</td><td>cat</td><td>i64</td><td>f64</td><td>f64</td><td>f64</td><td>f64</td><td>cat</td><td>f64</td><td>f64</td><td>f64</td><td>f64</td><td>f64</td><td>f64</td><td>f64</td><td>f64</td><td>f64</td><td>f64</td><td>f64</td><td>f64</td><td>f64</td><td>f64</td><td>f64</td><td>f64</td><td>&hellip;</td><td>f64</td><td>f64</td><td>i64</td><td>cat</td><td>f64</td><td>f64</td><td>f64</td><td>cat</td><td>f64</td><td>f64</td><td>f64</td><td>i64</td><td>f64</td><td>cat</td><td>f64</td><td>i64</td><td>cat</td><td>f64</td><td>f64</td><td>f64</td><td>f64</td><td>cat</td><td>f64</td><td>f64</td><td>cat</td><td>f64</td><td>f64</td><td>f64</td><td>f64</td><td>f64</td><td>f64</td><td>i64</td><td>f64</td><td>f64</td><td>cat</td><td>f64</td><td>f64</td></tr></thead><tbody><tr><td>157731.78</td><td>231440.03</td><td>41.0</td><td>&quot;GBA&quot;</td><td>96.0</td><td>0.0</td><td>57543</td><td>0.0</td><td>0</td><td>34.0</td><td>0.0</td><td>&quot;CAL&quot;</td><td>96.0</td><td>&quot;CAL&quot;</td><td>&quot;a55475b1&quot;</td><td>0</td><td>15000.0</td><td>0.0</td><td>-1.0</td><td>0.0</td><td>&quot;PRIMARY_MOBILE…</td><td>0.0</td><td>164.0</td><td>0.0</td><td>25.0</td><td>0.0</td><td>0.0</td><td>131700.8</td><td>66.0</td><td>14000.0</td><td>16672.6</td><td>0.0</td><td>0.0</td><td>9.0</td><td>0.0</td><td>2.0</td><td>-7.0</td><td>&hellip;</td><td>50.0</td><td>0.07292</td><td>0</td><td>&quot;a55475b1&quot;</td><td>17859.6</td><td>5.0</td><td>96.0</td><td>&quot;F&quot;</td><td>34.0</td><td>16049.4</td><td>14804.0</td><td>1</td><td>7.0</td><td>&quot;38c061ee&quot;</td><td>0.0</td><td>1</td><td>&quot;2020-05-28&quot;</td><td>0.0</td><td>2.0</td><td>3271.6882</td><td>0.0</td><td>&quot;SINGLE&quot;</td><td>0.0</td><td>0.0</td><td>&quot;K&quot;</td><td>8.0</td><td>14.0</td><td>0.0</td><td>14804.0</td><td>0.0</td><td>18.0</td><td>0</td><td>20.0</td><td>3.0</td><td>&quot;PRIMARY_MOBILE…</td><td>3271.6882</td><td>37.0</td></tr><tr><td>21278.0</td><td>34066.0</td><td>-10.0</td><td>&quot;GBA&quot;</td><td>44.0</td><td>10638.2</td><td>57549</td><td>0.0</td><td>0</td><td>15.0</td><td>0.0</td><td>&quot;CAL&quot;</td><td>44.0</td><td>&quot;CAL&quot;</td><td>&quot;a55475b1&quot;</td><td>1</td><td>50000.0</td><td>34066.0</td><td>161.0</td><td>0.0</td><td>&quot;PRIMARY_MOBILE…</td><td>0.0</td><td>91.0</td><td>0.0</td><td>15.0</td><td>0.0</td><td>0.0</td><td>122511.4</td><td>41.0</td><td>94000.0</td><td>31820.6</td><td>0.0</td><td>0.0</td><td>10.0</td><td>0.0</td><td>3.0</td><td>-2.0</td><td>&hellip;</td><td>1.0</td><td>0.18605</td><td>1</td><td>&quot;a55475b1&quot;</td><td>126058.0</td><td>3.0</td><td>44.0</td><td>&quot;F&quot;</td><td>310.0</td><td>32426.201</td><td>22723.0</td><td>1</td><td>0.0</td><td>&quot;a7fcb6e5&quot;</td><td>0.0</td><td>1</td><td>&quot;2020-05-28&quot;</td><td>15.0</td><td>0.0</td><td>48690.402</td><td>2.0</td><td>&quot;SINGLE&quot;</td><td>0.0</td><td>0.0</td><td>&quot;K&quot;</td><td>12.0</td><td>16.0</td><td>0.0</td><td>22723.0</td><td>0.0</td><td>-10.0</td><td>0</td><td>108.0</td><td>0.0</td><td>&quot;PRIMARY_MOBILE…</td><td>48690.402</td><td>15.0</td></tr><tr><td>62619.0</td><td>54000.0</td><td>14.0</td><td>&quot;SBA&quot;</td><td>9.0</td><td>0.0</td><td>57551</td><td>0.0</td><td>0</td><td>3.0</td><td>0.0</td><td>&quot;CAL&quot;</td><td>9.0</td><td>&quot;COL&quot;</td><td>&quot;a55475b1&quot;</td><td>0</td><td>32500.0</td><td>17033.0</td><td>161.0</td><td>0.0</td><td>&quot;PRIMARY_MOBILE…</td><td>0.0</td><td>127.5</td><td>0.0</td><td>0.0</td><td>0.0</td><td>0.0</td><td>41783.402</td><td>9.0</td><td>200000.0</td><td>54000.0</td><td>0.0</td><td>0.0</td><td>2.0</td><td>0.0</td><td>1.0</td><td>-4.0</td><td>&hellip;</td><td>25.5</td><td>0.11111</td><td>0</td><td>&quot;a55475b1&quot;</td><td>18374.3</td><td>4.0</td><td>9.0</td><td>&quot;F&quot;</td><td>4.0</td><td>8357.2</td><td>14090.0</td><td>0</td><td>4.0</td><td>&quot;3439d993&quot;</td><td>0.0</td><td>1</td><td>&quot;2020-05-28&quot;</td><td>0.0</td><td>-3.0</td><td>10429.616</td><td>1.0</td><td>&quot;SINGLE&quot;</td><td>0.0</td><td>0.0</td><td>&quot;K&quot;</td><td>4.0</td><td>6.0</td><td>0.0</td><td>14090.0</td><td>0.0</td><td>405.0</td><td>0</td><td>3.0</td><td>4.0</td><td>&quot;PRIMARY_MOBILE…</td><td>10429.616</td><td>5.0</td></tr><tr><td>288642.6</td><td>188126.14</td><td>80.0</td><td>&quot;GBA&quot;</td><td>32.0</td><td>191269.61</td><td>57552</td><td>0.0</td><td>0</td><td>26.0</td><td>0.0</td><td>&quot;CAL&quot;</td><td>32.0</td><td>&quot;CAL&quot;</td><td>&quot;a55475b1&quot;</td><td>1</td><td>32500.0</td><td>17033.0</td><td>161.0</td><td>0.0</td><td>&quot;PRIMARY_MOBILE…</td><td>0.0</td><td>127.5</td><td>0.0</td><td>24.0</td><td>0.0</td><td>0.0</td><td>12155.4</td><td>23.0</td><td>0.0</td><td>104473.6</td><td>0.0</td><td>0.0</td><td>9.0</td><td>0.0</td><td>1.0</td><td>-13.0</td><td>&hellip;</td><td>25.5</td><td>0.0</td><td>0</td><td>&quot;a55475b1&quot;</td><td>18889.0</td><td>18.0</td><td>32.0</td><td>&quot;M&quot;</td><td>19.0</td><td>7440.4</td><td>23768.0</td><td>1</td><td>0.0</td><td>&quot;a55475b1&quot;</td><td>0.0</td><td>1</td><td>&quot;2020-05-28&quot;</td><td>0.0</td><td>-7.0</td><td>6850.6521</td><td>0.0</td><td>&quot;SINGLE&quot;</td><td>0.0</td><td>0.0</td><td>&quot;K&quot;</td><td>5.0</td><td>7.0</td><td>0.0</td><td>23768.0</td><td>0.0</td><td>234.0</td><td>0</td><td>11.5</td><td>0.0</td><td>&quot;PRIMARY_MOBILE…</td><td>6850.6521</td><td>27.0</td></tr><tr><td>0.0</td><td>64555.668</td><td>-14.0</td><td>&quot;GBA&quot;</td><td>15.0</td><td>0.0</td><td>57569</td><td>0.0</td><td>1</td><td>5.0</td><td>0.0</td><td>&quot;CAL&quot;</td><td>15.0</td><td>&quot;CAL&quot;</td><td>&quot;P148_57_109&quot;</td><td>0</td><td>32500.0</td><td>17033.0</td><td>209.0</td><td>0.0</td><td>&quot;PRIMARY_MOBILE…</td><td>0.0</td><td>127.5</td><td>0.0</td><td>5.0</td><td>16300.0</td><td>0.0</td><td>26969.401</td><td>11.0</td><td>20000.0</td><td>42910.3</td><td>0.0</td><td>0.0</td><td>6.0</td><td>0.0</td><td>2.0</td><td>2783.0</td><td>&hellip;</td><td>25.5</td><td>0.66667</td><td>0</td><td>&quot;P96_113_139&quot;</td><td>18374.3</td><td>1.0</td><td>15.0</td><td>&quot;F&quot;</td><td>19.0</td><td>7898.8</td><td>26408.0</td><td>1</td><td>2865.0</td><td>&quot;3439d993&quot;</td><td>0.0</td><td>1</td><td>&quot;2018-09-18&quot;</td><td>36.0</td><td>-3.0</td><td>6850.6521</td><td>2.0</td><td>&quot;SINGLE&quot;</td><td>0.0</td><td>0.0</td><td>&quot;K&quot;</td><td>4.0</td><td>7.0</td><td>0.0</td><td>26408.0</td><td>0.0</td><td>3440.0</td><td>0</td><td>11.5</td><td>2865.0</td><td>&quot;PRIMARY_MOBILE…</td><td>6850.6521</td><td>5.0</td></tr></tbody></table></div>"
      ],
      "text/plain": [
       "shape: (5, 227)\n",
       "┌───────────┬───────────┬───────────┬───────────┬───┬───────────┬───────────┬───────────┬──────────┐\n",
       "│ maxoutsta ┆ maxdebt4_ ┆ lastappli ┆ disbursem ┆ … ┆ maxdpdlas ┆ type_25L  ┆ overdueam ┆ numinstm │\n",
       "│ ndbalance ┆ 972A      ┆ cationdat ┆ enttype_6 ┆   ┆ t12m_727P ┆ ---       ┆ ountmax_3 ┆ atpaidte │\n",
       "│ l12m_4187 ┆ ---       ┆ e_877D_di ┆ 7L        ┆   ┆ ---       ┆ cat       ┆ 5A_max    ┆ arly2d_4 │\n",
       "│ 113A      ┆ f64       ┆ ff        ┆ ---       ┆   ┆ f64       ┆           ┆ ---       ┆ 499204L  │\n",
       "│ ---       ┆           ┆ ---       ┆ cat       ┆   ┆           ┆           ┆ f64       ┆ ---      │\n",
       "│ f64       ┆           ┆ f64       ┆           ┆   ┆           ┆           ┆           ┆ f64      │\n",
       "╞═══════════╪═══════════╪═══════════╪═══════════╪═══╪═══════════╪═══════════╪═══════════╪══════════╡\n",
       "│ 157731.78 ┆ 231440.03 ┆ 41.0      ┆ GBA       ┆ … ┆ 3.0       ┆ PRIMARY_M ┆ 3271.6882 ┆ 37.0     │\n",
       "│           ┆           ┆           ┆           ┆   ┆           ┆ OBILE     ┆           ┆          │\n",
       "│ 21278.0   ┆ 34066.0   ┆ -10.0     ┆ GBA       ┆ … ┆ 0.0       ┆ PRIMARY_M ┆ 48690.402 ┆ 15.0     │\n",
       "│           ┆           ┆           ┆           ┆   ┆           ┆ OBILE     ┆           ┆          │\n",
       "│ 62619.0   ┆ 54000.0   ┆ 14.0      ┆ SBA       ┆ … ┆ 4.0       ┆ PRIMARY_M ┆ 10429.616 ┆ 5.0      │\n",
       "│           ┆           ┆           ┆           ┆   ┆           ┆ OBILE     ┆           ┆          │\n",
       "│ 288642.6  ┆ 188126.14 ┆ 80.0      ┆ GBA       ┆ … ┆ 0.0       ┆ PRIMARY_M ┆ 6850.6521 ┆ 27.0     │\n",
       "│           ┆           ┆           ┆           ┆   ┆           ┆ OBILE     ┆           ┆          │\n",
       "│ 0.0       ┆ 64555.668 ┆ -14.0     ┆ GBA       ┆ … ┆ 2865.0    ┆ PRIMARY_M ┆ 6850.6521 ┆ 5.0      │\n",
       "│           ┆           ┆           ┆           ┆   ┆           ┆ OBILE     ┆           ┆          │\n",
       "└───────────┴───────────┴───────────┴───────────┴───┴───────────┴───────────┴───────────┴──────────┘"
      ]
     },
     "execution_count": 7,
     "metadata": {},
     "output_type": "execute_result"
    }
   ],
   "source": [
    "test = pl.read_csv(\"test_final_final.csv\").pipe(set_table_dtypes).pipe(convert_strings)\n",
    "test.head()"
   ]
  },
  {
   "cell_type": "code",
   "execution_count": 8,
   "metadata": {},
   "outputs": [],
   "source": [
    "# change train and test to pandas\n",
    "train = train.to_pandas()\n",
    "test = test.to_pandas()"
   ]
  },
  {
   "cell_type": "code",
   "execution_count": 9,
   "metadata": {},
   "outputs": [],
   "source": [
    "y = train.loc[:, \"target\"].to_frame(\"target\")\n",
    "X = train.drop(\n",
    "    [\n",
    "        \"target\",\n",
    "    ],\n",
    "    axis=1,\n",
    ")\n",
    "\n",
    "# Do not include case_id, or week_num as numeric\n",
    "numeric_cols = test.select_dtypes(include=[\"number\"]).columns.tolist()\n",
    "numeric_cols.remove(\"case_id\")\n",
    "numeric_cols.remove(\"WEEK_NUM\")\n",
    "\n",
    "\n",
    "# scale values before passing on to model\n",
    "warnings.filterwarnings(\"ignore\")\n",
    "scaler = MinMaxScaler(copy=False)\n",
    "X[numeric_cols] = scaler.fit_transform(X[numeric_cols])\n",
    "test[numeric_cols] = scaler.transform(test[numeric_cols])\n",
    "\n",
    "# Drop case_id and week_num from features\n",
    "weeks = X[\"WEEK_NUM\"]\n",
    "X_feats = X.drop([\"case_id\", \"WEEK_NUM\"], axis=1)\n",
    "\n",
    "# Sort columns in alphabetical order for training so columns match test submission\n",
    "X_feats = X_feats.reindex(sorted(X_feats.columns), axis=1)"
   ]
  },
  {
   "cell_type": "markdown",
   "metadata": {},
   "source": [
    "LGB TRAINING"
   ]
  },
  {
   "cell_type": "code",
   "execution_count": 10,
   "metadata": {},
   "outputs": [
    {
     "name": "stdout",
     "output_type": "stream",
     "text": [
      "Training until validation scores don't improve for 100 rounds\n",
      "[200]\tvalid_0's auc: 0.833387\n",
      "[400]\tvalid_0's auc: 0.839012\n",
      "Did not meet early stopping. Best iteration is:\n",
      "[500]\tvalid_0's auc: 0.840244\n",
      "Training until validation scores don't improve for 100 rounds\n",
      "[200]\tvalid_0's auc: 0.831968\n",
      "[400]\tvalid_0's auc: 0.836585\n",
      "Did not meet early stopping. Best iteration is:\n",
      "[500]\tvalid_0's auc: 0.837561\n",
      "CV AUC scores:  [0.8402442837706309, 0.8375606069031353]\n",
      "Maximum CV AUC score:  0.8402442837706309\n",
      "CPU times: user 14min 15s, sys: 2.19 s, total: 14min 17s\n",
      "Wall time: 1min 55s\n"
     ]
    }
   ],
   "source": [
    "%%time\n",
    "warnings.filterwarnings(\"ignore\")\n",
    "cv = StratifiedGroupKFold(n_splits=2, shuffle=True)\n",
    "\n",
    "fitted_models = []\n",
    "cv_scores = []\n",
    "\n",
    "# Note: uncomment device when running with GPU P100 accelerator\n",
    "grid_params = {\n",
    "    \"boosting_type\": \"gbdt\",\n",
    "    \"objective\": \"binary\",\n",
    "    \"metric\": \"auc\",\n",
    "    \"max_depth\": 10,\n",
    "    \"learning_rate\": 0.05,\n",
    "    \"n_estimators\": 500,\n",
    "    \"colsample_bytree\": 0.8,\n",
    "    \"colsample_bynode\": 0.8,\n",
    "    \"random_state\": 42,\n",
    "    \"reg_alpha\": 0.1,\n",
    "    \"reg_lambda\": 10,\n",
    "    \"extra_trees\":True,\n",
    "    'num_leaves':64,\n",
    "    \"verbose\": -1,\n",
    "    \"max_bin\": 250,\n",
    "    #'device':'gpu',\n",
    "}\n",
    "\n",
    "for idx_train, idx_valid in cv.split(X_feats, y, groups=weeks):\n",
    "    X_train, y_train = X_feats.iloc[idx_train], y.iloc[idx_train]\n",
    "    X_valid, y_valid = X_feats.iloc[idx_valid], y.iloc[idx_valid]\n",
    "    \n",
    "    clf = lgb.LGBMClassifier(**grid_params)\n",
    "    clf.fit(\n",
    "        X_train, y_train,\n",
    "        eval_set = [(X_valid, y_valid)],\n",
    "        callbacks = [lgb.log_evaluation(200), lgb.early_stopping(100)])\n",
    "    fitted_models.append(clf)\n",
    "    \n",
    "    y_pred_valid = clf.predict_proba(X_valid)[:,1]\n",
    "    auc_score = roc_auc_score(y_valid, y_pred_valid)\n",
    "    cv_scores.append(auc_score)\n",
    "\n",
    "print(\"CV AUC scores: \", cv_scores)\n",
    "print(\"Maximum CV AUC score: \", max(cv_scores))\n",
    "\n",
    "warnings.filterwarnings(\"default\")"
   ]
  },
  {
   "cell_type": "code",
   "execution_count": 13,
   "metadata": {},
   "outputs": [],
   "source": [
    "class VotingModel(BaseEstimator, RegressorMixin):\n",
    "    def __init__(self, estimators):\n",
    "        super().__init__()\n",
    "        self.estimators = estimators\n",
    "\n",
    "    def fit(self, X, y=None):\n",
    "        return self\n",
    "\n",
    "    def predict(self, X):\n",
    "        y_preds = [estimator.predict(X) for estimator in self.estimators]\n",
    "        return np.mean(y_preds, axis=0)\n",
    "\n",
    "    def predict_proba(self, X):\n",
    "        y_preds = [estimator.predict_proba(X) for estimator in self.estimators]\n",
    "        return np.mean(y_preds, axis=0)\n",
    "\n",
    "\n",
    "model = VotingModel(fitted_models)\n",
    "model_plot = fitted_models[np.argmax(cv_scores)]"
   ]
  },
  {
   "cell_type": "code",
   "execution_count": 14,
   "metadata": {},
   "outputs": [
    {
     "name": "stdout",
     "output_type": "stream",
     "text": [
      "The AUC score on the train set is: 0.8660026578484494\n",
      "The AUC score on the valid set is: 0.8618776287712931\n"
     ]
    }
   ],
   "source": [
    "base_train = pd.concat([X_train, y_train], axis=1)\n",
    "base_train[\"score\"] = model.predict_proba(X_train)[:, 1]\n",
    "print(\n",
    "    f\"The AUC score on the train set is: {roc_auc_score(base_train['target'], base_train['score'])}\"\n",
    ")\n",
    "\n",
    "base_valid = pd.concat([X_valid, y_valid], axis=1)\n",
    "base_valid[\"score\"] = model.predict_proba(X_valid)[:, 1]\n",
    "print(\n",
    "    f\"The AUC score on the valid set is: {roc_auc_score(base_valid['target'], base_valid['score'])}\"\n",
    ")"
   ]
  },
  {
   "cell_type": "markdown",
   "metadata": {},
   "source": [
    "Stability"
   ]
  },
  {
   "cell_type": "code",
   "execution_count": 11,
   "metadata": {},
   "outputs": [],
   "source": [
    "def gini_stability(base, w_fallingrate=88.0, w_resstd=-0.5):\n",
    "    gini_in_time = (\n",
    "        base.loc[:, [\"WEEK_NUM\", \"target\", \"score\"]]\n",
    "        .sort_values(\"WEEK_NUM\")\n",
    "        .groupby(\"WEEK_NUM\")[[\"target\", \"score\"]]\n",
    "        .apply(lambda x: 2 * roc_auc_score(x[\"target\"], x[\"score\"]) - 1)\n",
    "        .tolist()\n",
    "    )\n",
    "\n",
    "    x = np.arange(len(gini_in_time))\n",
    "    y = gini_in_time\n",
    "    a, b = np.polyfit(x, y, 1)\n",
    "    y_hat = a * x + b\n",
    "    residuals = y - y_hat\n",
    "    res_std = np.std(residuals)\n",
    "    avg_gini = np.mean(gini_in_time)\n",
    "    return avg_gini + w_fallingrate * min(0, a) + w_resstd * res_std"
   ]
  },
  {
   "cell_type": "code",
   "execution_count": 17,
   "metadata": {},
   "outputs": [
    {
     "name": "stdout",
     "output_type": "stream",
     "text": [
      "The stability score on the valid set is: 0.7250289974734646\n"
     ]
    }
   ],
   "source": [
    "base_train[\"WEEK_NUM\"] = weeks.iloc[idx_train]\n",
    "stability_score_valid = gini_stability(base_train)\n",
    "print(f\"The stability score on the valid set is: {stability_score_valid}\")"
   ]
  }
 ],
 "metadata": {
  "kernelspec": {
   "display_name": "Python 3",
   "language": "python",
   "name": "python3"
  },
  "language_info": {
   "codemirror_mode": {
    "name": "ipython",
    "version": 3
   },
   "file_extension": ".py",
   "mimetype": "text/x-python",
   "name": "python",
   "nbconvert_exporter": "python",
   "pygments_lexer": "ipython3",
   "version": "3.10.13"
  }
 },
 "nbformat": 4,
 "nbformat_minor": 2
}

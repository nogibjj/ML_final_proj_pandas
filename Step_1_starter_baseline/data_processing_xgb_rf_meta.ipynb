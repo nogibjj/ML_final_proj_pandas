{
 "cells": [
  {
   "cell_type": "markdown",
   "id": "c6ffbd85",
   "metadata": {
    "_cell_guid": "b1076dfc-b9ad-4769-8c92-a6c4dae69d19",
    "_uuid": "8f2839f25d086af736a60e9eeb907d3b93b6e0e5",
    "papermill": {
     "duration": 0.007009,
     "end_time": "2024-02-07T21:27:57.505355",
     "exception": false,
     "start_time": "2024-02-07T21:27:57.498346",
     "status": "completed"
    },
    "tags": []
   },
   "source": [
    "# Base one note book\n",
    "\n",
    "Portion of Data processing inherited from original Starters' Notebook\n",
    "\n",
    "In this notebook you will see how to:\n",
    "* Load the data.(from Origianl starters' notebook)\n",
    "* Join tables with Polars.  (from original starters' notebook)\n",
    "* Featture Engineering: one hot encoding, missing value handlement\n",
    "* Train a XGboost\n",
    "* Train a Random Forest\n",
    "* Ensemble Iforest + Random Forest\n",
    "* Ensemble Iforest + XGboost\n",
    "## Load the data"
   ]
  },
  {
   "cell_type": "code",
   "execution_count": 1,
   "id": "00187238",
   "metadata": {
    "execution": {
     "iopub.execute_input": "2024-02-07T21:27:57.520412Z",
     "iopub.status.busy": "2024-02-07T21:27:57.520013Z",
     "iopub.status.idle": "2024-02-07T21:28:01.736666Z",
     "shell.execute_reply": "2024-02-07T21:28:01.735326Z"
    },
    "papermill": {
     "duration": 4.227484,
     "end_time": "2024-02-07T21:28:01.739621",
     "exception": false,
     "start_time": "2024-02-07T21:27:57.512137",
     "status": "completed"
    },
    "tags": []
   },
   "outputs": [],
   "source": [
    "import polars as pl\n",
    "import numpy as np\n",
    "import pandas as pd\n",
    "\n",
    "# import lightgbm as lgb\n",
    "from sklearn.model_selection import train_test_split\n",
    "from sklearn.metrics import roc_auc_score\n",
    "\n",
    "dataPath = \"/kaggle/input/home-credit-credit-risk-model-stability/\""
   ]
  },
  {
   "cell_type": "code",
   "execution_count": 2,
   "id": "14b1f90b",
   "metadata": {
    "execution": {
     "iopub.execute_input": "2024-02-07T21:28:01.755445Z",
     "iopub.status.busy": "2024-02-07T21:28:01.755022Z",
     "iopub.status.idle": "2024-02-07T21:28:01.764738Z",
     "shell.execute_reply": "2024-02-07T21:28:01.763428Z"
    },
    "papermill": {
     "duration": 0.020544,
     "end_time": "2024-02-07T21:28:01.767089",
     "exception": false,
     "start_time": "2024-02-07T21:28:01.746545",
     "status": "completed"
    },
    "tags": []
   },
   "outputs": [],
   "source": [
    "def set_table_dtypes(df: pl.DataFrame) -> pl.DataFrame:\n",
    "    # implement here all desired dtypes for tables\n",
    "    # the following is just an example\n",
    "    for col in df.columns:\n",
    "        # last letter of column name will help you determine the type\n",
    "        if col[-1] in (\"P\", \"A\"):\n",
    "            df = df.with_columns(pl.col(col).cast(pl.Float64).alias(col))\n",
    "\n",
    "    return df\n",
    "\n",
    "\n",
    "def convert_strings(df: pd.DataFrame) -> pd.DataFrame:\n",
    "    for col in df.columns:\n",
    "        if df[col].dtype.name in [\"object\", \"string\"]:\n",
    "            df[col] = df[col].astype(\"string\").astype(\"category\")\n",
    "            current_categories = df[col].cat.categories\n",
    "            new_categories = current_categories.to_list() + [\"Unknown\"]\n",
    "            new_dtype = pd.CategoricalDtype(categories=new_categories, ordered=True)\n",
    "            df[col] = df[col].astype(new_dtype)\n",
    "    return df"
   ]
  },
  {
   "cell_type": "code",
   "execution_count": 3,
   "id": "016b91f9",
   "metadata": {
    "execution": {
     "iopub.execute_input": "2024-02-07T21:28:01.782683Z",
     "iopub.status.busy": "2024-02-07T21:28:01.782161Z",
     "iopub.status.idle": "2024-02-07T21:28:20.978046Z",
     "shell.execute_reply": "2024-02-07T21:28:20.977092Z"
    },
    "papermill": {
     "duration": 19.207089,
     "end_time": "2024-02-07T21:28:20.980847",
     "exception": false,
     "start_time": "2024-02-07T21:28:01.773758",
     "status": "completed"
    },
    "tags": []
   },
   "outputs": [],
   "source": [
    "train_basetable = pl.read_csv(\"train_base.csv\")\n",
    "train_static = pl.concat(\n",
    "    [\n",
    "        pl.read_csv(\"train_static_0_0.csv\").pipe(set_table_dtypes),\n",
    "        pl.read_csv(\"train_static_0_1.csv\").pipe(set_table_dtypes),\n",
    "    ],\n",
    "    how=\"vertical_relaxed\",\n",
    ")\n",
    "train_static_cb = pl.read_csv(\"train_static_cb_0.csv\").pipe(set_table_dtypes)\n",
    "train_person_1 = pl.read_csv(\"train_person_1.csv\").pipe(set_table_dtypes)\n",
    "train_credit_bureau_b_2 = pl.read_csv(\"train_credit_bureau_b_2.csv\").pipe(\n",
    "    set_table_dtypes\n",
    ")"
   ]
  },
  {
   "cell_type": "code",
   "execution_count": 4,
   "id": "bf8d8336",
   "metadata": {
    "execution": {
     "iopub.execute_input": "2024-02-07T21:28:20.996615Z",
     "iopub.status.busy": "2024-02-07T21:28:20.995823Z",
     "iopub.status.idle": "2024-02-07T21:28:21.064631Z",
     "shell.execute_reply": "2024-02-07T21:28:21.063597Z"
    },
    "papermill": {
     "duration": 0.079736,
     "end_time": "2024-02-07T21:28:21.067361",
     "exception": false,
     "start_time": "2024-02-07T21:28:20.987625",
     "status": "completed"
    },
    "tags": []
   },
   "outputs": [],
   "source": [
    "test_basetable = pl.read_csv(\"test_base.csv\")\n",
    "test_static = pl.concat(\n",
    "    [\n",
    "        pl.read_csv(\"test_static_0_0.csv\").pipe(set_table_dtypes),\n",
    "        pl.read_csv(\"test_static_0_1.csv\").pipe(set_table_dtypes),\n",
    "        pl.read_csv(\"test_static_0_2.csv\").pipe(set_table_dtypes),\n",
    "    ],\n",
    "    how=\"vertical_relaxed\",\n",
    ")\n",
    "test_static_cb = pl.read_csv(\"test_static_cb_0.csv\").pipe(set_table_dtypes)\n",
    "test_person_1 = pl.read_csv(\"test_person_1.csv\").pipe(set_table_dtypes)\n",
    "test_credit_bureau_b_2 = pl.read_csv(\"test_credit_bureau_b_2.csv\").pipe(\n",
    "    set_table_dtypes\n",
    ")"
   ]
  },
  {
   "cell_type": "markdown",
   "id": "a93fe797",
   "metadata": {
    "papermill": {
     "duration": 0.006268,
     "end_time": "2024-02-07T21:28:21.080353",
     "exception": false,
     "start_time": "2024-02-07T21:28:21.074085",
     "status": "completed"
    },
    "tags": []
   },
   "source": [
    "## Feature engineering\n",
    "\n",
    "In this part, we can see a simple example of joining tables via `case_id`. Here the loading and joining is done with polars library. Polars library is blazingly fast and has much smaller memory footprint than pandas. "
   ]
  },
  {
   "cell_type": "code",
   "execution_count": 5,
   "id": "eed7be3e",
   "metadata": {
    "execution": {
     "iopub.execute_input": "2024-02-07T21:28:21.095200Z",
     "iopub.status.busy": "2024-02-07T21:28:21.094816Z",
     "iopub.status.idle": "2024-02-07T21:28:22.748078Z",
     "shell.execute_reply": "2024-02-07T21:28:22.747011Z"
    },
    "papermill": {
     "duration": 1.664029,
     "end_time": "2024-02-07T21:28:22.750906",
     "exception": false,
     "start_time": "2024-02-07T21:28:21.086877",
     "status": "completed"
    },
    "tags": []
   },
   "outputs": [
    {
     "name": "stdout",
     "output_type": "stream",
     "text": [
      "['amtinstpaidbefduel24m_4187115A', 'annuity_780A', 'annuitynextmonth_57A', 'avginstallast24m_3658937A', 'avglnamtstart24m_4525187A', 'avgoutstandbalancel6m_4187114A', 'avgpmtlast12m_4525200A', 'credamount_770A', 'currdebt_22A', 'currdebtcredtyperange_828A', 'disbursedcredamount_1113A', 'downpmt_116A', 'inittransactionamount_650A', 'lastapprcommoditycat_1041M', 'lastapprcommoditytypec_5251766M', 'lastapprcredamount_781A', 'lastcancelreason_561M', 'lastotherinc_902A', 'lastotherlnsexpense_631A', 'lastrejectcommoditycat_161M', 'lastrejectcommodtypec_5251769M', 'lastrejectcredamount_222A', 'lastrejectreason_759M', 'lastrejectreasonclient_4145040M', 'maininc_215A', 'maxannuity_159A', 'maxannuity_4075009A', 'maxdebt4_972A', 'maxinstallast24m_3658928A', 'maxlnamtstart6m_4525199A', 'maxoutstandbalancel12m_4187113A', 'maxpmtlast3m_4525190A', 'previouscontdistrict_112M', 'price_1097A', 'sumoutstandtotal_3546847A', 'sumoutstandtotalest_4493215A', 'totaldebt_9A', 'totalsettled_863A', 'totinstallast1m_4525188A']\n",
      "['description_5085714M', 'education_1103M', 'education_88M', 'maritalst_385M', 'maritalst_893M', 'pmtaverage_3A', 'pmtaverage_4527227A', 'pmtaverage_4955615A', 'pmtssum_45A']\n"
     ]
    }
   ],
   "source": [
    "# We need to use aggregation functions in tables with depth > 1, so tables that contain num_group1 column or\n",
    "# also num_group2 column.\n",
    "train_person_1_feats_1 = train_person_1.group_by(\"case_id\").agg(\n",
    "    pl.col(\"mainoccupationinc_384A\").max().alias(\"mainoccupationinc_384A_max\"),\n",
    "    (pl.col(\"incometype_1044T\") == \"SELFEMPLOYED\")\n",
    "    .max()\n",
    "    .alias(\"mainoccupationinc_384A_any_selfemployed\"),\n",
    ")\n",
    "\n",
    "# Here num_group1=0 has special meaning, it is the person who applied for the loan.\n",
    "train_person_1_feats_2 = (\n",
    "    train_person_1.select([\"case_id\", \"num_group1\", \"housetype_905L\"])\n",
    "    .filter(pl.col(\"num_group1\") == 0)\n",
    "    .drop(\"num_group1\")\n",
    "    .rename({\"housetype_905L\": \"person_housetype\"})\n",
    ")\n",
    "\n",
    "# Here we have num_goup1 and num_group2, so we need to aggregate again.\n",
    "train_credit_bureau_b_2_feats = train_credit_bureau_b_2.group_by(\"case_id\").agg(\n",
    "    pl.col(\"pmts_pmtsoverdue_635A\").max().alias(\"pmts_pmtsoverdue_635A_max\"),\n",
    "    (pl.col(\"pmts_dpdvalue_108P\") > 31).max().alias(\"pmts_dpdvalue_108P_over31\"),\n",
    ")\n",
    "\n",
    "# We will process in this examples only A-type and M-type columns, so we need to select them.\n",
    "selected_static_cols = []\n",
    "for col in train_static.columns:\n",
    "    if col[-1] in (\"A\", \"M\"):\n",
    "        selected_static_cols.append(col)\n",
    "print(selected_static_cols)\n",
    "\n",
    "selected_static_cb_cols = []\n",
    "for col in train_static_cb.columns:\n",
    "    if col[-1] in (\"A\", \"M\"):\n",
    "        selected_static_cb_cols.append(col)\n",
    "print(selected_static_cb_cols)\n",
    "\n",
    "# Join all tables together.\n",
    "data = (\n",
    "    train_basetable.join(\n",
    "        train_static.select([\"case_id\"] + selected_static_cols),\n",
    "        how=\"left\",\n",
    "        on=\"case_id\",\n",
    "    )\n",
    "    .join(\n",
    "        train_static_cb.select([\"case_id\"] + selected_static_cb_cols),\n",
    "        how=\"left\",\n",
    "        on=\"case_id\",\n",
    "    )\n",
    "    .join(train_person_1_feats_1, how=\"left\", on=\"case_id\")\n",
    "    .join(train_person_1_feats_2, how=\"left\", on=\"case_id\")\n",
    "    .join(train_credit_bureau_b_2_feats, how=\"left\", on=\"case_id\")\n",
    ")"
   ]
  },
  {
   "cell_type": "code",
   "execution_count": 6,
   "id": "3cc4a29b",
   "metadata": {
    "execution": {
     "iopub.execute_input": "2024-02-07T21:28:22.766849Z",
     "iopub.status.busy": "2024-02-07T21:28:22.766164Z",
     "iopub.status.idle": "2024-02-07T21:28:22.780619Z",
     "shell.execute_reply": "2024-02-07T21:28:22.779457Z"
    },
    "papermill": {
     "duration": 0.025248,
     "end_time": "2024-02-07T21:28:22.783159",
     "exception": false,
     "start_time": "2024-02-07T21:28:22.757911",
     "status": "completed"
    },
    "tags": []
   },
   "outputs": [],
   "source": [
    "test_person_1_feats_1 = test_person_1.group_by(\"case_id\").agg(\n",
    "    pl.col(\"mainoccupationinc_384A\").max().alias(\"mainoccupationinc_384A_max\"),\n",
    "    (pl.col(\"incometype_1044T\") == \"SELFEMPLOYED\")\n",
    "    .max()\n",
    "    .alias(\"mainoccupationinc_384A_any_selfemployed\"),\n",
    ")\n",
    "\n",
    "test_person_1_feats_2 = (\n",
    "    test_person_1.select([\"case_id\", \"num_group1\", \"housetype_905L\"])\n",
    "    .filter(pl.col(\"num_group1\") == 0)\n",
    "    .drop(\"num_group1\")\n",
    "    .rename({\"housetype_905L\": \"person_housetype\"})\n",
    ")\n",
    "\n",
    "test_credit_bureau_b_2_feats = test_credit_bureau_b_2.group_by(\"case_id\").agg(\n",
    "    pl.col(\"pmts_pmtsoverdue_635A\").max().alias(\"pmts_pmtsoverdue_635A_max\"),\n",
    "    (pl.col(\"pmts_dpdvalue_108P\") > 31).max().alias(\"pmts_dpdvalue_108P_over31\"),\n",
    ")\n",
    "\n",
    "data_submission = (\n",
    "    test_basetable.join(\n",
    "        test_static.select([\"case_id\"] + selected_static_cols), how=\"left\", on=\"case_id\"\n",
    "    )\n",
    "    .join(\n",
    "        test_static_cb.select([\"case_id\"] + selected_static_cb_cols),\n",
    "        how=\"left\",\n",
    "        on=\"case_id\",\n",
    "    )\n",
    "    .join(test_person_1_feats_1, how=\"left\", on=\"case_id\")\n",
    "    .join(test_person_1_feats_2, how=\"left\", on=\"case_id\")\n",
    "    .join(test_credit_bureau_b_2_feats, how=\"left\", on=\"case_id\")\n",
    ")"
   ]
  },
  {
   "cell_type": "code",
   "execution_count": 7,
   "id": "7195e82a",
   "metadata": {
    "execution": {
     "iopub.execute_input": "2024-02-07T21:28:22.798812Z",
     "iopub.status.busy": "2024-02-07T21:28:22.798415Z",
     "iopub.status.idle": "2024-02-07T21:28:32.218372Z",
     "shell.execute_reply": "2024-02-07T21:28:32.217254Z"
    },
    "papermill": {
     "duration": 9.431294,
     "end_time": "2024-02-07T21:28:32.221469",
     "exception": false,
     "start_time": "2024-02-07T21:28:22.790175",
     "status": "completed"
    },
    "tags": []
   },
   "outputs": [
    {
     "name": "stdout",
     "output_type": "stream",
     "text": [
      "['amtinstpaidbefduel24m_4187115A', 'annuity_780A', 'annuitynextmonth_57A', 'avginstallast24m_3658937A', 'avglnamtstart24m_4525187A', 'avgoutstandbalancel6m_4187114A', 'avgpmtlast12m_4525200A', 'credamount_770A', 'currdebt_22A', 'currdebtcredtyperange_828A', 'disbursedcredamount_1113A', 'downpmt_116A', 'inittransactionamount_650A', 'lastapprcommoditycat_1041M', 'lastapprcommoditytypec_5251766M', 'lastapprcredamount_781A', 'lastcancelreason_561M', 'lastotherinc_902A', 'lastotherlnsexpense_631A', 'lastrejectcommoditycat_161M', 'lastrejectcommodtypec_5251769M', 'lastrejectcredamount_222A', 'lastrejectreason_759M', 'lastrejectreasonclient_4145040M', 'maininc_215A', 'maxannuity_159A', 'maxannuity_4075009A', 'maxdebt4_972A', 'maxinstallast24m_3658928A', 'maxlnamtstart6m_4525199A', 'maxoutstandbalancel12m_4187113A', 'maxpmtlast3m_4525190A', 'previouscontdistrict_112M', 'price_1097A', 'sumoutstandtotal_3546847A', 'sumoutstandtotalest_4493215A', 'totaldebt_9A', 'totalsettled_863A', 'totinstallast1m_4525188A', 'description_5085714M', 'education_1103M', 'education_88M', 'maritalst_385M', 'maritalst_893M', 'pmtaverage_3A', 'pmtaverage_4527227A', 'pmtaverage_4955615A', 'pmtssum_45A']\n"
     ]
    }
   ],
   "source": [
    "case_ids = data[\"case_id\"].unique().shuffle(seed=1)\n",
    "case_ids_train, case_ids_test = train_test_split(\n",
    "    case_ids, train_size=0.6, random_state=1\n",
    ")\n",
    "case_ids_valid, case_ids_test = train_test_split(\n",
    "    case_ids_test, train_size=0.5, random_state=1\n",
    ")\n",
    "\n",
    "cols_pred = []\n",
    "for col in data.columns:\n",
    "    if col[-1].isupper() and col[:-1].islower():\n",
    "        cols_pred.append(col)\n",
    "\n",
    "print(cols_pred)\n",
    "\n",
    "\n",
    "def from_polars_to_pandas(case_ids: pl.DataFrame) -> pl.DataFrame:\n",
    "    return (\n",
    "        data.filter(pl.col(\"case_id\").is_in(case_ids))[\n",
    "            [\"case_id\", \"WEEK_NUM\", \"target\"]\n",
    "        ].to_pandas(),\n",
    "        data.filter(pl.col(\"case_id\").is_in(case_ids))[cols_pred].to_pandas(),\n",
    "        data.filter(pl.col(\"case_id\").is_in(case_ids))[\"target\"].to_pandas(),\n",
    "    )\n",
    "\n",
    "\n",
    "base_train, X_train, y_train = from_polars_to_pandas(case_ids_train)\n",
    "base_valid, X_valid, y_valid = from_polars_to_pandas(case_ids_valid)\n",
    "base_test, X_test, y_test = from_polars_to_pandas(case_ids_test)\n",
    "\n",
    "for df in [X_train, X_valid, X_test]:\n",
    "    df = convert_strings(df)"
   ]
  },
  {
   "cell_type": "code",
   "execution_count": 8,
   "id": "ba226984",
   "metadata": {},
   "outputs": [],
   "source": [
    "base_train, X_train, y_train = from_polars_to_pandas(case_ids_train)\n",
    "base_valid, X_valid, y_valid = from_polars_to_pandas(case_ids_valid)\n",
    "base_test, X_test, y_test = from_polars_to_pandas(case_ids_test)\n",
    "\n",
    "for df in [X_train, X_valid, X_test]:\n",
    "    df = convert_strings(df)"
   ]
  },
  {
   "cell_type": "markdown",
   "id": "0d2ed8a4",
   "metadata": {},
   "source": [
    "One Hot Encoding"
   ]
  },
  {
   "cell_type": "code",
   "execution_count": 9,
   "id": "2cc0b10c",
   "metadata": {},
   "outputs": [
    {
     "name": "stdout",
     "output_type": "stream",
     "text": [
      "(305332, 726)\n",
      "(915995, 826)\n",
      "(305332, 728)\n"
     ]
    }
   ],
   "source": [
    "from sklearn.preprocessing import OneHotEncoder\n",
    "\n",
    "encoder = OneHotEncoder()\n",
    "category_colums = X_test.select_dtypes(include=[\"category\"]).columns\n",
    "\n",
    "# encode test data\n",
    "encoded_data = encoder.fit_transform(X_test[category_colums])\n",
    "encoded_df = pd.DataFrame(\n",
    "    encoded_data.toarray(), columns=encoder.get_feature_names_out(category_colums)\n",
    ")\n",
    "X_test.drop(columns=category_colums, inplace=True)\n",
    "X_test = pd.concat([X_test, encoded_df], axis=1)\n",
    "\n",
    "# one hot encoding for X_train\n",
    "encoded_data = encoder.fit_transform(X_train[category_colums])\n",
    "encoded_df = pd.DataFrame(\n",
    "    encoded_data.toarray(), columns=encoder.get_feature_names_out(category_colums)\n",
    ")\n",
    "X_train.drop(columns=category_colums, inplace=True)\n",
    "X_train = pd.concat([X_train, encoded_df], axis=1)\n",
    "\n",
    "# one hot encoding for X_valid\n",
    "encoded_data = encoder.fit_transform(X_valid[category_colums])\n",
    "encoded_df = pd.DataFrame(\n",
    "    encoded_data.toarray(), columns=encoder.get_feature_names_out(category_colums)\n",
    ")\n",
    "X_valid.drop(columns=category_colums, inplace=True)\n",
    "X_valid = pd.concat([X_valid, encoded_df], axis=1)\n",
    "\n",
    "print(X_test.shape)\n",
    "print(X_train.shape)\n",
    "print(X_valid.shape)"
   ]
  },
  {
   "cell_type": "code",
   "execution_count": 10,
   "id": "bd0650a9",
   "metadata": {},
   "outputs": [
    {
     "name": "stdout",
     "output_type": "stream",
     "text": [
      "(305332, 657)\n",
      "(915995, 657)\n",
      "(305332, 657)\n"
     ]
    }
   ],
   "source": [
    "# match columns with X_Test\n",
    "test_columns = X_test.columns\n",
    "missing_columns = [\n",
    "    col\n",
    "    for col in test_columns\n",
    "    if col not in X_train.columns or col not in X_valid.columns\n",
    "]\n",
    "X_test = X_test.drop(columns=missing_columns)\n",
    "test_columns = X_test.columns\n",
    "X_train = X_train[test_columns]\n",
    "X_valid = X_valid[test_columns]\n",
    "print(X_test.shape)\n",
    "print(X_train.shape)\n",
    "print(X_valid.shape)"
   ]
  },
  {
   "cell_type": "markdown",
   "id": "e8f36934",
   "metadata": {},
   "source": [
    "Handle Missing Data"
   ]
  },
  {
   "cell_type": "code",
   "execution_count": 11,
   "id": "f0a1a55e",
   "metadata": {},
   "outputs": [
    {
     "name": "stdout",
     "output_type": "stream",
     "text": [
      "Train: (915995, 653)\n",
      "Valid: (305332, 653)\n",
      "Test: (305332, 653)\n"
     ]
    }
   ],
   "source": [
    "# missing data\n",
    "for df in [X_train, X_valid, X_test]:\n",
    "    missing_percentage = (df.isnull().sum() / len(df)) * 100\n",
    "    columns_to_drop = missing_percentage[missing_percentage > 95].index.tolist()\n",
    "    df.drop(columns=columns_to_drop, inplace=True)\n",
    "print(f\"Train: {X_train.shape}\")\n",
    "print(f\"Valid: {X_valid.shape}\")\n",
    "print(f\"Test: {X_test.shape}\")"
   ]
  },
  {
   "cell_type": "markdown",
   "id": "661f3324",
   "metadata": {
    "papermill": {
     "duration": 0.006806,
     "end_time": "2024-02-07T21:28:32.263196",
     "exception": false,
     "start_time": "2024-02-07T21:28:32.256390",
     "status": "completed"
    },
    "tags": []
   },
   "source": [
    "## Training XGBOOST"
   ]
  },
  {
   "cell_type": "code",
   "execution_count": 12,
   "id": "53687cd2",
   "metadata": {},
   "outputs": [],
   "source": [
    "# Split the dataset into two equal parts\n",
    "# base_train1, base_train2, X_train1, X_train2, y_train1, y_train2 = train_test_split(\n",
    "#     base_train, X_train, y_train, test_size=0.999, random_state=42\n",
    "# )\n",
    "\n",
    "# base_train3, base_train4, X_train3, X_train4, y_train3, y_train4 = train_test_split(\n",
    "#     base_train2, X_train2, y_train2, test_size=0.2, random_state=42\n",
    "# )"
   ]
  },
  {
   "cell_type": "code",
   "execution_count": 21,
   "id": "b5e368e1",
   "metadata": {},
   "outputs": [
    {
     "name": "stdout",
     "output_type": "stream",
     "text": [
      "Best hyperparameters: {'classifier__colsample_bytree': 0.65, 'classifier__learning_rate': 0.01, 'classifier__max_depth': 50, 'classifier__n_estimators': 500, 'classifier__reg_alpha': 0.5, 'classifier__reg_lambda': 5, 'classifier__subsample': 0.15}\n",
      "train_acc: 0.9684845441296077\n",
      "vali_acc: 0.9690762841759134\n",
      "test_acc: 0.9682968047895406\n"
     ]
    }
   ],
   "source": [
    "# searching for range with subset of training data\n",
    "from sklearn.model_selection import GridSearchCV\n",
    "from sklearn.impute import SimpleImputer\n",
    "from sklearn.pipeline import Pipeline\n",
    "import xgboost as xgb\n",
    "\n",
    "pipeline_xgb = Pipeline(\n",
    "    [\n",
    "        (\"imputer\", SimpleImputer(strategy=\"median\")),\n",
    "        (\"classifier\", xgb.XGBClassifier(objective=\"binary:logistic\", random_state=42)),\n",
    "    ]\n",
    ")\n",
    "\n",
    "param_grid_xgb = {\n",
    "    \"classifier__learning_rate\": [0.01],\n",
    "    \"classifier__max_depth\": [50],\n",
    "    \"classifier__n_estimators\": [500],\n",
    "    \"classifier__subsample\": [0.15],\n",
    "    \"classifier__colsample_bytree\": [0.65],\n",
    "    \"classifier__reg_alpha\": [0.5],\n",
    "    \"classifier__reg_lambda\": [5],\n",
    "}\n",
    "\n",
    "grid_search_xgb = GridSearchCV(\n",
    "    pipeline_xgb,\n",
    "    param_grid_xgb,\n",
    "    cv=5,\n",
    "    scoring=\"roc_auc\",  # n_jobs=-1\n",
    ")\n",
    "\n",
    "grid_search_xgb.fit(X_train, base_train[\"target\"])\n",
    "\n",
    "best_params_xgb = grid_search_xgb.best_params_\n",
    "print(\"Best hyperparameters:\", best_params_xgb)\n",
    "\n",
    "best_model_xgb = grid_search_xgb.best_estimator_\n",
    "# print result\n",
    "\n",
    "\n",
    "acc_xgb_train = best_model_xgb.score(X_train, base_train[\"target\"])\n",
    "acc_xgb_val = best_model_xgb.score(X_valid, base_valid[\"target\"])\n",
    "acc_xgb_test = best_model_xgb.score(X_test, base_test[\"target\"])\n",
    "print(\"train_acc:\", acc_xgb_train)\n",
    "print(\"vali_acc:\", acc_xgb_val)\n",
    "print(\"test_acc:\", acc_xgb_test)"
   ]
  },
  {
   "cell_type": "code",
   "execution_count": 22,
   "id": "2b17e6ac",
   "metadata": {},
   "outputs": [
    {
     "name": "stdout",
     "output_type": "stream",
     "text": [
      "train_auc: 0.8491031407520588\n",
      "vali_auc: 0.7466128037356864\n",
      "test_auc: 0.7445891835727575\n"
     ]
    }
   ],
   "source": [
    "# y_train_pred_proba_knn = best_model_knn.predict_proba(X_train3)[:, 1]\n",
    "# auc_knn_train = roc_auc_score(base_train3[\"target\"], y_train_pred_proba_knn)\n",
    "\n",
    "y_xgb_train = best_model_xgb.predict_proba(\n",
    "    X_train,\n",
    ")[:, 1]\n",
    "auc_xgb_train = roc_auc_score(base_train[\"target\"], y_xgb_train)\n",
    "y_xgb_val = best_model_xgb.predict_proba(\n",
    "    X_valid,\n",
    ")[:, 1]\n",
    "auc_xgb_val = roc_auc_score(base_valid[\"target\"], y_xgb_val)\n",
    "y_xgb_test = best_model_xgb.predict_proba(\n",
    "    X_test,\n",
    ")[:, 1]\n",
    "auc_xgb_test = roc_auc_score(base_test[\"target\"], y_xgb_test)\n",
    "\n",
    "print(\"train_auc:\", auc_xgb_train)\n",
    "print(\"vali_auc:\", auc_xgb_val)\n",
    "print(\"test_auc:\", auc_xgb_test)"
   ]
  },
  {
   "cell_type": "code",
   "execution_count": null,
   "id": "7830be11",
   "metadata": {},
   "outputs": [],
   "source": [
    "for base, X in [(base_train, X_train), (base_valid, X_valid), (base_test, X_test)]:\n",
    "    y_pred = best_model_xgb.predict_proba(X)[:, 1]\n",
    "    base[\"score\"] = y_pred"
   ]
  },
  {
   "cell_type": "code",
   "execution_count": null,
   "id": "afb13e66",
   "metadata": {},
   "outputs": [
    {
     "name": "stdout",
     "output_type": "stream",
     "text": [
      "The AUC score on the train set is: 0.84910314077158\n",
      "The AUC score on the valid set is: 0.7466128053463996\n",
      "The AUC score on the test set is: 0.7445891833980491\n"
     ]
    }
   ],
   "source": [
    "print(\n",
    "    f'The AUC score on the train set is: {roc_auc_score(base_train[\"target\"], base_train[\"score\"])}'\n",
    ")\n",
    "print(\n",
    "    f'The AUC score on the valid set is: {roc_auc_score(base_valid[\"target\"], base_valid[\"score\"])}'\n",
    ")\n",
    "print(\n",
    "    f'The AUC score on the test set is: {roc_auc_score(base_test[\"target\"], base_test[\"score\"])}'\n",
    ")"
   ]
  },
  {
   "cell_type": "code",
   "execution_count": 19,
   "id": "e4f2a732",
   "metadata": {},
   "outputs": [],
   "source": [
    "def gini_stability(base, w_fallingrate=88.0, w_resstd=-0.5):\n",
    "    gini_in_time = (\n",
    "        base.loc[:, [\"WEEK_NUM\", \"target\", \"score\"]]\n",
    "        .sort_values(\"WEEK_NUM\")\n",
    "        .groupby(\"WEEK_NUM\")[[\"target\", \"score\"]]\n",
    "        .apply(lambda x: 2 * roc_auc_score(x[\"target\"], x[\"score\"]) - 1)\n",
    "        .tolist()\n",
    "    )\n",
    "\n",
    "    x = np.arange(len(gini_in_time))\n",
    "    y = gini_in_time\n",
    "    a, b = np.polyfit(x, y, 1)\n",
    "    y_hat = a * x + b\n",
    "    residuals = y - y_hat\n",
    "    res_std = np.std(residuals)\n",
    "    avg_gini = np.mean(gini_in_time)\n",
    "    return avg_gini + w_fallingrate * min(0, a) + w_resstd * res_std\n",
    "\n",
    "\n",
    "stability_score_train = gini_stability(base_train)\n",
    "stability_score_valid = gini_stability(base_valid)\n",
    "stability_score_test = gini_stability(base_test)\n",
    "\n",
    "print(\"train stability\", stability_score_train)\n",
    "print(\"valid stability\", stability_score_valid)\n",
    "print(\"test stability\", stability_score_test)"
   ]
  },
  {
   "cell_type": "markdown",
   "id": "fc39a434",
   "metadata": {},
   "source": [
    "## Training Random Forest"
   ]
  },
  {
   "cell_type": "code",
   "execution_count": 14,
   "id": "18244b99",
   "metadata": {},
   "outputs": [
    {
     "name": "stdout",
     "output_type": "stream",
     "text": [
      "Best hyperparameters: {'classifier__max_depth': 20, 'classifier__max_features': 'sqrt', 'classifier__min_samples_leaf': 4, 'classifier__min_samples_split': 2, 'classifier__n_estimators': 500}\n",
      "rf train_auc: 0.9684801772935442\n",
      "rf valid_auc: 0.9690762841759134\n",
      "rf test_auc: 0.9682968047895406\n"
     ]
    }
   ],
   "source": [
    "from sklearn.ensemble import RandomForestClassifier\n",
    "from sklearn.pipeline import Pipeline\n",
    "\n",
    "pipeline_rf = Pipeline(\n",
    "    [\n",
    "        (\"imputer\", SimpleImputer(strategy=\"median\")),\n",
    "        (\"classifier\", RandomForestClassifier(random_state=42)),\n",
    "    ]\n",
    ")\n",
    "\n",
    "param_grid_rf = {\n",
    "    \"classifier__n_estimators\": [500],  # , 500\n",
    "    \"classifier__max_features\": [\"sqrt\"],  # \"auto\"\n",
    "    \"classifier__max_depth\": [20],  # 10,30, None\n",
    "    \"classifier__min_samples_split\": [2],  # 10\n",
    "    \"classifier__min_samples_leaf\": [4],  # 4\n",
    "}\n",
    "\n",
    "grid_search_rf = GridSearchCV(\n",
    "    pipeline_rf,\n",
    "    param_grid_rf,\n",
    "    cv=5,\n",
    "    scoring=\"roc_auc\",\n",
    ")  # n_jobs=-1\n",
    "\n",
    "grid_search_rf.fit(X_train, base_train[\"target\"])\n",
    "\n",
    "best_params_rf = grid_search_rf.best_params_\n",
    "print(\"Best hyperparameters:\", best_params_rf)\n",
    "\n",
    "best_model_rf = grid_search_rf.best_estimator_\n",
    "\n",
    "acc_rf_train = best_model_rf.score(X_train, base_train[\"target\"])\n",
    "acc_rf_valid = best_model_rf.score(X_valid, base_valid[\"target\"])\n",
    "acc_rf_test = best_model_rf.score(X_test, base_test[\"target\"])\n",
    "\n",
    "print(\"rf train_auc:\", acc_rf_train)\n",
    "print(\"rf valid_auc:\", acc_rf_valid)\n",
    "print(\"rf test_auc:\", acc_rf_test)"
   ]
  },
  {
   "cell_type": "code",
   "execution_count": 15,
   "id": "26b4cec1",
   "metadata": {},
   "outputs": [],
   "source": [
    "for base, X in [(base_train, X_train), (base_valid, X_valid), (base_test, X_test)]:\n",
    "    y_pred = best_model_rf.predict_proba(X)[:, 1]\n",
    "    base[\"score\"] = y_pred"
   ]
  },
  {
   "cell_type": "code",
   "execution_count": 16,
   "id": "e3f42965",
   "metadata": {},
   "outputs": [],
   "source": [
    "y_rf_train = best_model_rf.predict_proba(X_train)[:, 1]\n",
    "y_rf_valid = best_model_rf.predict_proba(X_valid)[:, 1]\n",
    "y_rf_test = best_model_rf.predict_proba(X_test)[:, 1]"
   ]
  },
  {
   "cell_type": "code",
   "execution_count": 17,
   "id": "f1bdc996",
   "metadata": {},
   "outputs": [
    {
     "name": "stdout",
     "output_type": "stream",
     "text": [
      "The RF AUC score on the train set is: 0.844398017427238\n",
      "The RF AUC score on the valid set is: 0.7217115239925151\n",
      "The RF AUC score on the test set is: 0.7196116736124211\n"
     ]
    }
   ],
   "source": [
    "print(\n",
    "    f'The RF AUC score on the train set is: {roc_auc_score(base_train[\"target\"], base_train[\"score\"])}'\n",
    ")\n",
    "print(\n",
    "    f'The RF AUC score on the valid set is: {roc_auc_score(base_valid[\"target\"], base_valid[\"score\"])}'\n",
    ")\n",
    "print(\n",
    "    f'The RF AUC score on the test set is: {roc_auc_score(base_test[\"target\"], base_test[\"score\"])}'\n",
    ")"
   ]
  },
  {
   "cell_type": "code",
   "execution_count": 20,
   "id": "6104b5d6",
   "metadata": {},
   "outputs": [
    {
     "name": "stdout",
     "output_type": "stream",
     "text": [
      "rf train stability 0.6789859434229357\n",
      "rf valid stability 0.4142947760001885\n",
      "rf test stability 0.3986476891377608\n"
     ]
    }
   ],
   "source": [
    "stability_rf_train = gini_stability(base_train)\n",
    "stability_rf_valid = gini_stability(base_valid)\n",
    "stability_rf_test = gini_stability(base_test)\n",
    "\n",
    "print(\"rf train stability\", stability_rf_train)\n",
    "print(\"rf valid stability\", stability_rf_valid)\n",
    "print(\"rf test stability\", stability_rf_test)"
   ]
  },
  {
   "cell_type": "markdown",
   "id": "630bf1a7",
   "metadata": {},
   "source": [
    "## KNN"
   ]
  },
  {
   "cell_type": "code",
   "execution_count": null,
   "id": "362bf9d8",
   "metadata": {},
   "outputs": [
    {
     "ename": "KeyboardInterrupt",
     "evalue": "",
     "output_type": "error",
     "traceback": [
      "\u001b[0;31m---------------------------------------------------------------------------\u001b[0m",
      "\u001b[0;31mAttributeError\u001b[0m                            Traceback (most recent call last)",
      "File \u001b[0;32m~/miniconda3/lib/python3.11/site-packages/sklearn/metrics/_scorer.py:459\u001b[0m, in \u001b[0;36m_ThresholdScorer._score\u001b[0;34m(self, method_caller, clf, X, y, **kwargs)\u001b[0m\n\u001b[1;32m    458\u001b[0m \u001b[39mtry\u001b[39;00m:\n\u001b[0;32m--> 459\u001b[0m     y_pred \u001b[39m=\u001b[39m method_caller(clf, \u001b[39m\"\u001b[39;49m\u001b[39mdecision_function\u001b[39;49m\u001b[39m\"\u001b[39;49m, X, pos_label\u001b[39m=\u001b[39;49mpos_label)\n\u001b[1;32m    461\u001b[0m     \u001b[39mif\u001b[39;00m \u001b[39misinstance\u001b[39m(y_pred, \u001b[39mlist\u001b[39m):\n\u001b[1;32m    462\u001b[0m         \u001b[39m# For multi-output multi-class estimator\u001b[39;00m\n",
      "File \u001b[0;32m~/miniconda3/lib/python3.11/site-packages/sklearn/metrics/_scorer.py:86\u001b[0m, in \u001b[0;36m_cached_call\u001b[0;34m(cache, estimator, response_method, *args, **kwargs)\u001b[0m\n\u001b[1;32m     84\u001b[0m     \u001b[39mreturn\u001b[39;00m cache[response_method]\n\u001b[0;32m---> 86\u001b[0m result, _ \u001b[39m=\u001b[39m _get_response_values(\n\u001b[1;32m     87\u001b[0m     estimator, \u001b[39m*\u001b[39;49margs, response_method\u001b[39m=\u001b[39;49mresponse_method, \u001b[39m*\u001b[39;49m\u001b[39m*\u001b[39;49mkwargs\n\u001b[1;32m     88\u001b[0m )\n\u001b[1;32m     90\u001b[0m \u001b[39mif\u001b[39;00m cache \u001b[39mis\u001b[39;00m \u001b[39mnot\u001b[39;00m \u001b[39mNone\u001b[39;00m:\n",
      "File \u001b[0;32m~/miniconda3/lib/python3.11/site-packages/sklearn/utils/_response.py:181\u001b[0m, in \u001b[0;36m_get_response_values\u001b[0;34m(estimator, X, response_method, pos_label)\u001b[0m\n\u001b[1;32m    180\u001b[0m \u001b[39mif\u001b[39;00m is_classifier(estimator):\n\u001b[0;32m--> 181\u001b[0m     prediction_method \u001b[39m=\u001b[39m _check_response_method(estimator, response_method)\n\u001b[1;32m    182\u001b[0m     classes \u001b[39m=\u001b[39m estimator\u001b[39m.\u001b[39mclasses_\n",
      "File \u001b[0;32m~/miniconda3/lib/python3.11/site-packages/sklearn/utils/validation.py:1939\u001b[0m, in \u001b[0;36m_check_response_method\u001b[0;34m(estimator, response_method)\u001b[0m\n\u001b[1;32m   1938\u001b[0m \u001b[39mif\u001b[39;00m prediction_method \u001b[39mis\u001b[39;00m \u001b[39mNone\u001b[39;00m:\n\u001b[0;32m-> 1939\u001b[0m     \u001b[39mraise\u001b[39;00m \u001b[39mAttributeError\u001b[39;00m(\n\u001b[1;32m   1940\u001b[0m         \u001b[39mf\u001b[39m\u001b[39m\"\u001b[39m\u001b[39m{\u001b[39;00mestimator\u001b[39m.\u001b[39m\u001b[39m__class__\u001b[39m\u001b[39m.\u001b[39m\u001b[39m__name__\u001b[39m\u001b[39m}\u001b[39;00m\u001b[39m has none of the following attributes: \u001b[39m\u001b[39m\"\u001b[39m\n\u001b[1;32m   1941\u001b[0m         \u001b[39mf\u001b[39m\u001b[39m\"\u001b[39m\u001b[39m{\u001b[39;00m\u001b[39m'\u001b[39m\u001b[39m, \u001b[39m\u001b[39m'\u001b[39m\u001b[39m.\u001b[39mjoin(list_methods)\u001b[39m}\u001b[39;00m\u001b[39m.\u001b[39m\u001b[39m\"\u001b[39m\n\u001b[1;32m   1942\u001b[0m     )\n\u001b[1;32m   1944\u001b[0m \u001b[39mreturn\u001b[39;00m prediction_method\n",
      "\u001b[0;31mAttributeError\u001b[0m: Pipeline has none of the following attributes: decision_function.",
      "\nDuring handling of the above exception, another exception occurred:\n",
      "\u001b[0;31mKeyboardInterrupt\u001b[0m                         Traceback (most recent call last)",
      "Cell \u001b[0;32mIn[96], line 25\u001b[0m\n\u001b[1;32m     11\u001b[0m param_grid_knn \u001b[39m=\u001b[39m {\n\u001b[1;32m     12\u001b[0m     \u001b[39m\"\u001b[39m\u001b[39mclassifier__n_neighbors\u001b[39m\u001b[39m\"\u001b[39m: [\n\u001b[1;32m     13\u001b[0m         \u001b[39m10\u001b[39m,\n\u001b[1;32m     14\u001b[0m     ],\n\u001b[1;32m     15\u001b[0m     \u001b[39m\"\u001b[39m\u001b[39mclassifier__weights\u001b[39m\u001b[39m\"\u001b[39m: [\u001b[39m\"\u001b[39m\u001b[39mdistance\u001b[39m\u001b[39m\"\u001b[39m],\n\u001b[1;32m     16\u001b[0m }\n\u001b[1;32m     18\u001b[0m grid_search_knn \u001b[39m=\u001b[39m GridSearchCV(\n\u001b[1;32m     19\u001b[0m     pipeline_knn,\n\u001b[1;32m     20\u001b[0m     param_grid_knn,\n\u001b[1;32m     21\u001b[0m     cv\u001b[39m=\u001b[39m\u001b[39m5\u001b[39m,\n\u001b[1;32m     22\u001b[0m     scoring\u001b[39m=\u001b[39m\u001b[39m\"\u001b[39m\u001b[39mroc_auc\u001b[39m\u001b[39m\"\u001b[39m,  \u001b[39m# n_jobs=-1\u001b[39;00m\n\u001b[1;32m     23\u001b[0m )\n\u001b[0;32m---> 25\u001b[0m grid_search_knn\u001b[39m.\u001b[39;49mfit(X_train, base_train[\u001b[39m\"\u001b[39;49m\u001b[39mtarget\u001b[39;49m\u001b[39m\"\u001b[39;49m])\n\u001b[1;32m     27\u001b[0m best_params_knn \u001b[39m=\u001b[39m grid_search_knn\u001b[39m.\u001b[39mbest_params_\n\u001b[1;32m     28\u001b[0m \u001b[39mprint\u001b[39m(\u001b[39m\"\u001b[39m\u001b[39mBest hyperparameters:\u001b[39m\u001b[39m\"\u001b[39m, best_params_knn)\n",
      "File \u001b[0;32m~/miniconda3/lib/python3.11/site-packages/sklearn/base.py:1152\u001b[0m, in \u001b[0;36m_fit_context.<locals>.decorator.<locals>.wrapper\u001b[0;34m(estimator, *args, **kwargs)\u001b[0m\n\u001b[1;32m   1145\u001b[0m     estimator\u001b[39m.\u001b[39m_validate_params()\n\u001b[1;32m   1147\u001b[0m \u001b[39mwith\u001b[39;00m config_context(\n\u001b[1;32m   1148\u001b[0m     skip_parameter_validation\u001b[39m=\u001b[39m(\n\u001b[1;32m   1149\u001b[0m         prefer_skip_nested_validation \u001b[39mor\u001b[39;00m global_skip_validation\n\u001b[1;32m   1150\u001b[0m     )\n\u001b[1;32m   1151\u001b[0m ):\n\u001b[0;32m-> 1152\u001b[0m     \u001b[39mreturn\u001b[39;00m fit_method(estimator, \u001b[39m*\u001b[39;49margs, \u001b[39m*\u001b[39;49m\u001b[39m*\u001b[39;49mkwargs)\n",
      "File \u001b[0;32m~/miniconda3/lib/python3.11/site-packages/sklearn/model_selection/_search.py:898\u001b[0m, in \u001b[0;36mBaseSearchCV.fit\u001b[0;34m(self, X, y, groups, **fit_params)\u001b[0m\n\u001b[1;32m    892\u001b[0m     results \u001b[39m=\u001b[39m \u001b[39mself\u001b[39m\u001b[39m.\u001b[39m_format_results(\n\u001b[1;32m    893\u001b[0m         all_candidate_params, n_splits, all_out, all_more_results\n\u001b[1;32m    894\u001b[0m     )\n\u001b[1;32m    896\u001b[0m     \u001b[39mreturn\u001b[39;00m results\n\u001b[0;32m--> 898\u001b[0m \u001b[39mself\u001b[39;49m\u001b[39m.\u001b[39;49m_run_search(evaluate_candidates)\n\u001b[1;32m    900\u001b[0m \u001b[39m# multimetric is determined here because in the case of a callable\u001b[39;00m\n\u001b[1;32m    901\u001b[0m \u001b[39m# self.scoring the return type is only known after calling\u001b[39;00m\n\u001b[1;32m    902\u001b[0m first_test_score \u001b[39m=\u001b[39m all_out[\u001b[39m0\u001b[39m][\u001b[39m\"\u001b[39m\u001b[39mtest_scores\u001b[39m\u001b[39m\"\u001b[39m]\n",
      "File \u001b[0;32m~/miniconda3/lib/python3.11/site-packages/sklearn/model_selection/_search.py:1422\u001b[0m, in \u001b[0;36mGridSearchCV._run_search\u001b[0;34m(self, evaluate_candidates)\u001b[0m\n\u001b[1;32m   1420\u001b[0m \u001b[39mdef\u001b[39;00m \u001b[39m_run_search\u001b[39m(\u001b[39mself\u001b[39m, evaluate_candidates):\n\u001b[1;32m   1421\u001b[0m \u001b[39m    \u001b[39m\u001b[39m\"\"\"Search all candidates in param_grid\"\"\"\u001b[39;00m\n\u001b[0;32m-> 1422\u001b[0m     evaluate_candidates(ParameterGrid(\u001b[39mself\u001b[39;49m\u001b[39m.\u001b[39;49mparam_grid))\n",
      "File \u001b[0;32m~/miniconda3/lib/python3.11/site-packages/sklearn/model_selection/_search.py:845\u001b[0m, in \u001b[0;36mBaseSearchCV.fit.<locals>.evaluate_candidates\u001b[0;34m(candidate_params, cv, more_results)\u001b[0m\n\u001b[1;32m    837\u001b[0m \u001b[39mif\u001b[39;00m \u001b[39mself\u001b[39m\u001b[39m.\u001b[39mverbose \u001b[39m>\u001b[39m \u001b[39m0\u001b[39m:\n\u001b[1;32m    838\u001b[0m     \u001b[39mprint\u001b[39m(\n\u001b[1;32m    839\u001b[0m         \u001b[39m\"\u001b[39m\u001b[39mFitting \u001b[39m\u001b[39m{0}\u001b[39;00m\u001b[39m folds for each of \u001b[39m\u001b[39m{1}\u001b[39;00m\u001b[39m candidates,\u001b[39m\u001b[39m\"\u001b[39m\n\u001b[1;32m    840\u001b[0m         \u001b[39m\"\u001b[39m\u001b[39m totalling \u001b[39m\u001b[39m{2}\u001b[39;00m\u001b[39m fits\u001b[39m\u001b[39m\"\u001b[39m\u001b[39m.\u001b[39mformat(\n\u001b[1;32m    841\u001b[0m             n_splits, n_candidates, n_candidates \u001b[39m*\u001b[39m n_splits\n\u001b[1;32m    842\u001b[0m         )\n\u001b[1;32m    843\u001b[0m     )\n\u001b[0;32m--> 845\u001b[0m out \u001b[39m=\u001b[39m parallel(\n\u001b[1;32m    846\u001b[0m     delayed(_fit_and_score)(\n\u001b[1;32m    847\u001b[0m         clone(base_estimator),\n\u001b[1;32m    848\u001b[0m         X,\n\u001b[1;32m    849\u001b[0m         y,\n\u001b[1;32m    850\u001b[0m         train\u001b[39m=\u001b[39;49mtrain,\n\u001b[1;32m    851\u001b[0m         test\u001b[39m=\u001b[39;49mtest,\n\u001b[1;32m    852\u001b[0m         parameters\u001b[39m=\u001b[39;49mparameters,\n\u001b[1;32m    853\u001b[0m         split_progress\u001b[39m=\u001b[39;49m(split_idx, n_splits),\n\u001b[1;32m    854\u001b[0m         candidate_progress\u001b[39m=\u001b[39;49m(cand_idx, n_candidates),\n\u001b[1;32m    855\u001b[0m         \u001b[39m*\u001b[39;49m\u001b[39m*\u001b[39;49mfit_and_score_kwargs,\n\u001b[1;32m    856\u001b[0m     )\n\u001b[1;32m    857\u001b[0m     \u001b[39mfor\u001b[39;49;00m (cand_idx, parameters), (split_idx, (train, test)) \u001b[39min\u001b[39;49;00m product(\n\u001b[1;32m    858\u001b[0m         \u001b[39menumerate\u001b[39;49m(candidate_params), \u001b[39menumerate\u001b[39;49m(cv\u001b[39m.\u001b[39;49msplit(X, y, groups))\n\u001b[1;32m    859\u001b[0m     )\n\u001b[1;32m    860\u001b[0m )\n\u001b[1;32m    862\u001b[0m \u001b[39mif\u001b[39;00m \u001b[39mlen\u001b[39m(out) \u001b[39m<\u001b[39m \u001b[39m1\u001b[39m:\n\u001b[1;32m    863\u001b[0m     \u001b[39mraise\u001b[39;00m \u001b[39mValueError\u001b[39;00m(\n\u001b[1;32m    864\u001b[0m         \u001b[39m\"\u001b[39m\u001b[39mNo fits were performed. \u001b[39m\u001b[39m\"\u001b[39m\n\u001b[1;32m    865\u001b[0m         \u001b[39m\"\u001b[39m\u001b[39mWas the CV iterator empty? \u001b[39m\u001b[39m\"\u001b[39m\n\u001b[1;32m    866\u001b[0m         \u001b[39m\"\u001b[39m\u001b[39mWere there no candidates?\u001b[39m\u001b[39m\"\u001b[39m\n\u001b[1;32m    867\u001b[0m     )\n",
      "File \u001b[0;32m~/miniconda3/lib/python3.11/site-packages/sklearn/utils/parallel.py:65\u001b[0m, in \u001b[0;36mParallel.__call__\u001b[0;34m(self, iterable)\u001b[0m\n\u001b[1;32m     60\u001b[0m config \u001b[39m=\u001b[39m get_config()\n\u001b[1;32m     61\u001b[0m iterable_with_config \u001b[39m=\u001b[39m (\n\u001b[1;32m     62\u001b[0m     (_with_config(delayed_func, config), args, kwargs)\n\u001b[1;32m     63\u001b[0m     \u001b[39mfor\u001b[39;00m delayed_func, args, kwargs \u001b[39min\u001b[39;00m iterable\n\u001b[1;32m     64\u001b[0m )\n\u001b[0;32m---> 65\u001b[0m \u001b[39mreturn\u001b[39;00m \u001b[39msuper\u001b[39;49m()\u001b[39m.\u001b[39;49m\u001b[39m__call__\u001b[39;49m(iterable_with_config)\n",
      "File \u001b[0;32m~/miniconda3/lib/python3.11/site-packages/joblib/parallel.py:1863\u001b[0m, in \u001b[0;36mParallel.__call__\u001b[0;34m(self, iterable)\u001b[0m\n\u001b[1;32m   1861\u001b[0m     output \u001b[39m=\u001b[39m \u001b[39mself\u001b[39m\u001b[39m.\u001b[39m_get_sequential_output(iterable)\n\u001b[1;32m   1862\u001b[0m     \u001b[39mnext\u001b[39m(output)\n\u001b[0;32m-> 1863\u001b[0m     \u001b[39mreturn\u001b[39;00m output \u001b[39mif\u001b[39;00m \u001b[39mself\u001b[39m\u001b[39m.\u001b[39mreturn_generator \u001b[39melse\u001b[39;00m \u001b[39mlist\u001b[39m(output)\n\u001b[1;32m   1865\u001b[0m \u001b[39m# Let's create an ID that uniquely identifies the current call. If the\u001b[39;00m\n\u001b[1;32m   1866\u001b[0m \u001b[39m# call is interrupted early and that the same instance is immediately\u001b[39;00m\n\u001b[1;32m   1867\u001b[0m \u001b[39m# re-used, this id will be used to prevent workers that were\u001b[39;00m\n\u001b[1;32m   1868\u001b[0m \u001b[39m# concurrently finalizing a task from the previous call to run the\u001b[39;00m\n\u001b[1;32m   1869\u001b[0m \u001b[39m# callback.\u001b[39;00m\n\u001b[1;32m   1870\u001b[0m \u001b[39mwith\u001b[39;00m \u001b[39mself\u001b[39m\u001b[39m.\u001b[39m_lock:\n",
      "File \u001b[0;32m~/miniconda3/lib/python3.11/site-packages/joblib/parallel.py:1792\u001b[0m, in \u001b[0;36mParallel._get_sequential_output\u001b[0;34m(self, iterable)\u001b[0m\n\u001b[1;32m   1790\u001b[0m \u001b[39mself\u001b[39m\u001b[39m.\u001b[39mn_dispatched_batches \u001b[39m+\u001b[39m\u001b[39m=\u001b[39m \u001b[39m1\u001b[39m\n\u001b[1;32m   1791\u001b[0m \u001b[39mself\u001b[39m\u001b[39m.\u001b[39mn_dispatched_tasks \u001b[39m+\u001b[39m\u001b[39m=\u001b[39m \u001b[39m1\u001b[39m\n\u001b[0;32m-> 1792\u001b[0m res \u001b[39m=\u001b[39m func(\u001b[39m*\u001b[39;49margs, \u001b[39m*\u001b[39;49m\u001b[39m*\u001b[39;49mkwargs)\n\u001b[1;32m   1793\u001b[0m \u001b[39mself\u001b[39m\u001b[39m.\u001b[39mn_completed_tasks \u001b[39m+\u001b[39m\u001b[39m=\u001b[39m \u001b[39m1\u001b[39m\n\u001b[1;32m   1794\u001b[0m \u001b[39mself\u001b[39m\u001b[39m.\u001b[39mprint_progress()\n",
      "File \u001b[0;32m~/miniconda3/lib/python3.11/site-packages/sklearn/utils/parallel.py:127\u001b[0m, in \u001b[0;36m_FuncWrapper.__call__\u001b[0;34m(self, *args, **kwargs)\u001b[0m\n\u001b[1;32m    125\u001b[0m     config \u001b[39m=\u001b[39m {}\n\u001b[1;32m    126\u001b[0m \u001b[39mwith\u001b[39;00m config_context(\u001b[39m*\u001b[39m\u001b[39m*\u001b[39mconfig):\n\u001b[0;32m--> 127\u001b[0m     \u001b[39mreturn\u001b[39;00m \u001b[39mself\u001b[39;49m\u001b[39m.\u001b[39;49mfunction(\u001b[39m*\u001b[39;49margs, \u001b[39m*\u001b[39;49m\u001b[39m*\u001b[39;49mkwargs)\n",
      "File \u001b[0;32m~/miniconda3/lib/python3.11/site-packages/sklearn/model_selection/_validation.py:751\u001b[0m, in \u001b[0;36m_fit_and_score\u001b[0;34m(estimator, X, y, scorer, train, test, verbose, parameters, fit_params, return_train_score, return_parameters, return_n_test_samples, return_times, return_estimator, split_progress, candidate_progress, error_score)\u001b[0m\n\u001b[1;32m    748\u001b[0m result[\u001b[39m\"\u001b[39m\u001b[39mfit_error\u001b[39m\u001b[39m\"\u001b[39m] \u001b[39m=\u001b[39m \u001b[39mNone\u001b[39;00m\n\u001b[1;32m    750\u001b[0m fit_time \u001b[39m=\u001b[39m time\u001b[39m.\u001b[39mtime() \u001b[39m-\u001b[39m start_time\n\u001b[0;32m--> 751\u001b[0m test_scores \u001b[39m=\u001b[39m _score(estimator, X_test, y_test, scorer, error_score)\n\u001b[1;32m    752\u001b[0m score_time \u001b[39m=\u001b[39m time\u001b[39m.\u001b[39mtime() \u001b[39m-\u001b[39m start_time \u001b[39m-\u001b[39m fit_time\n\u001b[1;32m    753\u001b[0m \u001b[39mif\u001b[39;00m return_train_score:\n",
      "File \u001b[0;32m~/miniconda3/lib/python3.11/site-packages/sklearn/model_selection/_validation.py:810\u001b[0m, in \u001b[0;36m_score\u001b[0;34m(estimator, X_test, y_test, scorer, error_score)\u001b[0m\n\u001b[1;32m    808\u001b[0m         scores \u001b[39m=\u001b[39m scorer(estimator, X_test)\n\u001b[1;32m    809\u001b[0m     \u001b[39melse\u001b[39;00m:\n\u001b[0;32m--> 810\u001b[0m         scores \u001b[39m=\u001b[39m scorer(estimator, X_test, y_test)\n\u001b[1;32m    811\u001b[0m \u001b[39mexcept\u001b[39;00m \u001b[39mException\u001b[39;00m:\n\u001b[1;32m    812\u001b[0m     \u001b[39mif\u001b[39;00m \u001b[39misinstance\u001b[39m(scorer, _MultimetricScorer):\n\u001b[1;32m    813\u001b[0m         \u001b[39m# If `_MultimetricScorer` raises exception, the `error_score`\u001b[39;00m\n\u001b[1;32m    814\u001b[0m         \u001b[39m# parameter is equal to \"raise\".\u001b[39;00m\n",
      "File \u001b[0;32m~/miniconda3/lib/python3.11/site-packages/sklearn/metrics/_scorer.py:266\u001b[0m, in \u001b[0;36m_BaseScorer.__call__\u001b[0;34m(self, estimator, X, y_true, sample_weight, **kwargs)\u001b[0m\n\u001b[1;32m    263\u001b[0m \u001b[39mif\u001b[39;00m sample_weight \u001b[39mis\u001b[39;00m \u001b[39mnot\u001b[39;00m \u001b[39mNone\u001b[39;00m:\n\u001b[1;32m    264\u001b[0m     _kwargs[\u001b[39m\"\u001b[39m\u001b[39msample_weight\u001b[39m\u001b[39m\"\u001b[39m] \u001b[39m=\u001b[39m sample_weight\n\u001b[0;32m--> 266\u001b[0m \u001b[39mreturn\u001b[39;00m \u001b[39mself\u001b[39;49m\u001b[39m.\u001b[39;49m_score(partial(_cached_call, \u001b[39mNone\u001b[39;49;00m), estimator, X, y_true, \u001b[39m*\u001b[39;49m\u001b[39m*\u001b[39;49m_kwargs)\n",
      "File \u001b[0;32m~/miniconda3/lib/python3.11/site-packages/sklearn/metrics/_scorer.py:466\u001b[0m, in \u001b[0;36m_ThresholdScorer._score\u001b[0;34m(self, method_caller, clf, X, y, **kwargs)\u001b[0m\n\u001b[1;32m    463\u001b[0m         y_pred \u001b[39m=\u001b[39m np\u001b[39m.\u001b[39mvstack([p \u001b[39mfor\u001b[39;00m p \u001b[39min\u001b[39;00m y_pred])\u001b[39m.\u001b[39mT\n\u001b[1;32m    465\u001b[0m \u001b[39mexcept\u001b[39;00m (\u001b[39mNotImplementedError\u001b[39;00m, \u001b[39mAttributeError\u001b[39;00m):\n\u001b[0;32m--> 466\u001b[0m     y_pred \u001b[39m=\u001b[39m method_caller(clf, \u001b[39m\"\u001b[39;49m\u001b[39mpredict_proba\u001b[39;49m\u001b[39m\"\u001b[39;49m, X, pos_label\u001b[39m=\u001b[39;49mpos_label)\n\u001b[1;32m    467\u001b[0m     \u001b[39mif\u001b[39;00m \u001b[39misinstance\u001b[39m(y_pred, \u001b[39mlist\u001b[39m):\n\u001b[1;32m    468\u001b[0m         y_pred \u001b[39m=\u001b[39m np\u001b[39m.\u001b[39mvstack([p[:, \u001b[39m-\u001b[39m\u001b[39m1\u001b[39m] \u001b[39mfor\u001b[39;00m p \u001b[39min\u001b[39;00m y_pred])\u001b[39m.\u001b[39mT\n",
      "File \u001b[0;32m~/miniconda3/lib/python3.11/site-packages/sklearn/metrics/_scorer.py:86\u001b[0m, in \u001b[0;36m_cached_call\u001b[0;34m(cache, estimator, response_method, *args, **kwargs)\u001b[0m\n\u001b[1;32m     83\u001b[0m \u001b[39mif\u001b[39;00m cache \u001b[39mis\u001b[39;00m \u001b[39mnot\u001b[39;00m \u001b[39mNone\u001b[39;00m \u001b[39mand\u001b[39;00m response_method \u001b[39min\u001b[39;00m cache:\n\u001b[1;32m     84\u001b[0m     \u001b[39mreturn\u001b[39;00m cache[response_method]\n\u001b[0;32m---> 86\u001b[0m result, _ \u001b[39m=\u001b[39m _get_response_values(\n\u001b[1;32m     87\u001b[0m     estimator, \u001b[39m*\u001b[39;49margs, response_method\u001b[39m=\u001b[39;49mresponse_method, \u001b[39m*\u001b[39;49m\u001b[39m*\u001b[39;49mkwargs\n\u001b[1;32m     88\u001b[0m )\n\u001b[1;32m     90\u001b[0m \u001b[39mif\u001b[39;00m cache \u001b[39mis\u001b[39;00m \u001b[39mnot\u001b[39;00m \u001b[39mNone\u001b[39;00m:\n\u001b[1;32m     91\u001b[0m     cache[response_method] \u001b[39m=\u001b[39m result\n",
      "File \u001b[0;32m~/miniconda3/lib/python3.11/site-packages/sklearn/utils/_response.py:194\u001b[0m, in \u001b[0;36m_get_response_values\u001b[0;34m(estimator, X, response_method, pos_label)\u001b[0m\n\u001b[1;32m    191\u001b[0m     \u001b[39melif\u001b[39;00m pos_label \u001b[39mis\u001b[39;00m \u001b[39mNone\u001b[39;00m \u001b[39mand\u001b[39;00m target_type \u001b[39m==\u001b[39m \u001b[39m\"\u001b[39m\u001b[39mbinary\u001b[39m\u001b[39m\"\u001b[39m:\n\u001b[1;32m    192\u001b[0m         pos_label \u001b[39m=\u001b[39m classes[\u001b[39m-\u001b[39m\u001b[39m1\u001b[39m]\n\u001b[0;32m--> 194\u001b[0m y_pred \u001b[39m=\u001b[39m prediction_method(X)\n\u001b[1;32m    196\u001b[0m \u001b[39mif\u001b[39;00m prediction_method\u001b[39m.\u001b[39m\u001b[39m__name__\u001b[39m \u001b[39m==\u001b[39m \u001b[39m\"\u001b[39m\u001b[39mpredict_proba\u001b[39m\u001b[39m\"\u001b[39m:\n\u001b[1;32m    197\u001b[0m     y_pred \u001b[39m=\u001b[39m _process_predict_proba(\n\u001b[1;32m    198\u001b[0m         y_pred\u001b[39m=\u001b[39my_pred,\n\u001b[1;32m    199\u001b[0m         target_type\u001b[39m=\u001b[39mtarget_type,\n\u001b[1;32m    200\u001b[0m         classes\u001b[39m=\u001b[39mclasses,\n\u001b[1;32m    201\u001b[0m         pos_label\u001b[39m=\u001b[39mpos_label,\n\u001b[1;32m    202\u001b[0m     )\n",
      "File \u001b[0;32m~/miniconda3/lib/python3.11/site-packages/sklearn/pipeline.py:585\u001b[0m, in \u001b[0;36mPipeline.predict_proba\u001b[0;34m(self, X, **predict_proba_params)\u001b[0m\n\u001b[1;32m    583\u001b[0m \u001b[39mfor\u001b[39;00m _, name, transform \u001b[39min\u001b[39;00m \u001b[39mself\u001b[39m\u001b[39m.\u001b[39m_iter(with_final\u001b[39m=\u001b[39m\u001b[39mFalse\u001b[39;00m):\n\u001b[1;32m    584\u001b[0m     Xt \u001b[39m=\u001b[39m transform\u001b[39m.\u001b[39mtransform(Xt)\n\u001b[0;32m--> 585\u001b[0m \u001b[39mreturn\u001b[39;00m \u001b[39mself\u001b[39;49m\u001b[39m.\u001b[39;49msteps[\u001b[39m-\u001b[39;49m\u001b[39m1\u001b[39;49m][\u001b[39m1\u001b[39;49m]\u001b[39m.\u001b[39;49mpredict_proba(Xt, \u001b[39m*\u001b[39;49m\u001b[39m*\u001b[39;49mpredict_proba_params)\n",
      "File \u001b[0;32m~/miniconda3/lib/python3.11/site-packages/sklearn/neighbors/_classification.py:358\u001b[0m, in \u001b[0;36mKNeighborsClassifier.predict_proba\u001b[0;34m(self, X)\u001b[0m\n\u001b[1;32m    356\u001b[0m     neigh_dist \u001b[39m=\u001b[39m \u001b[39mNone\u001b[39;00m\n\u001b[1;32m    357\u001b[0m \u001b[39melse\u001b[39;00m:\n\u001b[0;32m--> 358\u001b[0m     neigh_dist, neigh_ind \u001b[39m=\u001b[39m \u001b[39mself\u001b[39;49m\u001b[39m.\u001b[39;49mkneighbors(X)\n\u001b[1;32m    360\u001b[0m classes_ \u001b[39m=\u001b[39m \u001b[39mself\u001b[39m\u001b[39m.\u001b[39mclasses_\n\u001b[1;32m    361\u001b[0m _y \u001b[39m=\u001b[39m \u001b[39mself\u001b[39m\u001b[39m.\u001b[39m_y\n",
      "File \u001b[0;32m~/miniconda3/lib/python3.11/site-packages/sklearn/neighbors/_base.py:822\u001b[0m, in \u001b[0;36mKNeighborsMixin.kneighbors\u001b[0;34m(self, X, n_neighbors, return_distance)\u001b[0m\n\u001b[1;32m    815\u001b[0m use_pairwise_distances_reductions \u001b[39m=\u001b[39m (\n\u001b[1;32m    816\u001b[0m     \u001b[39mself\u001b[39m\u001b[39m.\u001b[39m_fit_method \u001b[39m==\u001b[39m \u001b[39m\"\u001b[39m\u001b[39mbrute\u001b[39m\u001b[39m\"\u001b[39m\n\u001b[1;32m    817\u001b[0m     \u001b[39mand\u001b[39;00m ArgKmin\u001b[39m.\u001b[39mis_usable_for(\n\u001b[1;32m    818\u001b[0m         X \u001b[39mif\u001b[39;00m X \u001b[39mis\u001b[39;00m \u001b[39mnot\u001b[39;00m \u001b[39mNone\u001b[39;00m \u001b[39melse\u001b[39;00m \u001b[39mself\u001b[39m\u001b[39m.\u001b[39m_fit_X, \u001b[39mself\u001b[39m\u001b[39m.\u001b[39m_fit_X, \u001b[39mself\u001b[39m\u001b[39m.\u001b[39meffective_metric_\n\u001b[1;32m    819\u001b[0m     )\n\u001b[1;32m    820\u001b[0m )\n\u001b[1;32m    821\u001b[0m \u001b[39mif\u001b[39;00m use_pairwise_distances_reductions:\n\u001b[0;32m--> 822\u001b[0m     results \u001b[39m=\u001b[39m ArgKmin\u001b[39m.\u001b[39;49mcompute(\n\u001b[1;32m    823\u001b[0m         X\u001b[39m=\u001b[39;49mX,\n\u001b[1;32m    824\u001b[0m         Y\u001b[39m=\u001b[39;49m\u001b[39mself\u001b[39;49m\u001b[39m.\u001b[39;49m_fit_X,\n\u001b[1;32m    825\u001b[0m         k\u001b[39m=\u001b[39;49mn_neighbors,\n\u001b[1;32m    826\u001b[0m         metric\u001b[39m=\u001b[39;49m\u001b[39mself\u001b[39;49m\u001b[39m.\u001b[39;49meffective_metric_,\n\u001b[1;32m    827\u001b[0m         metric_kwargs\u001b[39m=\u001b[39;49m\u001b[39mself\u001b[39;49m\u001b[39m.\u001b[39;49meffective_metric_params_,\n\u001b[1;32m    828\u001b[0m         strategy\u001b[39m=\u001b[39;49m\u001b[39m\"\u001b[39;49m\u001b[39mauto\u001b[39;49m\u001b[39m\"\u001b[39;49m,\n\u001b[1;32m    829\u001b[0m         return_distance\u001b[39m=\u001b[39;49mreturn_distance,\n\u001b[1;32m    830\u001b[0m     )\n\u001b[1;32m    832\u001b[0m \u001b[39melif\u001b[39;00m (\n\u001b[1;32m    833\u001b[0m     \u001b[39mself\u001b[39m\u001b[39m.\u001b[39m_fit_method \u001b[39m==\u001b[39m \u001b[39m\"\u001b[39m\u001b[39mbrute\u001b[39m\u001b[39m\"\u001b[39m \u001b[39mand\u001b[39;00m \u001b[39mself\u001b[39m\u001b[39m.\u001b[39mmetric \u001b[39m==\u001b[39m \u001b[39m\"\u001b[39m\u001b[39mprecomputed\u001b[39m\u001b[39m\"\u001b[39m \u001b[39mand\u001b[39;00m issparse(X)\n\u001b[1;32m    834\u001b[0m ):\n\u001b[1;32m    835\u001b[0m     results \u001b[39m=\u001b[39m _kneighbors_from_graph(\n\u001b[1;32m    836\u001b[0m         X, n_neighbors\u001b[39m=\u001b[39mn_neighbors, return_distance\u001b[39m=\u001b[39mreturn_distance\n\u001b[1;32m    837\u001b[0m     )\n",
      "File \u001b[0;32m~/miniconda3/lib/python3.11/site-packages/sklearn/metrics/_pairwise_distances_reduction/_dispatcher.py:259\u001b[0m, in \u001b[0;36mArgKmin.compute\u001b[0;34m(cls, X, Y, k, metric, chunk_size, metric_kwargs, strategy, return_distance)\u001b[0m\n\u001b[1;32m    178\u001b[0m \u001b[39m\u001b[39m\u001b[39m\"\"\"Compute the argkmin reduction.\u001b[39;00m\n\u001b[1;32m    179\u001b[0m \n\u001b[1;32m    180\u001b[0m \u001b[39mParameters\u001b[39;00m\n\u001b[0;32m   (...)\u001b[0m\n\u001b[1;32m    256\u001b[0m \u001b[39mreturns.\u001b[39;00m\n\u001b[1;32m    257\u001b[0m \u001b[39m\"\"\"\u001b[39;00m\n\u001b[1;32m    258\u001b[0m \u001b[39mif\u001b[39;00m X\u001b[39m.\u001b[39mdtype \u001b[39m==\u001b[39m Y\u001b[39m.\u001b[39mdtype \u001b[39m==\u001b[39m np\u001b[39m.\u001b[39mfloat64:\n\u001b[0;32m--> 259\u001b[0m     \u001b[39mreturn\u001b[39;00m ArgKmin64\u001b[39m.\u001b[39;49mcompute(\n\u001b[1;32m    260\u001b[0m         X\u001b[39m=\u001b[39;49mX,\n\u001b[1;32m    261\u001b[0m         Y\u001b[39m=\u001b[39;49mY,\n\u001b[1;32m    262\u001b[0m         k\u001b[39m=\u001b[39;49mk,\n\u001b[1;32m    263\u001b[0m         metric\u001b[39m=\u001b[39;49mmetric,\n\u001b[1;32m    264\u001b[0m         chunk_size\u001b[39m=\u001b[39;49mchunk_size,\n\u001b[1;32m    265\u001b[0m         metric_kwargs\u001b[39m=\u001b[39;49mmetric_kwargs,\n\u001b[1;32m    266\u001b[0m         strategy\u001b[39m=\u001b[39;49mstrategy,\n\u001b[1;32m    267\u001b[0m         return_distance\u001b[39m=\u001b[39;49mreturn_distance,\n\u001b[1;32m    268\u001b[0m     )\n\u001b[1;32m    270\u001b[0m \u001b[39mif\u001b[39;00m X\u001b[39m.\u001b[39mdtype \u001b[39m==\u001b[39m Y\u001b[39m.\u001b[39mdtype \u001b[39m==\u001b[39m np\u001b[39m.\u001b[39mfloat32:\n\u001b[1;32m    271\u001b[0m     \u001b[39mreturn\u001b[39;00m ArgKmin32\u001b[39m.\u001b[39mcompute(\n\u001b[1;32m    272\u001b[0m         X\u001b[39m=\u001b[39mX,\n\u001b[1;32m    273\u001b[0m         Y\u001b[39m=\u001b[39mY,\n\u001b[0;32m   (...)\u001b[0m\n\u001b[1;32m    279\u001b[0m         return_distance\u001b[39m=\u001b[39mreturn_distance,\n\u001b[1;32m    280\u001b[0m     )\n",
      "File \u001b[0;32msklearn/metrics/_pairwise_distances_reduction/_argkmin.pyx:90\u001b[0m, in \u001b[0;36msklearn.metrics._pairwise_distances_reduction._argkmin.ArgKmin64.compute\u001b[0;34m()\u001b[0m\n",
      "File \u001b[0;32m~/miniconda3/lib/python3.11/site-packages/threadpoolctl.py:440\u001b[0m, in \u001b[0;36m_ThreadpoolLimiter.__exit__\u001b[0;34m(self, type, value, traceback)\u001b[0m\n\u001b[1;32m    437\u001b[0m \u001b[39mdef\u001b[39;00m \u001b[39m__enter__\u001b[39m(\u001b[39mself\u001b[39m):\n\u001b[1;32m    438\u001b[0m     \u001b[39mreturn\u001b[39;00m \u001b[39mself\u001b[39m\n\u001b[0;32m--> 440\u001b[0m \u001b[39mdef\u001b[39;00m \u001b[39m__exit__\u001b[39m(\u001b[39mself\u001b[39m, \u001b[39mtype\u001b[39m, value, traceback):\n\u001b[1;32m    441\u001b[0m     \u001b[39mself\u001b[39m\u001b[39m.\u001b[39mrestore_original_limits()\n\u001b[1;32m    443\u001b[0m \u001b[39m@classmethod\u001b[39m\n\u001b[1;32m    444\u001b[0m \u001b[39mdef\u001b[39;00m \u001b[39mwrap\u001b[39m(\u001b[39mcls\u001b[39m, controller, \u001b[39m*\u001b[39m, limits\u001b[39m=\u001b[39m\u001b[39mNone\u001b[39;00m, user_api\u001b[39m=\u001b[39m\u001b[39mNone\u001b[39;00m):\n",
      "\u001b[0;31mKeyboardInterrupt\u001b[0m: "
     ]
    }
   ],
   "source": [
    "# from sklearn.neighbors import KNeighborsClassifier\n",
    "\n",
    "# # Define KNN pipeline\n",
    "# pipeline_knn = Pipeline(\n",
    "#     [\n",
    "#         (\"imputer\", SimpleImputer(strategy=\"median\")),\n",
    "#         (\"classifier\", KNeighborsClassifier()),\n",
    "#     ]\n",
    "# )\n",
    "\n",
    "# param_grid_knn = {\n",
    "#     \"classifier__n_neighbors\": [\n",
    "#         10,\n",
    "#     ],\n",
    "#     \"classifier__weights\": [\"distance\"],\n",
    "# }\n",
    "\n",
    "# grid_search_knn = GridSearchCV(\n",
    "#     pipeline_knn,\n",
    "#     param_grid_knn,\n",
    "#     cv=5,\n",
    "#     scoring=\"roc_auc\",  # n_jobs=-1\n",
    "# )\n",
    "\n",
    "# grid_search_knn.fit(X_train, base_train[\"target\"])\n",
    "\n",
    "# best_params_knn = grid_search_knn.best_params_\n",
    "# print(\"Best hyperparameters:\", best_params_knn)\n",
    "\n",
    "# best_model_knn = grid_search_knn.best_estimator_\n",
    "\n",
    "# y_train_pred_proba_knn = best_model_knn.predict_proba(X_train)[:, 1]\n",
    "# auc_knn_train = roc_auc_score(base_train[\"target\"], y_train_pred_proba_knn)\n",
    "\n",
    "# y_val_pred_proba_knn = best_model_knn.predict_proba(X_valid)[:, 1]\n",
    "# auc_knn_val = roc_auc_score(base_valid[\"target\"], y_val_pred_proba_knn)\n",
    "\n",
    "\n",
    "# y_test_pred_proba_knn = best_model_knn.predict_proba(X_test)[:, 1]\n",
    "# auc_knn_test = roc_auc_score(base_test[\"target\"], y_test_pred_proba_knn)\n",
    "\n",
    "# # Print results\n",
    "# print(\"train_auc:\", auc_knn_train)\n",
    "# print(\"vali_auc:\", auc_knn_val)\n",
    "# print(\"test_auc:\", auc_knn_test)"
   ]
  },
  {
   "cell_type": "code",
   "execution_count": null,
   "id": "f0c1bdb6",
   "metadata": {},
   "outputs": [],
   "source": [
    "# for base, X in [\n",
    "#     (base_test, X_test)\n",
    "# ]:  # (base_train3, X_train3), (base_train4, X_train4),\n",
    "#     y_pred = best_model_knn.predict_proba(X)[:, 1]\n",
    "#     base[\"score\"] = y_pred"
   ]
  },
  {
   "cell_type": "code",
   "execution_count": null,
   "id": "7cac5100",
   "metadata": {},
   "outputs": [],
   "source": [
    "# # stability_rf_train = gini_stability(base_train3)\n",
    "# # stability_rf_valid = gini_stability(base_train4)\n",
    "# stability_knn_test = gini_stability(base_test)\n",
    "\n",
    "# # print(\"rf train stability\", stability_rf_train)\n",
    "# # print(\"rf valid stability\", stability_rf_valid)\n",
    "# print(\"knn test stability\", stability_knn_test)"
   ]
  },
  {
   "cell_type": "markdown",
   "id": "06c62553",
   "metadata": {},
   "source": [
    "## Model Stacking"
   ]
  },
  {
   "cell_type": "markdown",
   "id": "7216fc32",
   "metadata": {},
   "source": [
    "IFOREST-TRIAL"
   ]
  },
  {
   "cell_type": "code",
   "execution_count": 23,
   "id": "f7d52e38",
   "metadata": {},
   "outputs": [],
   "source": [
    "# missing data processing\n",
    "\n",
    "imp_median = SimpleImputer(missing_values=np.nan, strategy=\"median\")\n",
    "\n",
    "imp_median.fit(X_train)\n",
    "X_imputed = imp_median.transform(X_train)\n",
    "\n",
    "imp_median.fit(X_valid)\n",
    "X_imputed_val = imp_median.transform(X_valid)\n",
    "\n",
    "imp_median.fit(X_test)\n",
    "X_imputed_test = imp_median.transform(X_test)"
   ]
  },
  {
   "cell_type": "code",
   "execution_count": 24,
   "id": "0e976e92",
   "metadata": {},
   "outputs": [
    {
     "data": {
      "text/plain": [
       "(915995, 653)"
      ]
     },
     "execution_count": 24,
     "metadata": {},
     "output_type": "execute_result"
    }
   ],
   "source": [
    "X_imputed.shape"
   ]
  },
  {
   "cell_type": "code",
   "execution_count": 25,
   "id": "409c7580",
   "metadata": {},
   "outputs": [],
   "source": [
    "# Iforest\n",
    "from sklearn.ensemble import IsolationForest\n",
    "\n",
    "isolation_forest = IsolationForest(contamination=0.03245766, random_state=42)\n",
    "isolation_forest.fit(X_imputed)\n",
    "train_anomaly_scores = isolation_forest.decision_function(X_imputed)\n",
    "val_anomaly_scores = isolation_forest.decision_function(X_imputed_val)\n",
    "test_anomaly_scores = isolation_forest.decision_function(X_imputed_test)"
   ]
  },
  {
   "cell_type": "code",
   "execution_count": 26,
   "id": "dc38e2d2",
   "metadata": {},
   "outputs": [],
   "source": [
    "# impute iforest\n",
    "X_imputed = np.column_stack((X_imputed, train_anomaly_scores))\n",
    "X_imputed_val = np.column_stack((X_imputed_val, val_anomaly_scores))\n",
    "X_imputed_test = np.column_stack((X_imputed_test, test_anomaly_scores))"
   ]
  },
  {
   "cell_type": "code",
   "execution_count": null,
   "id": "2a5ee4d8",
   "metadata": {},
   "outputs": [],
   "source": [
    "# # impute knn ----pending!!!!\n",
    "# X_imputed = np.column_stack((X_imputed, y_train_pred_proba_knn))\n",
    "# X_imputed_val = np.column_stack((X_imputed_val, y_val_pred_proba_knn))\n",
    "# X_imputed_test = np.column_stack((X_imputed_test, y_test_pred_proba_knn))"
   ]
  },
  {
   "cell_type": "code",
   "execution_count": 27,
   "id": "a979df33",
   "metadata": {},
   "outputs": [],
   "source": [
    "# impute rf\n",
    "X_imputed = np.column_stack((X_imputed, y_rf_train))\n",
    "X_imputed_val = np.column_stack((X_imputed_val, y_rf_valid))\n",
    "X_imputed_test = np.column_stack((X_imputed_test, y_rf_test))"
   ]
  },
  {
   "cell_type": "code",
   "execution_count": 28,
   "id": "e73732c2",
   "metadata": {},
   "outputs": [
    {
     "data": {
      "text/plain": [
       "(915995, 655)"
      ]
     },
     "execution_count": 28,
     "metadata": {},
     "output_type": "execute_result"
    }
   ],
   "source": [
    "X_imputed.shape"
   ]
  },
  {
   "cell_type": "code",
   "execution_count": 29,
   "id": "05aa8d10",
   "metadata": {},
   "outputs": [],
   "source": [
    "X_train_i = pd.DataFrame(X_imputed)\n",
    "X_valid_i = pd.DataFrame(X_imputed_val)\n",
    "X_test_i = pd.DataFrame(X_imputed_test)"
   ]
  },
  {
   "cell_type": "code",
   "execution_count": 31,
   "id": "2761596d",
   "metadata": {},
   "outputs": [
    {
     "name": "stdout",
     "output_type": "stream",
     "text": [
      "Best hyperparameters: {'classifier__colsample_bytree': 0.65, 'classifier__learning_rate': 0.01, 'classifier__max_depth': 10, 'classifier__n_estimators': 70, 'classifier__reg_alpha': 0.3, 'classifier__reg_lambda': 5, 'classifier__subsample': 0.15}\n"
     ]
    }
   ],
   "source": [
    "# result for rf+ifrost -->xgboost\n",
    "pipeline_xgb_i = Pipeline(\n",
    "    [\n",
    "        (\"imputer\", SimpleImputer(strategy=\"median\")),\n",
    "        (\"classifier\", xgb.XGBClassifier(objective=\"binary:logistic\", random_state=42)),\n",
    "    ]\n",
    ")\n",
    "\n",
    "param_grid_xgb_i = {\n",
    "    \"classifier__learning_rate\": [0.01],\n",
    "    \"classifier__max_depth\": [10],\n",
    "    \"classifier__n_estimators\": [70],\n",
    "    \"classifier__subsample\": [0.15],\n",
    "    \"classifier__colsample_bytree\": [0.65],\n",
    "    \"classifier__reg_alpha\": [0.3],\n",
    "    \"classifier__reg_lambda\": [5],\n",
    "}\n",
    "\n",
    "grid_search_xgb_i = GridSearchCV(\n",
    "    pipeline_xgb_i,\n",
    "    param_grid_xgb_i,\n",
    "    cv=5,\n",
    "    scoring=\"roc_auc\",  # n_jobs=-1\n",
    ")\n",
    "\n",
    "grid_search_xgb_i.fit(X_train_i, base_train[\"target\"])\n",
    "\n",
    "best_params_xgb_i = grid_search_xgb_i.best_params_\n",
    "print(\"Best hyperparameters:\", best_params_xgb_i)\n",
    "\n",
    "best_model_xgb_i = grid_search_xgb_i.best_estimator_\n",
    "# print result"
   ]
  },
  {
   "cell_type": "code",
   "execution_count": 32,
   "id": "d720c18b",
   "metadata": {},
   "outputs": [
    {
     "name": "stdout",
     "output_type": "stream",
     "text": [
      "The meta_xgb AUC score on the train set is: 0.8879768422100222\n",
      "The meta_xgb AUC score on the valid set is: 0.7190190222657052\n",
      "The meta_xgb AUC score on the test set is: 0.718337101991866\n"
     ]
    }
   ],
   "source": [
    "for base, X in [\n",
    "    (base_train, X_train_i),\n",
    "    (base_valid, X_valid_i),\n",
    "    (base_test, X_test_i),\n",
    "]:\n",
    "    y_pred = best_model_xgb_i.predict_proba(X)[:, 1]\n",
    "    base[\"score\"] = y_pred\n",
    "print(\n",
    "    f'The meta_xgb AUC score on the train set is: {roc_auc_score(base_train[\"target\"], base_train[\"score\"])}'\n",
    ")\n",
    "print(\n",
    "    f'The meta_xgb AUC score on the valid set is: {roc_auc_score(base_valid[\"target\"], base_valid[\"score\"])}'\n",
    ")\n",
    "print(\n",
    "    f'The meta_xgb AUC score on the test set is: {roc_auc_score(base_test[\"target\"], base_test[\"score\"])}'\n",
    ")"
   ]
  },
  {
   "cell_type": "code",
   "execution_count": 33,
   "id": "e3bdd8ee",
   "metadata": {},
   "outputs": [
    {
     "name": "stdout",
     "output_type": "stream",
     "text": [
      "rf train stability 0.764702539216158\n",
      "rf valid stability 0.4142947760001885\n",
      "meta_xgb test stability 0.3993853635796833\n"
     ]
    }
   ],
   "source": [
    "stability_rf_train = gini_stability(base_train)\n",
    "tability_rf_valid = gini_stability(base_valid)\n",
    "stability_meta_test = gini_stability(base_test)\n",
    "\n",
    "print(\"rf train stability\", stability_rf_train)\n",
    "print(\"rf valid stability\", stability_rf_valid)\n",
    "print(\"meta_xgb test stability\", stability_meta_test)"
   ]
  },
  {
   "cell_type": "markdown",
   "id": "f6aa5fc1",
   "metadata": {},
   "source": [
    "Submission"
   ]
  },
  {
   "cell_type": "code",
   "execution_count": null,
   "id": "e886dfbc",
   "metadata": {},
   "outputs": [
    {
     "name": "stdout",
     "output_type": "stream",
     "text": [
      "Best hyperparameters: OrderedDict([('classifier__colsample_bytree', 0.5), ('classifier__learning_rate', 0.010710388739295373), ('classifier__max_depth', 50), ('classifier__n_estimators', 508), ('classifier__subsample', 0.1)])\n",
      "Accuracy: 0.9690795592993856\n"
     ]
    }
   ],
   "source": [
    "# # Beyes SearchCV\n",
    "# from skopt import BayesSearchCV\n",
    "\n",
    "# pipeline_xgb = Pipeline(\n",
    "#     [\n",
    "#         (\"imputer\", SimpleImputer(strategy=\"median\")),\n",
    "#         (\"classifier\", xgb.XGBClassifier(objective=\"binary:logistic\", random_state=42)),\n",
    "#     ]\n",
    "# )\n",
    "\n",
    "# param_grid_xgb = {\n",
    "#     \"classifier__learning_rate\": (0.01, 0.1, \"log-uniform\"),\n",
    "#     \"classifier__max_depth\": (50, 100),\n",
    "#     \"classifier__n_estimators\": (500, 1000),\n",
    "#     \"classifier__subsample\": (0.1, 0.5, \"uniform\"),\n",
    "#     \"classifier__colsample_bytree\": (0.5, 1.0, \"uniform\"),\n",
    "# }\n",
    "\n",
    "# bayesian_search_xgb = BayesSearchCV(\n",
    "#     pipeline_xgb, param_grid_xgb, cv=5, scoring=\"accuracy\", n_jobs=-1\n",
    "# )\n",
    "\n",
    "# bayesian_search_xgb.fit(X_train, y_train)\n",
    "\n",
    "# best_params_xgb = bayesian_search_xgb.best_params_\n",
    "# print(\"Best hyperparameters:\", best_params_xgb)\n",
    "\n",
    "# best_model_xgb = bayesian_search_xgb.best_estimator_\n",
    "\n",
    "# accuracy_xgb = best_model_xgb.score(X_valid, y_valid)\n",
    "\n",
    "# print(\"Accuracy:\", accuracy_xgb)"
   ]
  },
  {
   "cell_type": "markdown",
   "id": "52770f89",
   "metadata": {},
   "source": [
    "## Original notebook evaluation"
   ]
  },
  {
   "cell_type": "markdown",
   "id": "159e73d6",
   "metadata": {
    "papermill": {
     "duration": 0.008222,
     "end_time": "2024-02-07T21:29:52.859056",
     "exception": false,
     "start_time": "2024-02-07T21:29:52.850834",
     "status": "completed"
    },
    "tags": []
   },
   "source": [
    "Evaluation with AUC and then comparison with the stability metric is shown below."
   ]
  },
  {
   "cell_type": "code",
   "execution_count": null,
   "id": "f59ab4d3",
   "metadata": {},
   "outputs": [
    {
     "name": "stdout",
     "output_type": "stream",
     "text": [
      "The AUC score on the train set is: 0.5000502625906061\n",
      "The AUC score on the valid set is: 0.4999983101828382\n",
      "The AUC score on the test set is: 0.5\n"
     ]
    }
   ],
   "source": [
    "# for base, X in [(base_train, X_train), (base_valid, X_valid), (base_test, X_test)]:\n",
    "#     y_pred = best_model_xgb.predict(X)\n",
    "#     base[\"score\"] = y_pred\n",
    "\n",
    "# print(\n",
    "#     f'The AUC score on the train set is: {roc_auc_score(base_train[\"target\"], base_train[\"score\"])}'\n",
    "# )\n",
    "# print(\n",
    "#     f'The AUC score on the valid set is: {roc_auc_score(base_valid[\"target\"], base_valid[\"score\"])}'\n",
    "# )\n",
    "# print(\n",
    "#     f'The AUC score on the test set is: {roc_auc_score(base_test[\"target\"], base_test[\"score\"])}'\n",
    "# )"
   ]
  },
  {
   "cell_type": "code",
   "execution_count": null,
   "id": "2e10914f",
   "metadata": {
    "execution": {
     "iopub.execute_input": "2024-02-07T21:30:15.504198Z",
     "iopub.status.busy": "2024-02-07T21:30:15.503723Z",
     "iopub.status.idle": "2024-02-07T21:30:16.621500Z",
     "shell.execute_reply": "2024-02-07T21:30:16.620020Z"
    },
    "papermill": {
     "duration": 1.131134,
     "end_time": "2024-02-07T21:30:16.624526",
     "exception": false,
     "start_time": "2024-02-07T21:30:15.493392",
     "status": "completed"
    },
    "tags": []
   },
   "outputs": [
    {
     "name": "stdout",
     "output_type": "stream",
     "text": [
      "The stability score on the train set is: 0.002716678063434127\n",
      "The stability score on the valid set is: -0.0004015572928544619\n",
      "The stability score on the test set is: -0.0003913620321528701\n"
     ]
    }
   ],
   "source": [
    "# def gini_stability(base, w_fallingrate=88.0, w_resstd=-0.5):\n",
    "#     gini_in_time = (\n",
    "#         base.loc[:, [\"WEEK_NUM\", \"target\", \"score\"]]\n",
    "#         .sort_values(\"WEEK_NUM\")\n",
    "#         .groupby(\"WEEK_NUM\")[[\"target\", \"score\"]]\n",
    "#         .apply(lambda x: 2 * roc_auc_score(x[\"target\"], x[\"score\"]) - 1)\n",
    "#         .tolist()\n",
    "#     )\n",
    "\n",
    "#     x = np.arange(len(gini_in_time))\n",
    "#     y = gini_in_time\n",
    "#     a, b = np.polyfit(x, y, 1)\n",
    "#     y_hat = a * x + b\n",
    "#     residuals = y - y_hat\n",
    "#     res_std = np.std(residuals)\n",
    "#     avg_gini = np.mean(gini_in_time)\n",
    "#     return avg_gini + w_fallingrate * min(0, a) + w_resstd * res_std\n",
    "\n",
    "\n",
    "# stability_score_train = gini_stability(base_train)\n",
    "# stability_score_valid = gini_stability(base_valid)\n",
    "# stability_score_test = gini_stability(base_test)\n",
    "\n",
    "# print(f\"The stability score on the train set is: {stability_score_train}\")\n",
    "# print(f\"The stability score on the valid set is: {stability_score_valid}\")\n",
    "# print(f\"The stability score on the test set is: {stability_score_test}\")"
   ]
  },
  {
   "cell_type": "markdown",
   "id": "e4e23f05",
   "metadata": {
    "papermill": {
     "duration": 0.008408,
     "end_time": "2024-02-07T21:30:16.642325",
     "exception": false,
     "start_time": "2024-02-07T21:30:16.633917",
     "status": "completed"
    },
    "tags": []
   },
   "source": [
    "## Submission\n",
    "\n",
    "Scoring the submission dataset is below, we need to take care of new categories. Then we save the score as a last step. "
   ]
  },
  {
   "cell_type": "code",
   "execution_count": null,
   "id": "a30dccc6",
   "metadata": {
    "execution": {
     "iopub.execute_input": "2024-02-07T21:30:16.662444Z",
     "iopub.status.busy": "2024-02-07T21:30:16.661989Z",
     "iopub.status.idle": "2024-02-07T21:30:16.775835Z",
     "shell.execute_reply": "2024-02-07T21:30:16.774344Z"
    },
    "papermill": {
     "duration": 0.127205,
     "end_time": "2024-02-07T21:30:16.778624",
     "exception": false,
     "start_time": "2024-02-07T21:30:16.651419",
     "status": "completed"
    },
    "tags": []
   },
   "outputs": [],
   "source": [
    "# X_submission = data_submission[cols_pred].to_pandas()\n",
    "# X_submission = convert_strings(X_submission)\n",
    "# categorical_cols = X_train.select_dtypes(include=[\"category\"]).columns\n",
    "\n",
    "# for col in categorical_cols:\n",
    "#     train_categories = set(X_train[col].cat.categories)\n",
    "#     submission_categories = set(X_submission[col].cat.categories)\n",
    "#     new_categories = submission_categories - train_categories\n",
    "#     X_submission.loc[X_submission[col].isin(new_categories), col] = \"Unknown\"\n",
    "#     new_dtype = pd.CategoricalDtype(categories=train_categories, ordered=True)\n",
    "#     X_train[col] = X_train[col].astype(new_dtype)\n",
    "#     X_submission[col] = X_submission[col].astype(new_dtype)\n",
    "\n",
    "# y_submission_pred = gbm.predict(X_submission, num_iteration=gbm.best_iteration)"
   ]
  },
  {
   "cell_type": "code",
   "execution_count": null,
   "id": "d8664c2f",
   "metadata": {
    "execution": {
     "iopub.execute_input": "2024-02-07T21:30:16.798722Z",
     "iopub.status.busy": "2024-02-07T21:30:16.798207Z",
     "iopub.status.idle": "2024-02-07T21:30:16.811051Z",
     "shell.execute_reply": "2024-02-07T21:30:16.809721Z"
    },
    "papermill": {
     "duration": 0.026081,
     "end_time": "2024-02-07T21:30:16.813857",
     "exception": false,
     "start_time": "2024-02-07T21:30:16.787776",
     "status": "completed"
    },
    "tags": []
   },
   "outputs": [],
   "source": [
    "# submission = pd.DataFrame(\n",
    "#     {\"case_id\": data_submission[\"case_id\"].to_numpy(), \"score\": y_submission_pred}\n",
    "# ).set_index(\"case_id\")\n",
    "# submission.to_csv(\"./submission.csv\")"
   ]
  },
  {
   "cell_type": "code",
   "execution_count": null,
   "id": "76866091",
   "metadata": {},
   "outputs": [
    {
     "data": {
      "text/html": [
       "<div><style>\n",
       ".dataframe > thead > tr > th,\n",
       ".dataframe > tbody > tr > td {\n",
       "  text-align: right;\n",
       "  white-space: pre-wrap;\n",
       "}\n",
       "</style>\n",
       "<small>shape: (10, 57)</small><table border=\"1\" class=\"dataframe\"><thead><tr><th>case_id</th><th>date_decision</th><th>MONTH</th><th>WEEK_NUM</th><th>amtinstpaidbefduel24m_4187115A</th><th>annuity_780A</th><th>annuitynextmonth_57A</th><th>avginstallast24m_3658937A</th><th>avglnamtstart24m_4525187A</th><th>avgoutstandbalancel6m_4187114A</th><th>avgpmtlast12m_4525200A</th><th>credamount_770A</th><th>currdebt_22A</th><th>currdebtcredtyperange_828A</th><th>disbursedcredamount_1113A</th><th>downpmt_116A</th><th>inittransactionamount_650A</th><th>lastapprcommoditycat_1041M</th><th>lastapprcommoditytypec_5251766M</th><th>lastapprcredamount_781A</th><th>lastcancelreason_561M</th><th>lastotherinc_902A</th><th>lastotherlnsexpense_631A</th><th>lastrejectcommoditycat_161M</th><th>lastrejectcommodtypec_5251769M</th><th>lastrejectcredamount_222A</th><th>lastrejectreason_759M</th><th>lastrejectreasonclient_4145040M</th><th>maininc_215A</th><th>maxannuity_159A</th><th>maxannuity_4075009A</th><th>maxdebt4_972A</th><th>maxinstallast24m_3658928A</th><th>maxlnamtstart6m_4525199A</th><th>maxoutstandbalancel12m_4187113A</th><th>maxpmtlast3m_4525190A</th><th>previouscontdistrict_112M</th><th>price_1097A</th><th>sumoutstandtotal_3546847A</th><th>sumoutstandtotalest_4493215A</th><th>totaldebt_9A</th><th>totalsettled_863A</th><th>totinstallast1m_4525188A</th><th>description_5085714M</th><th>education_1103M</th><th>education_88M</th><th>maritalst_385M</th><th>maritalst_893M</th><th>pmtaverage_3A</th><th>pmtaverage_4527227A</th><th>pmtaverage_4955615A</th><th>pmtssum_45A</th><th>mainoccupationinc_384A_max</th><th>mainoccupationinc_384A_any_selfemployed</th><th>person_housetype</th><th>pmts_pmtsoverdue_635A_max</th><th>pmts_dpdvalue_108P_over31</th></tr><tr><td>i64</td><td>str</td><td>i64</td><td>i64</td><td>f64</td><td>f64</td><td>f64</td><td>f64</td><td>f64</td><td>f64</td><td>f64</td><td>f64</td><td>f64</td><td>f64</td><td>f64</td><td>f64</td><td>f64</td><td>str</td><td>str</td><td>f64</td><td>str</td><td>f64</td><td>f64</td><td>str</td><td>str</td><td>f64</td><td>str</td><td>str</td><td>f64</td><td>f64</td><td>f64</td><td>f64</td><td>f64</td><td>f64</td><td>f64</td><td>f64</td><td>str</td><td>f64</td><td>f64</td><td>f64</td><td>f64</td><td>f64</td><td>f64</td><td>str</td><td>str</td><td>str</td><td>str</td><td>str</td><td>f64</td><td>f64</td><td>f64</td><td>f64</td><td>f64</td><td>bool</td><td>str</td><td>f64</td><td>bool</td></tr></thead><tbody><tr><td>57543</td><td>&quot;2021-05-14&quot;</td><td>202201</td><td>100</td><td>191767.36</td><td>3674.6</td><td>1218.2001</td><td>16049.4</td><td>17054.4</td><td>14554.4</td><td>24482.0</td><td>20000.0</td><td>12154.4</td><td>0.0</td><td>20000.0</td><td>0.0</td><td>null</td><td>&quot;a55475b1&quot;</td><td>&quot;a55475b1&quot;</td><td>14000.0</td><td>&quot;a55475b1&quot;</td><td>null</td><td>null</td><td>&quot;P109_133_183&quot;</td><td>&quot;P49_111_165&quot;</td><td>24000.0</td><td>&quot;a55475b1&quot;</td><td>&quot;a55475b1&quot;</td><td>34000.0</td><td>280983.56</td><td>null</td><td>231440.03</td><td>131700.8</td><td>16672.6</td><td>157731.78</td><td>16641.4</td><td>&quot;a55475b1&quot;</td><td>0.0</td><td>12154.4</td><td>12154.4</td><td>12154.4</td><td>456031.1</td><td>17859.6</td><td>&quot;2fc785b2&quot;</td><td>&quot;6b2ae0fa&quot;</td><td>&quot;a55475b1&quot;</td><td>&quot;38c061ee&quot;</td><td>&quot;a55475b1&quot;</td><td>null</td><td>null</td><td>null</td><td>null</td><td>34000.0</td><td>false</td><td>null</td><td>null</td><td>null</td></tr><tr><td>57549</td><td>&quot;2022-01-17&quot;</td><td>202201</td><td>100</td><td>129704.4</td><td>5742.6</td><td>3546.6</td><td>32426.201</td><td>118964.805</td><td>13681.714</td><td>32426.201</td><td>75000.0</td><td>10638.2</td><td>10638.2</td><td>75000.0</td><td>0.0</td><td>null</td><td>&quot;a55475b1&quot;</td><td>&quot;a55475b1&quot;</td><td>94000.0</td><td>&quot;a55475b1&quot;</td><td>null</td><td>null</td><td>&quot;a55475b1&quot;</td><td>&quot;a55475b1&quot;</td><td>160000.0</td><td>&quot;a55475b1&quot;</td><td>&quot;P30_86_84&quot;</td><td>44000.0</td><td>337659.8</td><td>null</td><td>34066.0</td><td>122511.4</td><td>31820.6</td><td>21278.0</td><td>122511.4</td><td>&quot;a55475b1&quot;</td><td>null</td><td>10638.2</td><td>10638.2</td><td>10638.2</td><td>373720.84</td><td>126058.0</td><td>&quot;2fc785b2&quot;</td><td>&quot;39a0853f&quot;</td><td>&quot;a55475b1&quot;</td><td>&quot;a7fcb6e5&quot;</td><td>&quot;a55475b1&quot;</td><td>null</td><td>null</td><td>26815.6</td><td>null</td><td>49800.0</td><td>false</td><td>null</td><td>null</td><td>null</td></tr><tr><td>57551</td><td>&quot;2020-11-27&quot;</td><td>202201</td><td>100</td><td>71036.4</td><td>2844.6</td><td>0.0</td><td>8357.2</td><td>null</td><td>0.0</td><td>9551.0</td><td>27095.201</td><td>0.0</td><td>0.0</td><td>27095.201</td><td>0.0</td><td>null</td><td>&quot;a55475b1&quot;</td><td>&quot;a55475b1&quot;</td><td>200000.0</td><td>&quot;P85_114_140&quot;</td><td>null</td><td>null</td><td>&quot;a55475b1&quot;</td><td>&quot;a55475b1&quot;</td><td>null</td><td>&quot;a55475b1&quot;</td><td>&quot;a55475b1&quot;</td><td>70000.0</td><td>83400.0</td><td>null</td><td>54000.0</td><td>41783.402</td><td>54000.0</td><td>62619.0</td><td>null</td><td>&quot;P11_36_178&quot;</td><td>27095.201</td><td>0.0</td><td>0.0</td><td>0.0</td><td>75219.0</td><td>null</td><td>&quot;2fc785b2&quot;</td><td>&quot;6b2ae0fa&quot;</td><td>&quot;a55475b1&quot;</td><td>&quot;3439d993&quot;</td><td>&quot;a55475b1&quot;</td><td>null</td><td>null</td><td>null</td><td>null</td><td>59600.0</td><td>false</td><td>null</td><td>null</td><td>null</td></tr><tr><td>57552</td><td>&quot;2020-11-27&quot;</td><td>202201</td><td>100</td><td>183992.0</td><td>6298.8003</td><td>12155.4</td><td>7440.4</td><td>null</td><td>199322.4</td><td>9148.4</td><td>100000.0</td><td>191269.61</td><td>191269.61</td><td>100000.0</td><td>0.0</td><td>null</td><td>&quot;a55475b1&quot;</td><td>&quot;a55475b1&quot;</td><td>0.0</td><td>&quot;P94_109_143&quot;</td><td>null</td><td>null</td><td>&quot;a55475b1&quot;</td><td>&quot;a55475b1&quot;</td><td>150000.0</td><td>&quot;a55475b1&quot;</td><td>&quot;P94_109_143&quot;</td><td>null</td><td>110500.0</td><td>null</td><td>188126.14</td><td>12155.4</td><td>104473.6</td><td>288642.6</td><td>12155.4</td><td>&quot;P21_87_50&quot;</td><td>null</td><td>191269.61</td><td>191269.61</td><td>191269.61</td><td>284213.0</td><td>18889.0</td><td>&quot;2fc785b2&quot;</td><td>&quot;a55475b1&quot;</td><td>&quot;a55475b1&quot;</td><td>&quot;a55475b1&quot;</td><td>&quot;a55475b1&quot;</td><td>null</td><td>null</td><td>23402.8</td><td>null</td><td>112000.0</td><td>false</td><td>&quot;OWNED&quot;</td><td>null</td><td>null</td></tr><tr><td>57569</td><td>&quot;2021-12-20&quot;</td><td>202201</td><td>100</td><td>0.0</td><td>4682.6</td><td>0.0</td><td>null</td><td>null</td><td>null</td><td>10796.4</td><td>60000.0</td><td>0.0</td><td>0.0</td><td>60000.0</td><td>0.0</td><td>null</td><td>&quot;a55475b1&quot;</td><td>&quot;a55475b1&quot;</td><td>20000.0</td><td>&quot;P94_109_143&quot;</td><td>null</td><td>null</td><td>&quot;a55475b1&quot;</td><td>&quot;a55475b1&quot;</td><td>40000.0</td><td>&quot;a55475b1&quot;</td><td>&quot;P94_109_143&quot;</td><td>6000.0</td><td>37704.0</td><td>null</td><td>64555.668</td><td>null</td><td>null</td><td>0.0</td><td>null</td><td>&quot;a55475b1&quot;</td><td>null</td><td>0.0</td><td>0.0</td><td>0.0</td><td>95348.42</td><td>null</td><td>&quot;2fc785b2&quot;</td><td>&quot;717ddd49&quot;</td><td>&quot;a55475b1&quot;</td><td>&quot;3439d993&quot;</td><td>&quot;a55475b1&quot;</td><td>null</td><td>null</td><td>17333.6</td><td>null</td><td>58000.0</td><td>false</td><td>&quot;OWNED&quot;</td><td>null</td><td>null</td></tr><tr><td>57630</td><td>&quot;2021-03-16&quot;</td><td>202201</td><td>100</td><td>0.0</td><td>8905.0</td><td>0.0</td><td>null</td><td>null</td><td>null</td><td>null</td><td>96174.0</td><td>0.0</td><td>0.0</td><td>96174.0</td><td>0.0</td><td>null</td><td>&quot;P148_110_5&quot;</td><td>&quot;P161_88_182&quot;</td><td>8876.0</td><td>&quot;P198_89_166&quot;</td><td>null</td><td>null</td><td>&quot;a55475b1&quot;</td><td>&quot;a55475b1&quot;</td><td>null</td><td>&quot;a55475b1&quot;</td><td>&quot;a55475b1&quot;</td><td>12000.0</td><td>1382.8</td><td>null</td><td>0.0</td><td>null</td><td>null</td><td>null</td><td>null</td><td>&quot;a55475b1&quot;</td><td>96174.0</td><td>0.0</td><td>0.0</td><td>0.0</td><td>9677.601</td><td>null</td><td>&quot;2fc785b2&quot;</td><td>&quot;6b2ae0fa&quot;</td><td>&quot;a55475b1&quot;</td><td>&quot;3439d993&quot;</td><td>&quot;a55475b1&quot;</td><td>null</td><td>null</td><td>null</td><td>null</td><td>60000.0</td><td>false</td><td>&quot;OWNED&quot;</td><td>null</td><td>null</td></tr><tr><td>57631</td><td>&quot;2022-06-04&quot;</td><td>202201</td><td>100</td><td>null</td><td>2540.6</td><td>0.0</td><td>null</td><td>null</td><td>null</td><td>null</td><td>24920.0</td><td>0.0</td><td>0.0</td><td>24920.0</td><td>0.0</td><td>null</td><td>&quot;a55475b1&quot;</td><td>&quot;a55475b1&quot;</td><td>null</td><td>&quot;P94_109_143&quot;</td><td>null</td><td>null</td><td>&quot;P100_96_175&quot;</td><td>&quot;P165_57_169&quot;</td><td>46279.8</td><td>&quot;P45_84_106&quot;</td><td>&quot;P94_109_143&quot;</td><td>null</td><td>0.0</td><td>null</td><td>0.0</td><td>null</td><td>null</td><td>null</td><td>null</td><td>&quot;a55475b1&quot;</td><td>24920.0</td><td>null</td><td>null</td><td>0.0</td><td>0.0</td><td>null</td><td>&quot;2fc785b2&quot;</td><td>&quot;a55475b1&quot;</td><td>&quot;a55475b1&quot;</td><td>&quot;a55475b1&quot;</td><td>&quot;a55475b1&quot;</td><td>null</td><td>null</td><td>null</td><td>null</td><td>null</td><td>null</td><td>null</td><td>null</td><td>null</td></tr><tr><td>57632</td><td>&quot;2022-02-05&quot;</td><td>202201</td><td>100</td><td>63647.402</td><td>4732.0</td><td>0.0</td><td>3536.0</td><td>null</td><td>10581.714</td><td>3536.0</td><td>25998.0</td><td>0.0</td><td>0.0</td><td>25998.0</td><td>0.0</td><td>null</td><td>&quot;P53_45_92&quot;</td><td>&quot;P200_75_140&quot;</td><td>50116.0</td><td>&quot;a55475b1&quot;</td><td>null</td><td>null</td><td>&quot;a55475b1&quot;</td><td>&quot;a55475b1&quot;</td><td>null</td><td>&quot;a55475b1&quot;</td><td>&quot;a55475b1&quot;</td><td>56000.0</td><td>7000.0</td><td>null</td><td>63647.402</td><td>3536.0</td><td>63647.402</td><td>42412.0</td><td>3536.0</td><td>&quot;P159_143_123&quot;</td><td>25998.0</td><td>0.0</td><td>0.0</td><td>0.0</td><td>63652.0</td><td>7071.4</td><td>&quot;2fc785b2&quot;</td><td>&quot;a55475b1&quot;</td><td>&quot;a55475b1&quot;</td><td>&quot;a55475b1&quot;</td><td>&quot;a55475b1&quot;</td><td>null</td><td>null</td><td>15841.2</td><td>null</td><td>null</td><td>null</td><td>null</td><td>null</td><td>null</td></tr><tr><td>57633</td><td>&quot;2022-01-25&quot;</td><td>202201</td><td>100</td><td>null</td><td>8273.0</td><td>0.0</td><td>null</td><td>null</td><td>null</td><td>null</td><td>200000.0</td><td>0.0</td><td>0.0</td><td>200000.0</td><td>0.0</td><td>null</td><td>&quot;a55475b1&quot;</td><td>&quot;a55475b1&quot;</td><td>null</td><td>&quot;P85_114_140&quot;</td><td>null</td><td>null</td><td>&quot;P159_130_59&quot;</td><td>&quot;P75_90_70&quot;</td><td>64996.0</td><td>&quot;P45_84_106&quot;</td><td>&quot;P94_109_143&quot;</td><td>null</td><td>0.0</td><td>null</td><td>0.0</td><td>null</td><td>null</td><td>null</td><td>null</td><td>&quot;a55475b1&quot;</td><td>0.0</td><td>null</td><td>null</td><td>0.0</td><td>0.0</td><td>null</td><td>&quot;2fc785b2&quot;</td><td>&quot;a55475b1&quot;</td><td>&quot;a55475b1&quot;</td><td>&quot;3439d993&quot;</td><td>&quot;a55475b1&quot;</td><td>null</td><td>null</td><td>null</td><td>null</td><td>null</td><td>null</td><td>null</td><td>null</td><td>null</td></tr><tr><td>57634</td><td>&quot;2021-01-27&quot;</td><td>202201</td><td>100</td><td>39948.8</td><td>1165.8</td><td>0.0</td><td>3994.8</td><td>null</td><td>1675.4</td><td>3358.4001</td><td>12108.2</td><td>0.0</td><td>0.0</td><td>12108.2</td><td>0.0</td><td>null</td><td>&quot;P159_130_59&quot;</td><td>&quot;P174_113_42&quot;</td><td>16494.201</td><td>&quot;a55475b1&quot;</td><td>null</td><td>null</td><td>&quot;a55475b1&quot;</td><td>&quot;a55475b1&quot;</td><td>null</td><td>&quot;a55475b1&quot;</td><td>&quot;a55475b1&quot;</td><td>50000.0</td><td>5000.0</td><td>null</td><td>19798.0</td><td>4949.6</td><td>20887.201</td><td>20150.8</td><td>null</td><td>&quot;a55475b1&quot;</td><td>13998.0</td><td>0.0</td><td>0.0</td><td>0.0</td><td>39950.8</td><td>null</td><td>&quot;2fc785b2&quot;</td><td>&quot;a55475b1&quot;</td><td>&quot;a55475b1&quot;</td><td>&quot;a55475b1&quot;</td><td>&quot;a55475b1&quot;</td><td>null</td><td>null</td><td>null</td><td>null</td><td>null</td><td>null</td><td>null</td><td>null</td><td>null</td></tr></tbody></table></div>"
      ],
      "text/plain": [
       "shape: (10, 57)\n",
       "┌─────────┬────────────┬────────┬──────────┬───┬────────────┬────────────┬────────────┬────────────┐\n",
       "│ case_id ┆ date_decis ┆ MONTH  ┆ WEEK_NUM ┆ … ┆ mainoccupa ┆ person_hou ┆ pmts_pmtso ┆ pmts_dpdva │\n",
       "│ ---     ┆ ion        ┆ ---    ┆ ---      ┆   ┆ tioninc_38 ┆ setype     ┆ verdue_635 ┆ lue_108P_o │\n",
       "│ i64     ┆ ---        ┆ i64    ┆ i64      ┆   ┆ 4A_any_sel ┆ ---        ┆ A_max      ┆ ver31      │\n",
       "│         ┆ str        ┆        ┆          ┆   ┆ fe…        ┆ str        ┆ ---        ┆ ---        │\n",
       "│         ┆            ┆        ┆          ┆   ┆ ---        ┆            ┆ f64        ┆ bool       │\n",
       "│         ┆            ┆        ┆          ┆   ┆ bool       ┆            ┆            ┆            │\n",
       "╞═════════╪════════════╪════════╪══════════╪═══╪════════════╪════════════╪════════════╪════════════╡\n",
       "│ 57543   ┆ 2021-05-14 ┆ 202201 ┆ 100      ┆ … ┆ false      ┆ null       ┆ null       ┆ null       │\n",
       "│ 57549   ┆ 2022-01-17 ┆ 202201 ┆ 100      ┆ … ┆ false      ┆ null       ┆ null       ┆ null       │\n",
       "│ 57551   ┆ 2020-11-27 ┆ 202201 ┆ 100      ┆ … ┆ false      ┆ null       ┆ null       ┆ null       │\n",
       "│ 57552   ┆ 2020-11-27 ┆ 202201 ┆ 100      ┆ … ┆ false      ┆ OWNED      ┆ null       ┆ null       │\n",
       "│ …       ┆ …          ┆ …      ┆ …        ┆ … ┆ …          ┆ …          ┆ …          ┆ …          │\n",
       "│ 57631   ┆ 2022-06-04 ┆ 202201 ┆ 100      ┆ … ┆ null       ┆ null       ┆ null       ┆ null       │\n",
       "│ 57632   ┆ 2022-02-05 ┆ 202201 ┆ 100      ┆ … ┆ null       ┆ null       ┆ null       ┆ null       │\n",
       "│ 57633   ┆ 2022-01-25 ┆ 202201 ┆ 100      ┆ … ┆ null       ┆ null       ┆ null       ┆ null       │\n",
       "│ 57634   ┆ 2021-01-27 ┆ 202201 ┆ 100      ┆ … ┆ null       ┆ null       ┆ null       ┆ null       │\n",
       "└─────────┴────────────┴────────┴──────────┴───┴────────────┴────────────┴────────────┴────────────┘"
      ]
     },
     "execution_count": 40,
     "metadata": {},
     "output_type": "execute_result"
    }
   ],
   "source": [
    "# data_submission"
   ]
  },
  {
   "cell_type": "code",
   "execution_count": null,
   "id": "50c9e495",
   "metadata": {},
   "outputs": [],
   "source": [
    "auc_xgb = 0.7445891833980491\n",
    "auc_rf = 0.7196116736124211\n",
    "auc_meta = 0.718337101991866\n",
    "auc_lightgbt = \n",
    "\n",
    "stability_xgb =  0.4531885133887121\n",
    "stability_rf = 0.3986476891377608\n",
    "stability_meta = 0.27299659685452415\n",
    "\n"
   ]
  }
 ],
 "metadata": {
  "kaggle": {
   "accelerator": "none",
   "dataSources": [
    {
     "databundleVersionId": 7493015,
     "sourceId": 50160,
     "sourceType": "competition"
    }
   ],
   "dockerImageVersionId": 30635,
   "isGpuEnabled": false,
   "isInternetEnabled": false,
   "language": "python",
   "sourceType": "notebook"
  },
  "kernelspec": {
   "display_name": "Python 3",
   "language": "python",
   "name": "python3"
  },
  "language_info": {
   "codemirror_mode": {
    "name": "ipython",
    "version": 3
   },
   "file_extension": ".py",
   "mimetype": "text/x-python",
   "name": "python",
   "nbconvert_exporter": "python",
   "pygments_lexer": "ipython3",
   "version": "3.11.5"
  },
  "papermill": {
   "default_parameters": {},
   "duration": 145.018038,
   "end_time": "2024-02-07T21:30:18.166484",
   "environment_variables": {},
   "exception": null,
   "input_path": "__notebook__.ipynb",
   "output_path": "__notebook__.ipynb",
   "parameters": {},
   "start_time": "2024-02-07T21:27:53.148446",
   "version": "2.4.0"
  }
 },
 "nbformat": 4,
 "nbformat_minor": 5
}

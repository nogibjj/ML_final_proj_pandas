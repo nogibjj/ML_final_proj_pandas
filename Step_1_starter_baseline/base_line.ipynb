{
 "cells": [
  {
   "cell_type": "code",
   "execution_count": 49,
   "metadata": {},
   "outputs": [],
   "source": [
    "import polars as pl\n",
    "import numpy as np\n",
    "import pandas as pd\n",
    "import lightgbm as lgb\n",
    "from sklearn.model_selection import train_test_split\n",
    "from sklearn.metrics import roc_auc_score\n",
    "\n",
    "dataPath = \"/kaggle/input/home-credit-credit-risk-model-stability/\""
   ]
  },
  {
   "cell_type": "code",
   "execution_count": 50,
   "metadata": {},
   "outputs": [],
   "source": [
    "def set_table_dtypes(df: pl.DataFrame) -> pl.DataFrame:\n",
    "    # implement here all desired dtypes for tables\n",
    "    # the following is just an example\n",
    "    for col in df.columns:\n",
    "        # last letter of column name will help you determine the type\n",
    "        if col[-1] in (\"P\", \"A\"):\n",
    "            df = df.with_columns(pl.col(col).cast(pl.Float64).alias(col))\n",
    "\n",
    "    return df\n",
    "\n",
    "\n",
    "def convert_strings(df: pd.DataFrame) -> pd.DataFrame:\n",
    "    for col in df.columns:\n",
    "        if df[col].dtype.name in [\"object\", \"string\"]:\n",
    "            df[col] = df[col].astype(\"string\").astype(\"category\")\n",
    "            current_categories = df[col].cat.categories\n",
    "            new_categories = current_categories.to_list() + [\"Unknown\"]\n",
    "            new_dtype = pd.CategoricalDtype(categories=new_categories, ordered=True)\n",
    "            df[col] = df[col].astype(new_dtype)\n",
    "    return df"
   ]
  },
  {
   "cell_type": "code",
   "execution_count": 51,
   "metadata": {},
   "outputs": [],
   "source": [
    "train_basetable = pl.read_csv(\"../Data/train_base.csv\")\n",
    "train_static = pl.concat(\n",
    "    [\n",
    "        pl.read_csv(\"../Data/train_static_0_0.csv\").pipe(set_table_dtypes),\n",
    "        pl.read_csv(\"../Data/train_static_0_1.csv\").pipe(set_table_dtypes),\n",
    "    ],\n",
    "    how=\"vertical_relaxed\",\n",
    ")\n",
    "train_static_cb = pl.read_csv(\"../Data/train_static_cb_0.csv\").pipe(set_table_dtypes)\n",
    "train_person_1 = pl.read_csv(\"../Data/train_person_1.csv\").pipe(set_table_dtypes)\n",
    "train_credit_bureau_b_2 = pl.read_csv(\"../Data/train_credit_bureau_b_2.csv\").pipe(\n",
    "    set_table_dtypes\n",
    ")"
   ]
  },
  {
   "cell_type": "code",
   "execution_count": 9,
   "metadata": {},
   "outputs": [],
   "source": [
    "test_basetable = pl.read_csv(\"../Data/test_base.csv\")\n",
    "test_static = pl.concat(\n",
    "    [\n",
    "        pl.read_csv(\"../Data/test_static_0_0.csv\").pipe(set_table_dtypes),\n",
    "        pl.read_csv(\"../Data/test_static_0_1.csv\").pipe(set_table_dtypes),\n",
    "        pl.read_csv(\"../Data/test_static_0_2.csv\").pipe(set_table_dtypes),\n",
    "    ],\n",
    "    how=\"vertical_relaxed\",\n",
    ")\n",
    "test_static_cb = pl.read_csv(\"../Data/test_static_cb_0.csv\").pipe(set_table_dtypes)\n",
    "test_person_1 = pl.read_csv(\"../Data/test_person_1.csv\").pipe(set_table_dtypes)\n",
    "test_credit_bureau_b_2 = pl.read_csv(\"../Data/test_credit_bureau_b_2.csv\").pipe(\n",
    "    set_table_dtypes\n",
    ")"
   ]
  },
  {
   "cell_type": "code",
   "execution_count": 52,
   "metadata": {},
   "outputs": [
    {
     "name": "stdout",
     "output_type": "stream",
     "text": [
      "['amtinstpaidbefduel24m_4187115A', 'annuity_780A', 'annuitynextmonth_57A', 'avginstallast24m_3658937A', 'avglnamtstart24m_4525187A', 'avgoutstandbalancel6m_4187114A', 'avgpmtlast12m_4525200A', 'credamount_770A', 'currdebt_22A', 'currdebtcredtyperange_828A', 'disbursedcredamount_1113A', 'downpmt_116A', 'inittransactionamount_650A', 'lastapprcommoditycat_1041M', 'lastapprcommoditytypec_5251766M', 'lastapprcredamount_781A', 'lastcancelreason_561M', 'lastotherinc_902A', 'lastotherlnsexpense_631A', 'lastrejectcommoditycat_161M', 'lastrejectcommodtypec_5251769M', 'lastrejectcredamount_222A', 'lastrejectreason_759M', 'lastrejectreasonclient_4145040M', 'maininc_215A', 'maxannuity_159A', 'maxannuity_4075009A', 'maxdebt4_972A', 'maxinstallast24m_3658928A', 'maxlnamtstart6m_4525199A', 'maxoutstandbalancel12m_4187113A', 'maxpmtlast3m_4525190A', 'previouscontdistrict_112M', 'price_1097A', 'sumoutstandtotal_3546847A', 'sumoutstandtotalest_4493215A', 'totaldebt_9A', 'totalsettled_863A', 'totinstallast1m_4525188A']\n",
      "['description_5085714M', 'education_1103M', 'education_88M', 'maritalst_385M', 'maritalst_893M', 'pmtaverage_3A', 'pmtaverage_4527227A', 'pmtaverage_4955615A', 'pmtssum_45A']\n"
     ]
    }
   ],
   "source": [
    "# We need to use aggregation functions in tables with depth > 1, so tables that contain num_group1 column or\n",
    "# also num_group2 column.\n",
    "train_person_1_feats_1 = train_person_1.group_by(\"case_id\").agg(\n",
    "    pl.col(\"mainoccupationinc_384A\").max().alias(\"mainoccupationinc_384A_max\"),\n",
    "    (pl.col(\"incometype_1044T\") == \"SELFEMPLOYED\")\n",
    "    .max()\n",
    "    .alias(\"mainoccupationinc_384A_any_selfemployed\"),\n",
    ")\n",
    "\n",
    "\n",
    "# Here num_group1=0 has special meaning, it is the person who applied for the loan.\n",
    "train_person_1_feats_2 = (\n",
    "    train_person_1.select([\"case_id\", \"num_group1\", \"housetype_905L\"])\n",
    "    .filter(pl.col(\"num_group1\") == 0)\n",
    "    .drop(\"num_group1\")\n",
    "    .rename({\"housetype_905L\": \"person_housetype\"})\n",
    ")\n",
    "\n",
    "# Here we have num_goup1 and num_group2, so we need to aggregate again.\n",
    "train_credit_bureau_b_2_feats = train_credit_bureau_b_2.group_by(\"case_id\").agg(\n",
    "    pl.col(\"pmts_pmtsoverdue_635A\").max().alias(\"pmts_pmtsoverdue_635A_max\"),\n",
    "    (pl.col(\"pmts_dpdvalue_108P\") > 31).max().alias(\"pmts_dpdvalue_108P_over31\"),\n",
    ")\n",
    "\n",
    "# We will process in this examples only A-type and M-type columns, so we need to select them.\n",
    "selected_static_cols = []\n",
    "for col in train_static.columns:\n",
    "    if col[-1] in (\"A\", \"M\"):\n",
    "        selected_static_cols.append(col)\n",
    "print(selected_static_cols)\n",
    "\n",
    "selected_static_cb_cols = []\n",
    "for col in train_static_cb.columns:\n",
    "    if col[-1] in (\"A\", \"M\"):\n",
    "        selected_static_cb_cols.append(col)\n",
    "print(selected_static_cb_cols)\n",
    "\n",
    "# Join all tables together.\n",
    "data = (\n",
    "    train_basetable.join(\n",
    "        train_static.select([\"case_id\"] + selected_static_cols),\n",
    "        how=\"left\",\n",
    "        on=\"case_id\",\n",
    "    )\n",
    "    .join(\n",
    "        train_static_cb.select([\"case_id\"] + selected_static_cb_cols),\n",
    "        how=\"left\",\n",
    "        on=\"case_id\",\n",
    "    )\n",
    "    .join(train_person_1_feats_1, how=\"left\", on=\"case_id\")\n",
    "    .join(train_person_1_feats_2, how=\"left\", on=\"case_id\")\n",
    "    .join(train_credit_bureau_b_2_feats, how=\"left\", on=\"case_id\")\n",
    ")"
   ]
  },
  {
   "cell_type": "code",
   "execution_count": 53,
   "metadata": {},
   "outputs": [
    {
     "name": "stdout",
     "output_type": "stream",
     "text": [
      "['amtinstpaidbefduel24m_4187115A', 'annuity_780A', 'annuitynextmonth_57A', 'avginstallast24m_3658937A', 'avglnamtstart24m_4525187A', 'avgoutstandbalancel6m_4187114A', 'avgpmtlast12m_4525200A', 'credamount_770A', 'currdebt_22A', 'currdebtcredtyperange_828A', 'disbursedcredamount_1113A', 'downpmt_116A', 'inittransactionamount_650A', 'lastapprcommoditycat_1041M', 'lastapprcommoditytypec_5251766M', 'lastapprcredamount_781A', 'lastcancelreason_561M', 'lastotherinc_902A', 'lastotherlnsexpense_631A', 'lastrejectcommoditycat_161M', 'lastrejectcommodtypec_5251769M', 'lastrejectcredamount_222A', 'lastrejectreason_759M', 'lastrejectreasonclient_4145040M', 'maininc_215A', 'maxannuity_159A', 'maxannuity_4075009A', 'maxdebt4_972A', 'maxinstallast24m_3658928A', 'maxlnamtstart6m_4525199A', 'maxoutstandbalancel12m_4187113A', 'maxpmtlast3m_4525190A', 'previouscontdistrict_112M', 'price_1097A', 'sumoutstandtotal_3546847A', 'sumoutstandtotalest_4493215A', 'totaldebt_9A', 'totalsettled_863A', 'totinstallast1m_4525188A', 'description_5085714M', 'education_1103M', 'education_88M', 'maritalst_385M', 'maritalst_893M', 'pmtaverage_3A', 'pmtaverage_4527227A', 'pmtaverage_4955615A', 'pmtssum_45A']\n"
     ]
    }
   ],
   "source": [
    "case_ids = data[\"case_id\"].unique().shuffle(seed=1)\n",
    "case_ids_train, case_ids_test = train_test_split(\n",
    "    case_ids, train_size=0.6, random_state=1\n",
    ")\n",
    "case_ids_valid, case_ids_test = train_test_split(\n",
    "    case_ids_test, train_size=0.5, random_state=1\n",
    ")\n",
    "\n",
    "cols_pred = []\n",
    "for col in data.columns:\n",
    "    if col[-1].isupper() and col[:-1].islower():\n",
    "        cols_pred.append(col)\n",
    "\n",
    "print(cols_pred)\n",
    "\n",
    "\n",
    "def from_polars_to_pandas(case_ids: pl.DataFrame) -> pl.DataFrame:\n",
    "    return (\n",
    "        data.filter(pl.col(\"case_id\").is_in(case_ids))[\n",
    "            [\"case_id\", \"WEEK_NUM\", \"target\"]\n",
    "        ].to_pandas(),\n",
    "        data.filter(pl.col(\"case_id\").is_in(case_ids))[cols_pred].to_pandas(),\n",
    "        data.filter(pl.col(\"case_id\").is_in(case_ids))[\"target\"].to_pandas(),\n",
    "    )\n",
    "\n",
    "\n",
    "base_train, X_train, y_train = from_polars_to_pandas(case_ids_train)\n",
    "base_valid, X_valid, y_valid = from_polars_to_pandas(case_ids_valid)\n",
    "base_test, X_test, y_test = from_polars_to_pandas(case_ids_test)\n",
    "\n",
    "for df in [X_train, X_valid, X_test]:\n",
    "    df = convert_strings(df)"
   ]
  },
  {
   "cell_type": "code",
   "execution_count": 54,
   "metadata": {},
   "outputs": [
    {
     "name": "stderr",
     "output_type": "stream",
     "text": [
      "/Users/farazjawed/miniconda3/lib/python3.11/site-packages/lightgbm/engine.py:172: UserWarning: Found `n_estimators` in params. Will use it instead of argument\n",
      "  _log_warning(f\"Found `{alias}` in params. Will use it instead of argument\")\n"
     ]
    },
    {
     "name": "stdout",
     "output_type": "stream",
     "text": [
      "Training until validation scores don't improve for 10 rounds\n",
      "[50]\ttraining's auc: 0.706346\tvalid_1's auc: 0.705963\n",
      "[100]\ttraining's auc: 0.726077\tvalid_1's auc: 0.724362\n",
      "[150]\ttraining's auc: 0.734315\tvalid_1's auc: 0.731423\n",
      "[200]\ttraining's auc: 0.740133\tvalid_1's auc: 0.735874\n",
      "[250]\ttraining's auc: 0.744217\tvalid_1's auc: 0.739009\n",
      "[300]\ttraining's auc: 0.747163\tvalid_1's auc: 0.740965\n",
      "[350]\ttraining's auc: 0.750072\tvalid_1's auc: 0.742924\n",
      "[400]\ttraining's auc: 0.752661\tvalid_1's auc: 0.744582\n",
      "[450]\ttraining's auc: 0.754851\tvalid_1's auc: 0.745977\n",
      "[500]\ttraining's auc: 0.756586\tvalid_1's auc: 0.747033\n",
      "[550]\ttraining's auc: 0.758271\tvalid_1's auc: 0.747877\n",
      "[600]\ttraining's auc: 0.760103\tvalid_1's auc: 0.749039\n",
      "[650]\ttraining's auc: 0.761793\tvalid_1's auc: 0.750087\n",
      "[700]\ttraining's auc: 0.763201\tvalid_1's auc: 0.750863\n",
      "Early stopping, best iteration is:\n",
      "[739]\ttraining's auc: 0.764123\tvalid_1's auc: 0.751216\n"
     ]
    }
   ],
   "source": [
    "lgb_train = lgb.Dataset(X_train, label=y_train)\n",
    "lgb_valid = lgb.Dataset(X_valid, label=y_valid, reference=lgb_train)\n",
    "\n",
    "params = {\n",
    "    \"boosting_type\": \"gbdt\",\n",
    "    \"objective\": \"binary\",\n",
    "    \"metric\": \"auc\",\n",
    "    \"max_depth\": 3,\n",
    "    \"num_leaves\": 31,\n",
    "    \"learning_rate\": 0.05,\n",
    "    \"feature_fraction\": 0.9,\n",
    "    \"bagging_fraction\": 0.8,\n",
    "    \"bagging_freq\": 5,\n",
    "    \"n_estimators\": 1000,\n",
    "    \"verbose\": -1,\n",
    "}\n",
    "\n",
    "gbm = lgb.train(\n",
    "    params,\n",
    "    lgb_train,\n",
    "    valid_sets=[lgb_train, lgb_valid],\n",
    "    callbacks=[lgb.log_evaluation(50), lgb.early_stopping(10)],\n",
    ")"
   ]
  },
  {
   "cell_type": "code",
   "execution_count": 55,
   "metadata": {},
   "outputs": [
    {
     "name": "stdout",
     "output_type": "stream",
     "text": [
      "The AUC score on the train set is: 0.764122917660593\n",
      "The AUC score on the valid set is: 0.7512157223309048\n",
      "The AUC score on the test set is: 0.7483072129459662\n",
      "------\n",
      "The AUC score on the train set is: 0.764122917660593\n",
      "The AUC score on the valid set is: 0.7512157223309048\n",
      "The AUC score on the test set is: 0.7483072129459662\n"
     ]
    }
   ],
   "source": [
    "for base, X in [(base_train, X_train), (base_valid, X_valid), (base_test, X_test)]:\n",
    "    y_pred = gbm.predict(X, num_iteration=gbm.best_iteration)\n",
    "    base[\"score\"] = y_pred\n",
    "\n",
    "lgb_roc_train = roc_auc_score(base_train[\"target\"], base_train[\"score\"])\n",
    "lgb_roc_valid = roc_auc_score(base_valid[\"target\"], base_valid[\"score\"])\n",
    "lgb_roc_test = roc_auc_score(base_test[\"target\"], base_test[\"score\"])\n",
    "\n",
    "print(f\"The AUC score on the train set is: {lgb_roc_train}\")\n",
    "print(f\"The AUC score on the valid set is: {lgb_roc_valid}\")\n",
    "print(f\"The AUC score on the test set is: {lgb_roc_test}\")\n",
    "\n",
    "print(\"------\")\n",
    "\n",
    "print(\n",
    "    f'The AUC score on the train set is: {roc_auc_score(base_train[\"target\"], base_train[\"score\"])}'\n",
    ")\n",
    "print(\n",
    "    f'The AUC score on the valid set is: {roc_auc_score(base_valid[\"target\"], base_valid[\"score\"])}'\n",
    ")\n",
    "print(\n",
    "    f'The AUC score on the test set is: {roc_auc_score(base_test[\"target\"], base_test[\"score\"])}'\n",
    ")"
   ]
  },
  {
   "cell_type": "code",
   "execution_count": 56,
   "metadata": {},
   "outputs": [
    {
     "name": "stdout",
     "output_type": "stream",
     "text": [
      "The stability score on the train set is: 0.4976648127691175\n",
      "The stability score on the valid set is: 0.4726726686264489\n",
      "The stability score on the test set is: 0.4583643686935092\n"
     ]
    }
   ],
   "source": [
    "def gini_stability(base, w_fallingrate=88.0, w_resstd=-0.5):\n",
    "    gini_in_time = (\n",
    "        base.loc[:, [\"WEEK_NUM\", \"target\", \"score\"]]\n",
    "        .sort_values(\"WEEK_NUM\")\n",
    "        .groupby(\"WEEK_NUM\")[[\"target\", \"score\"]]\n",
    "        .apply(lambda x: 2 * roc_auc_score(x[\"target\"], x[\"score\"]) - 1)\n",
    "        .tolist()\n",
    "    )\n",
    "\n",
    "    x = np.arange(len(gini_in_time))\n",
    "    y = gini_in_time\n",
    "    a, b = np.polyfit(x, y, 1)\n",
    "    y_hat = a * x + b\n",
    "    residuals = y - y_hat\n",
    "    res_std = np.std(residuals)\n",
    "    avg_gini = np.mean(gini_in_time)\n",
    "    return avg_gini + w_fallingrate * min(0, a) + w_resstd * res_std\n",
    "\n",
    "\n",
    "lgb_stability_score_train = gini_stability(base_train)\n",
    "lgb_stability_score_valid = gini_stability(base_valid)\n",
    "lgb_stability_score_test = gini_stability(base_test)\n",
    "\n",
    "print(f\"The stability score on the train set is: {lgb_stability_score_train}\")\n",
    "print(f\"The stability score on the valid set is: {lgb_stability_score_valid}\")\n",
    "print(f\"The stability score on the test set is: {lgb_stability_score_test}\")"
   ]
  },
  {
   "cell_type": "markdown",
   "metadata": {},
   "source": [
    "XGBoost"
   ]
  },
  {
   "cell_type": "code",
   "execution_count": 78,
   "metadata": {},
   "outputs": [
    {
     "name": "stdout",
     "output_type": "stream",
     "text": [
      "[0]\ttrain-auc:0.69535\tvalid-auc:0.55697\n",
      "[50]\ttrain-auc:0.81832\tvalid-auc:0.68261\n",
      "[100]\ttrain-auc:0.85976\tvalid-auc:0.70523\n",
      "[104]\ttrain-auc:0.86140\tvalid-auc:0.70336\n"
     ]
    }
   ],
   "source": [
    "# do the same as above for XGBoost\n",
    "\n",
    "import xgboost as xgb\n",
    "\n",
    "dtrain = xgb.DMatrix(X_train, label=y_train, enable_categorical=True)\n",
    "dvalid = xgb.DMatrix(X_valid, label=y_valid, enable_categorical=True)\n",
    "\n",
    "params = {\n",
    "    \"objective\": \"binary:logistic\",\n",
    "    \"eval_metric\": \"auc\",\n",
    "    \"max_depth\": 10,\n",
    "    \"eta\": 0.05,\n",
    "    \"subsample\": 0.8,\n",
    "    \"colsample_bytree\": 0.8,\n",
    "    \"n_estimators\": 1000,\n",
    "    \"verbosity\": 0,\n",
    "}\n",
    "\n",
    "watchlist = [(dtrain, \"train\"), (dvalid, \"valid\")]\n",
    "\n",
    "xgb_model = xgb.train(\n",
    "    params,\n",
    "    dtrain,\n",
    "    num_boost_round=1000,\n",
    "    evals=watchlist,\n",
    "    early_stopping_rounds=15,\n",
    "    verbose_eval=50,\n",
    ")"
   ]
  },
  {
   "cell_type": "code",
   "execution_count": 79,
   "metadata": {},
   "outputs": [
    {
     "name": "stdout",
     "output_type": "stream",
     "text": [
      "------\n",
      "The AUC score on the train set is: 0.8614036122643383\n",
      "The AUC score on the valid set is: 0.7033600451870209\n",
      "The AUC score on the test set is: 0.7085760103695176\n"
     ]
    }
   ],
   "source": [
    "dtest = xgb.DMatrix(X_test, enable_categorical=True)\n",
    "\n",
    "for base, X in [(base_train, X_train), (base_valid, X_valid), (base_test, X_test)]:\n",
    "    d = xgb.DMatrix(X, enable_categorical=True)\n",
    "    y_pred = xgb_model.predict(d)\n",
    "    base[\"score\"] = y_pred\n",
    "\n",
    "xgb_roc_train = roc_auc_score(base_train[\"target\"], base_train[\"score\"])\n",
    "xgb_roc_valid = roc_auc_score(base_valid[\"target\"], base_valid[\"score\"])\n",
    "xgb_roc_test = roc_auc_score(base_test[\"target\"], base_test[\"score\"])\n",
    "\n",
    "print(\"------\")\n",
    "\n",
    "print(\n",
    "    f'The AUC score on the train set is: {roc_auc_score(base_train[\"target\"], base_train[\"score\"])}'\n",
    ")\n",
    "\n",
    "print(\n",
    "    f'The AUC score on the valid set is: {roc_auc_score(base_valid[\"target\"], base_valid[\"score\"])}'\n",
    ")\n",
    "\n",
    "print(\n",
    "    f'The AUC score on the test set is: {roc_auc_score(base_test[\"target\"], base_test[\"score\"])}'\n",
    ")"
   ]
  },
  {
   "cell_type": "code",
   "execution_count": 80,
   "metadata": {},
   "outputs": [
    {
     "name": "stdout",
     "output_type": "stream",
     "text": [
      "The stability score on the train set is: 0.7093855596344508\n",
      "The stability score on the valid set is: 0.3802748356115785\n",
      "The stability score on the test set is: 0.3728889288284678\n"
     ]
    }
   ],
   "source": [
    "xgb_stability_score_train = gini_stability(base_train)\n",
    "\n",
    "xgb_stability_score_valid = gini_stability(base_valid)\n",
    "\n",
    "xgb_stability_score_test = gini_stability(base_test)\n",
    "\n",
    "print(f\"The stability score on the train set is: {xgb_stability_score_train}\")\n",
    "\n",
    "print(f\"The stability score on the valid set is: {xgb_stability_score_valid}\")\n",
    "\n",
    "print(f\"The stability score on the test set is: {xgb_stability_score_test}\")"
   ]
  },
  {
   "cell_type": "code",
   "execution_count": 60,
   "metadata": {},
   "outputs": [
    {
     "name": "stdout",
     "output_type": "stream",
     "text": [
      "0:\ttest: 0.5427875\tbest: 0.5427875 (0)\ttotal: 615ms\tremaining: 10m 14s\n",
      "Stopped by overfitting detector  (10 iterations wait)\n",
      "\n",
      "bestTest = 0.6805735299\n",
      "bestIteration = 30\n",
      "\n",
      "Shrink model to first 31 iterations.\n"
     ]
    },
    {
     "data": {
      "text/plain": [
       "<catboost.core.CatBoost at 0x2bedb42d0>"
      ]
     },
     "execution_count": 60,
     "metadata": {},
     "output_type": "execute_result"
    }
   ],
   "source": [
    "# do the same as above for CatBoost\n",
    "\n",
    "import catboost as cb\n",
    "\n",
    "# fill nan with mode for categorical columns\n",
    "\n",
    "# Fill NaN with mode for each column in your dataframe\n",
    "for column in X_train.columns:\n",
    "    X_train[column].fillna(X_train[column].mode()[0], inplace=True)\n",
    "\n",
    "for column in X_valid.columns:\n",
    "    X_valid[column].fillna(X_valid[column].mode()[0], inplace=True)\n",
    "\n",
    "cat_features = X_train.select_dtypes(include=[\"category\"]).columns.tolist()\n",
    "\n",
    "train_pool = cb.Pool(X_train, y_train, cat_features=cat_features)\n",
    "valid_pool = cb.Pool(X_valid, y_valid, cat_features=cat_features)\n",
    "\n",
    "params = {\n",
    "    \"loss_function\": \"Logloss\",\n",
    "    \"eval_metric\": \"AUC\",\n",
    "    \"depth\": 3,\n",
    "    \"learning_rate\": 0.05,\n",
    "    \"l2_leaf_reg\": 3,\n",
    "    \"iterations\": 1000,\n",
    "    \"verbose\": 50,\n",
    "}\n",
    "\n",
    "cb_model = cb.CatBoost(params)\n",
    "cb_model.fit(train_pool, eval_set=valid_pool, early_stopping_rounds=10, verbose=50)"
   ]
  },
  {
   "cell_type": "code",
   "execution_count": 61,
   "metadata": {},
   "outputs": [
    {
     "name": "stdout",
     "output_type": "stream",
     "text": [
      "------\n",
      "The AUC score on the train set is: 0.6783064729924821\n",
      "The AUC score on the valid set is: 0.6805735299222451\n",
      "The AUC score on the test set is: 0.6750788941275945\n",
      "The stability score on the train set is: 0.3171432810595581\n",
      "The stability score on the valid set is: 0.3206886314866385\n",
      "The stability score on the test set is: 0.30648998373635555\n"
     ]
    }
   ],
   "source": [
    "for col in X_test.columns:\n",
    "    X_test[col].fillna(X_test[col].mode()[0], inplace=True)\n",
    "\n",
    "\n",
    "for base, X in [(base_train, X_train), (base_valid, X_valid), (base_test, X_test)]:\n",
    "\n",
    "    y_pred = cb_model.predict(X)\n",
    "\n",
    "    base[\"score\"] = y_pred\n",
    "\n",
    "cb_roc_train = roc_auc_score(base_train[\"target\"], base_train[\"score\"])\n",
    "cb_roc_valid = roc_auc_score(base_valid[\"target\"], base_valid[\"score\"])\n",
    "cb_roc_test = roc_auc_score(base_test[\"target\"], base_test[\"score\"])\n",
    "\n",
    "print(\"------\")\n",
    "\n",
    "print(\n",
    "    f'The AUC score on the train set is: {roc_auc_score(base_train[\"target\"], base_train[\"score\"])}'\n",
    ")\n",
    "\n",
    "print(\n",
    "    f'The AUC score on the valid set is: {roc_auc_score(base_valid[\"target\"], base_valid[\"score\"])}'\n",
    ")\n",
    "\n",
    "print(\n",
    "    f'The AUC score on the test set is: {roc_auc_score(base_test[\"target\"], base_test[\"score\"])}'\n",
    ")\n",
    "\n",
    "cb_stability_score_train = gini_stability(base_train)\n",
    "\n",
    "cb_stability_score_valid = gini_stability(base_valid)\n",
    "\n",
    "cb_stability_score_test = gini_stability(base_test)\n",
    "\n",
    "print(f\"The stability score on the train set is: {cb_stability_score_train}\")\n",
    "\n",
    "print(f\"The stability score on the valid set is: {cb_stability_score_valid}\")\n",
    "\n",
    "print(f\"The stability score on the test set is: {cb_stability_score_test}\")"
   ]
  },
  {
   "cell_type": "code",
   "execution_count": 33,
   "metadata": {},
   "outputs": [
    {
     "data": {
      "text/html": [
       "<style>#sk-container-id-1 {color: black;}#sk-container-id-1 pre{padding: 0;}#sk-container-id-1 div.sk-toggleable {background-color: white;}#sk-container-id-1 label.sk-toggleable__label {cursor: pointer;display: block;width: 100%;margin-bottom: 0;padding: 0.3em;box-sizing: border-box;text-align: center;}#sk-container-id-1 label.sk-toggleable__label-arrow:before {content: \"▸\";float: left;margin-right: 0.25em;color: #696969;}#sk-container-id-1 label.sk-toggleable__label-arrow:hover:before {color: black;}#sk-container-id-1 div.sk-estimator:hover label.sk-toggleable__label-arrow:before {color: black;}#sk-container-id-1 div.sk-toggleable__content {max-height: 0;max-width: 0;overflow: hidden;text-align: left;background-color: #f0f8ff;}#sk-container-id-1 div.sk-toggleable__content pre {margin: 0.2em;color: black;border-radius: 0.25em;background-color: #f0f8ff;}#sk-container-id-1 input.sk-toggleable__control:checked~div.sk-toggleable__content {max-height: 200px;max-width: 100%;overflow: auto;}#sk-container-id-1 input.sk-toggleable__control:checked~label.sk-toggleable__label-arrow:before {content: \"▾\";}#sk-container-id-1 div.sk-estimator input.sk-toggleable__control:checked~label.sk-toggleable__label {background-color: #d4ebff;}#sk-container-id-1 div.sk-label input.sk-toggleable__control:checked~label.sk-toggleable__label {background-color: #d4ebff;}#sk-container-id-1 input.sk-hidden--visually {border: 0;clip: rect(1px 1px 1px 1px);clip: rect(1px, 1px, 1px, 1px);height: 1px;margin: -1px;overflow: hidden;padding: 0;position: absolute;width: 1px;}#sk-container-id-1 div.sk-estimator {font-family: monospace;background-color: #f0f8ff;border: 1px dotted black;border-radius: 0.25em;box-sizing: border-box;margin-bottom: 0.5em;}#sk-container-id-1 div.sk-estimator:hover {background-color: #d4ebff;}#sk-container-id-1 div.sk-parallel-item::after {content: \"\";width: 100%;border-bottom: 1px solid gray;flex-grow: 1;}#sk-container-id-1 div.sk-label:hover label.sk-toggleable__label {background-color: #d4ebff;}#sk-container-id-1 div.sk-serial::before {content: \"\";position: absolute;border-left: 1px solid gray;box-sizing: border-box;top: 0;bottom: 0;left: 50%;z-index: 0;}#sk-container-id-1 div.sk-serial {display: flex;flex-direction: column;align-items: center;background-color: white;padding-right: 0.2em;padding-left: 0.2em;position: relative;}#sk-container-id-1 div.sk-item {position: relative;z-index: 1;}#sk-container-id-1 div.sk-parallel {display: flex;align-items: stretch;justify-content: center;background-color: white;position: relative;}#sk-container-id-1 div.sk-item::before, #sk-container-id-1 div.sk-parallel-item::before {content: \"\";position: absolute;border-left: 1px solid gray;box-sizing: border-box;top: 0;bottom: 0;left: 50%;z-index: -1;}#sk-container-id-1 div.sk-parallel-item {display: flex;flex-direction: column;z-index: 1;position: relative;background-color: white;}#sk-container-id-1 div.sk-parallel-item:first-child::after {align-self: flex-end;width: 50%;}#sk-container-id-1 div.sk-parallel-item:last-child::after {align-self: flex-start;width: 50%;}#sk-container-id-1 div.sk-parallel-item:only-child::after {width: 0;}#sk-container-id-1 div.sk-dashed-wrapped {border: 1px dashed gray;margin: 0 0.4em 0.5em 0.4em;box-sizing: border-box;padding-bottom: 0.4em;background-color: white;}#sk-container-id-1 div.sk-label label {font-family: monospace;font-weight: bold;display: inline-block;line-height: 1.2em;}#sk-container-id-1 div.sk-label-container {text-align: center;}#sk-container-id-1 div.sk-container {/* jupyter's `normalize.less` sets `[hidden] { display: none; }` but bootstrap.min.css set `[hidden] { display: none !important; }` so we also need the `!important` here to be able to override the default hidden behavior on the sphinx rendered scikit-learn.org. See: https://github.com/scikit-learn/scikit-learn/issues/21755 */display: inline-block !important;position: relative;}#sk-container-id-1 div.sk-text-repr-fallback {display: none;}</style><div id=\"sk-container-id-1\" class=\"sk-top-container\"><div class=\"sk-text-repr-fallback\"><pre>RandomForestClassifier(random_state=1)</pre><b>In a Jupyter environment, please rerun this cell to show the HTML representation or trust the notebook. <br />On GitHub, the HTML representation is unable to render, please try loading this page with nbviewer.org.</b></div><div class=\"sk-container\" hidden><div class=\"sk-item\"><div class=\"sk-estimator sk-toggleable\"><input class=\"sk-toggleable__control sk-hidden--visually\" id=\"sk-estimator-id-1\" type=\"checkbox\" checked><label for=\"sk-estimator-id-1\" class=\"sk-toggleable__label sk-toggleable__label-arrow\">RandomForestClassifier</label><div class=\"sk-toggleable__content\"><pre>RandomForestClassifier(random_state=1)</pre></div></div></div></div></div>"
      ],
      "text/plain": [
       "RandomForestClassifier(random_state=1)"
      ]
     },
     "execution_count": 33,
     "metadata": {},
     "output_type": "execute_result"
    }
   ],
   "source": [
    "# #random forest\n",
    "# from sklearn.ensemble import RandomForestClassifier\n",
    "# rf = RandomForestClassifier(n_estimators=100, random_state=1)\n",
    "\n",
    "# X_train_encoded = pd.get_dummies(X_train)\n",
    "# rf.fit(X_train_encoded, y_train)"
   ]
  },
  {
   "cell_type": "code",
   "execution_count": 62,
   "metadata": {},
   "outputs": [],
   "source": [
    "# remove categorical variables from X_train, X_valid and X_test\n",
    "\n",
    "X_train_rf = X_train.select_dtypes(exclude=[\"category\"])\n",
    "\n",
    "X_valid_rf = X_valid.select_dtypes(exclude=[\"category\"])\n",
    "\n",
    "X_test_rf = X_test.select_dtypes(exclude=[\"category\"])"
   ]
  },
  {
   "cell_type": "code",
   "execution_count": 63,
   "metadata": {},
   "outputs": [
    {
     "data": {
      "text/html": [
       "<style>#sk-container-id-3 {color: black;}#sk-container-id-3 pre{padding: 0;}#sk-container-id-3 div.sk-toggleable {background-color: white;}#sk-container-id-3 label.sk-toggleable__label {cursor: pointer;display: block;width: 100%;margin-bottom: 0;padding: 0.3em;box-sizing: border-box;text-align: center;}#sk-container-id-3 label.sk-toggleable__label-arrow:before {content: \"▸\";float: left;margin-right: 0.25em;color: #696969;}#sk-container-id-3 label.sk-toggleable__label-arrow:hover:before {color: black;}#sk-container-id-3 div.sk-estimator:hover label.sk-toggleable__label-arrow:before {color: black;}#sk-container-id-3 div.sk-toggleable__content {max-height: 0;max-width: 0;overflow: hidden;text-align: left;background-color: #f0f8ff;}#sk-container-id-3 div.sk-toggleable__content pre {margin: 0.2em;color: black;border-radius: 0.25em;background-color: #f0f8ff;}#sk-container-id-3 input.sk-toggleable__control:checked~div.sk-toggleable__content {max-height: 200px;max-width: 100%;overflow: auto;}#sk-container-id-3 input.sk-toggleable__control:checked~label.sk-toggleable__label-arrow:before {content: \"▾\";}#sk-container-id-3 div.sk-estimator input.sk-toggleable__control:checked~label.sk-toggleable__label {background-color: #d4ebff;}#sk-container-id-3 div.sk-label input.sk-toggleable__control:checked~label.sk-toggleable__label {background-color: #d4ebff;}#sk-container-id-3 input.sk-hidden--visually {border: 0;clip: rect(1px 1px 1px 1px);clip: rect(1px, 1px, 1px, 1px);height: 1px;margin: -1px;overflow: hidden;padding: 0;position: absolute;width: 1px;}#sk-container-id-3 div.sk-estimator {font-family: monospace;background-color: #f0f8ff;border: 1px dotted black;border-radius: 0.25em;box-sizing: border-box;margin-bottom: 0.5em;}#sk-container-id-3 div.sk-estimator:hover {background-color: #d4ebff;}#sk-container-id-3 div.sk-parallel-item::after {content: \"\";width: 100%;border-bottom: 1px solid gray;flex-grow: 1;}#sk-container-id-3 div.sk-label:hover label.sk-toggleable__label {background-color: #d4ebff;}#sk-container-id-3 div.sk-serial::before {content: \"\";position: absolute;border-left: 1px solid gray;box-sizing: border-box;top: 0;bottom: 0;left: 50%;z-index: 0;}#sk-container-id-3 div.sk-serial {display: flex;flex-direction: column;align-items: center;background-color: white;padding-right: 0.2em;padding-left: 0.2em;position: relative;}#sk-container-id-3 div.sk-item {position: relative;z-index: 1;}#sk-container-id-3 div.sk-parallel {display: flex;align-items: stretch;justify-content: center;background-color: white;position: relative;}#sk-container-id-3 div.sk-item::before, #sk-container-id-3 div.sk-parallel-item::before {content: \"\";position: absolute;border-left: 1px solid gray;box-sizing: border-box;top: 0;bottom: 0;left: 50%;z-index: -1;}#sk-container-id-3 div.sk-parallel-item {display: flex;flex-direction: column;z-index: 1;position: relative;background-color: white;}#sk-container-id-3 div.sk-parallel-item:first-child::after {align-self: flex-end;width: 50%;}#sk-container-id-3 div.sk-parallel-item:last-child::after {align-self: flex-start;width: 50%;}#sk-container-id-3 div.sk-parallel-item:only-child::after {width: 0;}#sk-container-id-3 div.sk-dashed-wrapped {border: 1px dashed gray;margin: 0 0.4em 0.5em 0.4em;box-sizing: border-box;padding-bottom: 0.4em;background-color: white;}#sk-container-id-3 div.sk-label label {font-family: monospace;font-weight: bold;display: inline-block;line-height: 1.2em;}#sk-container-id-3 div.sk-label-container {text-align: center;}#sk-container-id-3 div.sk-container {/* jupyter's `normalize.less` sets `[hidden] { display: none; }` but bootstrap.min.css set `[hidden] { display: none !important; }` so we also need the `!important` here to be able to override the default hidden behavior on the sphinx rendered scikit-learn.org. See: https://github.com/scikit-learn/scikit-learn/issues/21755 */display: inline-block !important;position: relative;}#sk-container-id-3 div.sk-text-repr-fallback {display: none;}</style><div id=\"sk-container-id-3\" class=\"sk-top-container\"><div class=\"sk-text-repr-fallback\"><pre>RandomForestClassifier(random_state=1)</pre><b>In a Jupyter environment, please rerun this cell to show the HTML representation or trust the notebook. <br />On GitHub, the HTML representation is unable to render, please try loading this page with nbviewer.org.</b></div><div class=\"sk-container\" hidden><div class=\"sk-item\"><div class=\"sk-estimator sk-toggleable\"><input class=\"sk-toggleable__control sk-hidden--visually\" id=\"sk-estimator-id-3\" type=\"checkbox\" checked><label for=\"sk-estimator-id-3\" class=\"sk-toggleable__label sk-toggleable__label-arrow\">RandomForestClassifier</label><div class=\"sk-toggleable__content\"><pre>RandomForestClassifier(random_state=1)</pre></div></div></div></div></div>"
      ],
      "text/plain": [
       "RandomForestClassifier(random_state=1)"
      ]
     },
     "execution_count": 63,
     "metadata": {},
     "output_type": "execute_result"
    }
   ],
   "source": [
    "from sklearn.ensemble import RandomForestClassifier\n",
    "\n",
    "rf2 = RandomForestClassifier(n_estimators=100, random_state=1)\n",
    "\n",
    "rf2.fit(X_train_rf, y_train)"
   ]
  },
  {
   "cell_type": "code",
   "execution_count": 36,
   "metadata": {},
   "outputs": [],
   "source": [
    "# X_valid_encoded = pd.get_dummies(X_valid)\n",
    "\n",
    "# X_test_encoded = pd.get_dummies(X_test)"
   ]
  },
  {
   "cell_type": "code",
   "execution_count": 64,
   "metadata": {},
   "outputs": [
    {
     "name": "stdout",
     "output_type": "stream",
     "text": [
      "The AUC score on the train set is: 0.9996762922710531\n",
      "The AUC score on the valid set is: 0.650666122453193\n",
      "The AUC score on the test set is: 0.6628267506859472\n"
     ]
    }
   ],
   "source": [
    "for base, X in [\n",
    "    (base_train, X_train_rf),\n",
    "    (base_valid, X_valid_rf),\n",
    "    (base_test, X_test_rf),\n",
    "]:\n",
    "\n",
    "    y_pred = rf2.predict_proba(X)[:, 1]\n",
    "\n",
    "    base[\"score\"] = y_pred\n",
    "\n",
    "rf_roc_train = roc_auc_score(base_train[\"target\"], base_train[\"score\"])\n",
    "rf_roc_valid = roc_auc_score(base_valid[\"target\"], base_valid[\"score\"])\n",
    "rf_roc_test = roc_auc_score(base_test[\"target\"], base_test[\"score\"])\n",
    "\n",
    "\n",
    "print(\n",
    "    f'The AUC score on the train set is: {roc_auc_score(base_train[\"target\"], base_train[\"score\"])}'\n",
    ")\n",
    "\n",
    "print(\n",
    "    f'The AUC score on the valid set is: {roc_auc_score(base_valid[\"target\"], base_valid[\"score\"])}'\n",
    ")\n",
    "\n",
    "print(\n",
    "    f'The AUC score on the test set is: {roc_auc_score(base_test[\"target\"], base_test[\"score\"])}'\n",
    ")"
   ]
  },
  {
   "cell_type": "code",
   "execution_count": 65,
   "metadata": {},
   "outputs": [
    {
     "name": "stdout",
     "output_type": "stream",
     "text": [
      "The stability score on the train set is: 0.999011755828809\n",
      "The stability score on the valid set is: 0.2674629806830987\n",
      "The stability score on the test set is: 0.2885238959093119\n"
     ]
    }
   ],
   "source": [
    "rf_stability_score_train = gini_stability(base_train)\n",
    "\n",
    "rf_stability_score_valid = gini_stability(base_valid)\n",
    "\n",
    "rf_stability_score_test = gini_stability(base_test)\n",
    "\n",
    "print(f\"The stability score on the train set is: {rf_stability_score_train}\")\n",
    "\n",
    "print(f\"The stability score on the valid set is: {rf_stability_score_valid}\")\n",
    "\n",
    "print(f\"The stability score on the test set is: {rf_stability_score_test}\")"
   ]
  },
  {
   "cell_type": "code",
   "execution_count": 81,
   "metadata": {},
   "outputs": [],
   "source": [
    "# now create a table with the results\n",
    "\n",
    "results = pd.DataFrame(\n",
    "    {\n",
    "        \"Model\": [\"LightGBM\", \"XGBoost\", \"CatBoost\", \"Random Forest\"],\n",
    "        \"AUC Train\": [lgb_roc_train, xgb_roc_train, cb_roc_train, rf_roc_train],\n",
    "        \"AUC Valid\": [lgb_roc_valid, xgb_roc_valid, cb_roc_valid, rf_roc_valid],\n",
    "        \"AUC Test\": [lgb_roc_test, xgb_roc_test, cb_roc_test, rf_roc_test],\n",
    "        \"Stability Train\": [\n",
    "            lgb_stability_score_train,\n",
    "            xgb_stability_score_train,\n",
    "            cb_stability_score_train,\n",
    "            rf_stability_score_train,\n",
    "        ],\n",
    "        \"Stability Valid\": [\n",
    "            lgb_stability_score_valid,\n",
    "            xgb_stability_score_valid,\n",
    "            cb_stability_score_valid,\n",
    "            rf_stability_score_valid,\n",
    "        ],\n",
    "        \"Stability Test\": [\n",
    "            lgb_stability_score_test,\n",
    "            xgb_stability_score_test,\n",
    "            cb_stability_score_test,\n",
    "            rf_stability_score_test,\n",
    "        ],\n",
    "    }\n",
    ")"
   ]
  },
  {
   "cell_type": "code",
   "execution_count": 82,
   "metadata": {},
   "outputs": [
    {
     "data": {
      "text/html": [
       "<div>\n",
       "<style scoped>\n",
       "    .dataframe tbody tr th:only-of-type {\n",
       "        vertical-align: middle;\n",
       "    }\n",
       "\n",
       "    .dataframe tbody tr th {\n",
       "        vertical-align: top;\n",
       "    }\n",
       "\n",
       "    .dataframe thead th {\n",
       "        text-align: right;\n",
       "    }\n",
       "</style>\n",
       "<table border=\"1\" class=\"dataframe\">\n",
       "  <thead>\n",
       "    <tr style=\"text-align: right;\">\n",
       "      <th></th>\n",
       "      <th>Model</th>\n",
       "      <th>AUC Train</th>\n",
       "      <th>AUC Valid</th>\n",
       "      <th>AUC Test</th>\n",
       "      <th>Stability Train</th>\n",
       "      <th>Stability Valid</th>\n",
       "      <th>Stability Test</th>\n",
       "    </tr>\n",
       "  </thead>\n",
       "  <tbody>\n",
       "    <tr>\n",
       "      <th>0</th>\n",
       "      <td>LightGBM</td>\n",
       "      <td>0.764123</td>\n",
       "      <td>0.751216</td>\n",
       "      <td>0.748307</td>\n",
       "      <td>0.497665</td>\n",
       "      <td>0.472673</td>\n",
       "      <td>0.458364</td>\n",
       "    </tr>\n",
       "    <tr>\n",
       "      <th>1</th>\n",
       "      <td>XGBoost</td>\n",
       "      <td>0.861404</td>\n",
       "      <td>0.703360</td>\n",
       "      <td>0.708576</td>\n",
       "      <td>0.709386</td>\n",
       "      <td>0.380275</td>\n",
       "      <td>0.372889</td>\n",
       "    </tr>\n",
       "    <tr>\n",
       "      <th>2</th>\n",
       "      <td>CatBoost</td>\n",
       "      <td>0.678306</td>\n",
       "      <td>0.680574</td>\n",
       "      <td>0.675079</td>\n",
       "      <td>0.317143</td>\n",
       "      <td>0.320689</td>\n",
       "      <td>0.306490</td>\n",
       "    </tr>\n",
       "    <tr>\n",
       "      <th>3</th>\n",
       "      <td>Random Forest</td>\n",
       "      <td>0.999676</td>\n",
       "      <td>0.650666</td>\n",
       "      <td>0.662827</td>\n",
       "      <td>0.999012</td>\n",
       "      <td>0.267463</td>\n",
       "      <td>0.288524</td>\n",
       "    </tr>\n",
       "  </tbody>\n",
       "</table>\n",
       "</div>"
      ],
      "text/plain": [
       "           Model  AUC Train  AUC Valid  AUC Test  Stability Train  \\\n",
       "0       LightGBM   0.764123   0.751216  0.748307         0.497665   \n",
       "1        XGBoost   0.861404   0.703360  0.708576         0.709386   \n",
       "2       CatBoost   0.678306   0.680574  0.675079         0.317143   \n",
       "3  Random Forest   0.999676   0.650666  0.662827         0.999012   \n",
       "\n",
       "   Stability Valid  Stability Test  \n",
       "0         0.472673        0.458364  \n",
       "1         0.380275        0.372889  \n",
       "2         0.320689        0.306490  \n",
       "3         0.267463        0.288524  "
      ]
     },
     "execution_count": 82,
     "metadata": {},
     "output_type": "execute_result"
    }
   ],
   "source": [
    "results"
   ]
  }
 ],
 "metadata": {
  "kernelspec": {
   "display_name": "base",
   "language": "python",
   "name": "python3"
  },
  "language_info": {
   "codemirror_mode": {
    "name": "ipython",
    "version": 3
   },
   "file_extension": ".py",
   "mimetype": "text/x-python",
   "name": "python",
   "nbconvert_exporter": "python",
   "pygments_lexer": "ipython3",
   "version": "3.11.5"
  }
 },
 "nbformat": 4,
 "nbformat_minor": 2
}
